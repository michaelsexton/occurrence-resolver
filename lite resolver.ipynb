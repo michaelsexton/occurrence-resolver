{
 "cells": [
  {
   "cell_type": "code",
   "execution_count": 140,
   "metadata": {},
   "outputs": [],
   "source": [
    "from resolver import OccurrenceResolver"
   ]
  },
  {
   "cell_type": "code",
   "execution_count": 1,
   "metadata": {},
   "outputs": [],
   "source": [
    "import requests\n",
    "from xml.etree import ElementTree"
   ]
  },
  {
   "cell_type": "code",
   "execution_count": 2,
   "metadata": {},
   "outputs": [],
   "source": [
    "services = {'wa' : {\n",
    "                'endpoint': 'http://geossdi.dmp.wa.gov.au/services/wfs',\n",
    "                'feature_type' : 'mo:MinOccView',\n",
    "                'er_version' : 1,\n",
    "                'lite_version': 1,\n",
    "            }, 'nt': {\n",
    "                'endpoint' : 'http://geology.data.nt.gov.au:80/geoserver/wfs',\n",
    "                'feature_type' : 'mo:MinOccView',\n",
    "                'er_version' : 1,\n",
    "                'lite_version': 1,\n",
    "            },  'vic': {\n",
    "                'endpoint': 'http://geology.data.vic.gov.au/nvcl/wfs',\n",
    "                'feature_type' : 'mo:MinOccView',\n",
    "                'er_version' : 1,\n",
    "                'lite_version': 1,\n",
    "            },  'sa': {\n",
    "                'endpoint': 'https://sarigdata.pir.sa.gov.au/nvcl/geoserver/wfs',\n",
    "                'feature_type' : 'erl:MineralOccurrenceView',\n",
    "                'lite_version': 2,\n",
    "                'er_version' : 1\n",
    "            },  'nsw': {\n",
    "                'endpoint': 'https://gs.geoscience.nsw.gov.au/geoserver/wfs',\n",
    "                'feature_type' : 'mo:MinOccView',\n",
    "                'lite_version': 1,\n",
    "                'er_version' : 1\n",
    "            },  'tas': {\n",
    "                'endpoint': 'http://www.mrt.tas.gov.au:80/web-services/wfs',\n",
    "                'feature_type' : 'erl:MineralOccurrenceView',\n",
    "                'lite_version': 1,\n",
    "                'er_version' : 2\n",
    "            }\n",
    "           }"
   ]
  },
  {
   "cell_type": "code",
   "execution_count": 3,
   "metadata": {},
   "outputs": [],
   "source": [
    "feature_types = {'mo:MinOccView' : {\n",
    "            'name' : 'mo:name',\n",
    "            'shape' : 'mo:shape/gml:Point/gml:pos',\n",
    "            'spec_uri' : 'mo:earthResourceSpecification_uri'\n",
    "        }, 'erl:MineralOccurrenceView' : {\n",
    "            'name' : 'erl:name',\n",
    "            'shape' : 'erl:shape/gml:Point/gml:pos',\n",
    "            'spec_uri' : 'erl:specification_uri'\n",
    "        }}"
   ]
  },
  {
   "cell_type": "code",
   "execution_count": 4,
   "metadata": {},
   "outputs": [],
   "source": [
    "ns = {'wfs': 'http://www.opengis.net/wfs',\n",
    "      'er': 'urn:cgi:xmlns:GGIC:EarthResource:1.1',\n",
    "     'gml':'http://www.opengis.net/gml',\n",
    "     'mo': 'http://xmlns.geoscience.gov.au/minoccml/1.0',\n",
    "     'gsml': 'urn:cgi:xmlns:CGI:GeoSciML:2.0'}"
   ]
  },
  {
   "cell_type": "code",
   "execution_count": 10,
   "metadata": {},
   "outputs": [
    {
     "name": "stdout",
     "output_type": "stream",
     "text": [
      "wa\n",
      "http://geossdi.dmp.wa.gov.au/resource/feature/gswa/mineraloccurrence/S0000001\n",
      "S0000001 Pieces of Eight - Admiral Hill -28.565092 122.480745 [('Au', 1, None), ('Ag', 2, None)]\n",
      "http://geossdi.dmp.wa.gov.au/resource/feature/gswa/mineraloccurrence/S0000002\n",
      "S0000002 Albury Heath -26.78737 118.574407 [('Au', 1, None)]\n",
      "http://geossdi.dmp.wa.gov.au/resource/feature/gswa/mineraloccurrence/S0000005\n",
      "S0000005 Aspacia -29.69063 121.012802 [('Au', 1, None)]\n",
      "nt\n",
      "http://geology.data.nt.gov.au/resource/feature/ntgs/mineraloccurrence/1\n",
      "1 er.mineraloccurrence.1 -15.1666737321045 129.090687555216 [('Coal', None, 'major')]\n",
      "http://geology.data.nt.gov.au/resource/feature/ntgs/mineraloccurrence/10\n",
      "10 er.mineraloccurrence.10 -17.2339668532906 131.255469431007 [('Qtza', None, 'major')]\n",
      "http://geology.data.nt.gov.au/resource/feature/ntgs/mineraloccurrence/100\n",
      "100 er.mineraloccurrence.100 -12.3601135984816 132.943601783326 [('U', None, 'major')]\n",
      "vic\n",
      "http://geology.data.vic.gov.au/resource/feature/GSV/mineraloccurrence/361023\n",
      "361023 er.mineraloccurrence.361023 -37.00704 147.19722 []\n",
      "http://geology.data.vic.gov.au/resource/feature/GSV/mineraloccurrence/361024\n",
      "361024 er.mineraloccurrence.361024 -37.03496 147.37232 []\n",
      "http://geology.data.vic.gov.au/resource/feature/GSV/mineraloccurrence/361025\n",
      "361025 er.mineraloccurrence.361025 -37.02911 147.16991 []\n",
      "sa\n",
      "nsw\n",
      "tas\n",
      "http://www.mrt.tas.gov.au/resource/feature/mrt/er/mineraloccurrence/1\n",
      "1 South Deposit 145.181132551295 -41.5099510254563 []\n",
      "http://www.mrt.tas.gov.au/resource/feature/mrt/er/mineraloccurrence/10\n",
      "10 Heathorns Prospect 2 147.831576479618 -41.2909181656179 []\n",
      "http://www.mrt.tas.gov.au/resource/feature/mrt/er/mineraloccurrence/100\n",
      "100 Investigator 22 143.994960908236 -40.0592890952226 []\n"
     ]
    }
   ],
   "source": [
    "for state, service in services.items():\n",
    "    print(state)\n",
    "    process_endpoints(state, service)"
   ]
  },
  {
   "cell_type": "code",
   "execution_count": 71,
   "metadata": {},
   "outputs": [],
   "source": [
    "def process_endpoints(state, service):\n",
    "    endpoint = service['endpoint']\n",
    "    feature_type = service['feature_type']\n",
    "\n",
    "    parameters = {'service': 'WFS',\n",
    "              'version' : '1.1.0',\n",
    "              'request' : 'GetFeature',\n",
    "              'typeName' : feature_type,\n",
    "              'maxFeatures' : 3}\n",
    "    if service['lite_version'] == 1:\n",
    "        ns['erl'] = 'http://xmlns.earthresourceml.org/earthresourceml-lite/1.0'\n",
    "        ns['wfs'] = 'http://www.opengis.net/wfs'\n",
    "        ns['gml'] = 'http://www.opengis.net/gml'\n",
    "        occurrences_path = \"gml:featureMembers/\" + feature_type\n",
    "    else:\n",
    "        ns['erl'] = 'http://xmlns.earthresourceml.org/earthresourceml-lite/2.0'\n",
    "        ns['wfs'] = 'http://www.opengis.net/wfs/2.0'\n",
    "        ns['gmdef extract_commodities(specification_uri, endpoint):\n",
    "    feature_id = 'er.'+'.'.join(url.split('/')[-2:])\n",
    "    commods = []\n",
    "    response = requests.get(specification_uri)\n",
    "    print(response)\n",
    "    root = ElementTree.fromstring(response.text)\n",
    "    commodities = root.findall('gml:featureMembers/er:MineralOccurrence/er:commodityDescription/er:Commodity',ns)\n",
    "    order = 1\n",
    "    for commodity in commodities:\n",
    "        \n",
    "        code = commodity.find('er:commodityName',ns).text.replace('urn:cgi:classifier:GA:commodity:','')\n",
    "        order = commodity.find('er:commodityRank',ns)\n",
    "        importance = commodity.find('er:commodityImportance',ns)\n",
    "        if order is not None:\n",
    "            order = int(order.text)\n",
    "        if importance is not None:\n",
    "            importance = importance.text\n",
    "        commods.append((code,order,importance))\n",
    "    return commodsl'] = 'http://www.opengis.net/gml/3.2'\n",
    "        parameters['outputFormat'] = 'gml32'\n",
    "        occurrences_path = \"wfs:member/\" + feature_type\n",
    "    response=requests.get(endpoint,params=parameters)\n",
    "    \n",
    "    print(response.url)\n",
    "    root = ElementTree.fromstring(response.text)\n",
    "    occurrences_path = \"gml:featureMembers/\" + feature_type\n",
    "    features = root.findall('gml:featureMembers',ns) or root.findall('gml:featureMember',ns) or root.findall('wfs:member',ns)\n",
    "    process_features(features, feature_type, endpoint)\n",
    "    "
   ]
  },
  {
   "cell_type": "code",
   "execution_count": 72,
   "metadata": {},
   "outputs": [],
   "source": [
    "def process_features(features, feature_type, endpoint):\n",
    "    for feature in features:\n",
    "        occurrences = feature.findall(feature_type, ns)\n",
    "        process_occurrences(occurrences, feature_type, endpoint)"
   ]
  },
  {
   "cell_type": "code",
   "execution_count": 87,
   "metadata": {},
   "outputs": [],
   "source": [
    "def process_occurrences(occurrences, feature_type, endpoint):\n",
    "    for occurrence in occurrences:\n",
    "        name_path = feature_types[feature_type]['name']\n",
    "        spec_path = feature_types[feature_type]['spec_uri']\n",
    "        shape_path = feature_types[feature_type]['shape']\n",
    "        #gml_id = occurrence.attrib['{http://www.opengis.net/gml}id']\n",
    "        otherid = None #gml_id.split('.')[-1]\n",
    "        name = occurrence.find(name_path,ns).text\n",
    "        latlng = occurrence.find(shape_path,ns)\n",
    "        specification_uri = occurrence.find(spec_path, ns).text\n",
    "        latitude, longitude = [float(pos) for pos in latlng.text.split(' ')]\n",
    "        print(latlng)\n",
    "        print(specification_uri)\n",
    "        commods = extract_commodities(specification_uri, endpoint)\n",
    "        print(otherid, name, latitude, longitude, commods)"
   ]
  },
  {
   "cell_type": "code",
   "execution_count": 88,
   "metadata": {},
   "outputs": [],
   "source": [
    "def extract_commodities(specification_uri, endpoint):\n",
    "    feature_id = 'er.'+'.'.join(url.split('/')[-2:])\n",
    "    commods = []\n",
    "    response = requests.get(specification_uri)\n",
    "    print(response)\n",
    "    root = ElementTree.fromstring(response.text)\n",
    "    commodities = root.findall('gml:featureMembers/er:MineralOccurrence/er:commodityDescription/er:Commodity',ns)\n",
    "    order = 1\n",
    "    for commodity in commodities:\n",
    "        \n",
    "        code = commodity.find('er:commodityName',ns).text.replace('urn:cgi:classifier:GA:commodity:','')\n",
    "        order = commodity.find('er:commodityRank',ns)\n",
    "        importance = commodity.find('er:commodityImportance',ns)\n",
    "        if order is not None:\n",
    "            order = int(order.text)\n",
    "        if importance is not None:\n",
    "            importance = importance.text\n",
    "        commods.append((code,order,importance))\n",
    "    return commods\n"
   ]
  },
  {
   "cell_type": "code",
   "execution_count": 136,
   "metadata": {},
   "outputs": [],
   "source": [
    "def get_feature(url, feature_id):\n",
    "    parameters = {'service': 'WFS',\n",
    "              'version' : '1.1.0',\n",
    "              'request' : 'GetFeature',\n",
    "              'typeName' : 'er:MineralOccurrence',\n",
    "              'featureId' : feature_id}\n",
    "    response = requests.get(url, params=parameters)\n",
    "    print(response.text)"
   ]
  },
  {
   "cell_type": "code",
   "execution_count": 142,
   "metadata": {},
   "outputs": [
    {
     "ename": "NameError",
     "evalue": "name 'url' is not defined",
     "output_type": "error",
     "traceback": [
      "\u001b[0;31m---------------------------------------------------------------------------\u001b[0m",
      "\u001b[0;31mNameError\u001b[0m                                 Traceback (most recent call last)",
      "\u001b[0;32m<ipython-input-142-15cd0bbb2a46>\u001b[0m in \u001b[0;36m<module>\u001b[0;34m()\u001b[0m\n\u001b[0;32m----> 1\u001b[0;31m \u001b[0mOccurrenceResolver\u001b[0m\u001b[0;34m.\u001b[0m\u001b[0mget_feature\u001b[0m\u001b[0;34m(\u001b[0m\u001b[0;34m'https://gs.geoscience.nsw.gov.au/geoserver/wfs'\u001b[0m\u001b[0;34m,\u001b[0m\u001b[0;34m'er.mineraloccurrence.101000'\u001b[0m\u001b[0;34m)\u001b[0m\u001b[0;34m\u001b[0m\u001b[0m\n\u001b[0m",
      "\u001b[0;32m~/Developer/occurrence-resolver/resolver.py\u001b[0m in \u001b[0;36mget_feature\u001b[0;34m(self, feature_id)\u001b[0m\n\u001b[1;32m     15\u001b[0m               \u001b[0;34m'typeName'\u001b[0m \u001b[0;34m:\u001b[0m \u001b[0;34m'er:MineralOccurrence'\u001b[0m\u001b[0;34m,\u001b[0m\u001b[0;34m\u001b[0m\u001b[0m\n\u001b[1;32m     16\u001b[0m               'featureId' : feature_id}\n\u001b[0;32m---> 17\u001b[0;31m     \u001b[0;32mreturn\u001b[0m \u001b[0mrequests\u001b[0m\u001b[0;34m.\u001b[0m\u001b[0mget\u001b[0m\u001b[0;34m(\u001b[0m\u001b[0mself\u001b[0m\u001b[0;34m.\u001b[0m\u001b[0mendpoint\u001b[0m\u001b[0;34m,\u001b[0m \u001b[0mparams\u001b[0m\u001b[0;34m=\u001b[0m\u001b[0mparameters\u001b[0m\u001b[0;34m)\u001b[0m\u001b[0;34m\u001b[0m\u001b[0m\n\u001b[0m",
      "\u001b[0;31mNameError\u001b[0m: name 'url' is not defined"
     ]
    }
   ],
   "source": [
    "OccurrenceResolver.get_feature('https://gs.geoscience.nsw.gov.au/geoserver/wfs','er.mineraloccurrence.101000')"
   ]
  },
  {
   "cell_type": "code",
   "execution_count": 137,
   "metadata": {},
   "outputs": [],
   "source": [
    "def get_order(commodity):\n",
    "    rank_path = 'er:commodityRank'\n",
    "    importance_path "
   ]
  },
  {
   "cell_type": "code",
   "execution_count": 90,
   "metadata": {},
   "outputs": [
    {
     "name": "stdout",
     "output_type": "stream",
     "text": [
      "https://gs.geoscience.nsw.gov.au/geoserver/wfs?service=WFS&version=1.1.0&request=GetFeature&typeName=mo%3AMinOccView&maxFeatures=3\n",
      "<Element '{http://www.opengis.net/gml}pos' at 0x7f589e46fcc8>\n",
      "http://gs.geoscience.nsw.gov.au/resource/feature/gsnsw/mineraloccurrence/101000\n",
      "<Response [404]>\n"
     ]
    },
    {
     "ename": "ParseError",
     "evalue": "syntax error: line 1, column 49 (<string>)",
     "output_type": "error",
     "traceback": [
      "Traceback \u001b[0;36m(most recent call last)\u001b[0m:\n",
      "  File \u001b[1;32m\"/home/michael/miniconda3/lib/python3.6/site-packages/IPython/core/interactiveshell.py\"\u001b[0m, line \u001b[1;32m2910\u001b[0m, in \u001b[1;35mrun_code\u001b[0m\n    exec(code_obj, self.user_global_ns, self.user_ns)\n",
      "  File \u001b[1;32m\"<ipython-input-90-e92a22109c56>\"\u001b[0m, line \u001b[1;32m1\u001b[0m, in \u001b[1;35m<module>\u001b[0m\n    process_endpoints('nsw', services['nsw'])\n",
      "  File \u001b[1;32m\"<ipython-input-71-ba6218c8006b>\"\u001b[0m, line \u001b[1;32m27\u001b[0m, in \u001b[1;35mprocess_endpoints\u001b[0m\n    process_features(features, feature_type)\n",
      "  File \u001b[1;32m\"<ipython-input-72-74c64e8fcdeb>\"\u001b[0m, line \u001b[1;32m4\u001b[0m, in \u001b[1;35mprocess_features\u001b[0m\n    process_occurrences(occurrences, feature_type)\n",
      "  File \u001b[1;32m\"<ipython-input-87-c6b6e4355c88>\"\u001b[0m, line \u001b[1;32m14\u001b[0m, in \u001b[1;35mprocess_occurrences\u001b[0m\n    commods = extract_commodities(specification_uri)\n",
      "  File \u001b[1;32m\"<ipython-input-88-777a7080e238>\"\u001b[0m, line \u001b[1;32m5\u001b[0m, in \u001b[1;35mextract_commodities\u001b[0m\n    root = ElementTree.fromstring(response.text)\n",
      "\u001b[0;36m  File \u001b[0;32m\"/home/michael/miniconda3/lib/python3.6/xml/etree/ElementTree.py\"\u001b[0;36m, line \u001b[0;32m1314\u001b[0;36m, in \u001b[0;35mXML\u001b[0;36m\u001b[0m\n\u001b[0;31m    parser.feed(text)\u001b[0m\n",
      "\u001b[0;36m  File \u001b[0;32m\"<string>\"\u001b[0;36m, line \u001b[0;32munknown\u001b[0m\n\u001b[0;31mParseError\u001b[0m\u001b[0;31m:\u001b[0m syntax error: line 1, column 49\n"
     ]
    }
   ],
   "source": [
    "process_endpoints('nsw', services['nsw'])"
   ]
  },
  {
   "cell_type": "code",
   "execution_count": 85,
   "metadata": {},
   "outputs": [],
   "source": [
    "url='https://sarigdata.pir.sa.gov.au/nvcl/geoserver/wfs?service=WFS&version=1.1.0&request=GetFeature&typeName=erl%3AMineralOccurrenceView&maxFeatures=3&outputFormat=gml32'"
   ]
  },
  {
   "cell_type": "code",
   "execution_count": 111,
   "metadata": {},
   "outputs": [],
   "source": [
    "headers = {'Connection': 'keep-alive',\n",
    "    'Upgrade-Insecure-Requests': '1',\n",
    "    'User-Agent': 'Mozilla/5.0 (Macintosh; Intel Mac OS X 10_10_1) AppleWebKit/537.36 (KHTML, like Gecko) Chrome/39.0.2171.95 Safari/537.36'}"
   ]
  },
  {
   "cell_type": "code",
   "execution_count": 114,
   "metadata": {},
   "outputs": [],
   "source": [
    "session = requests.Session()\n",
    "\n",
    "response = requests.get('http://gs.geoscience.nsw.gov.au/resource/feature/gsnsw/mineraloccurrence/101000', headers=headers)"
   ]
  },
  {
   "cell_type": "code",
   "execution_count": 115,
   "metadata": {},
   "outputs": [
    {
     "data": {
      "text/plain": [
       "'<!DOCTYPE HTML PUBLIC \"-//IETF//DTD HTML 2.0//EN\">\\n<html><head>\\n<title>404 Not Found</title>\\n</head><body>\\n<h1>Not Found</h1>\\n<p>The requested URL /resource/feature/gsnsw/mineraloccurrence/101000 was not found on this server.</p>\\n<hr>\\n<address>Apache/2.4.18 (Ubuntu) Server at gs.geoscience.nsw.gov.au Port 80</address>\\n</body></html>\\n'"
      ]
     },
     "execution_count": 115,
     "metadata": {},
     "output_type": "execute_result"
    }
   ],
   "source": [
    "response.text"
   ]
  },
  {
   "cell_type": "code",
   "execution_count": 116,
   "metadata": {},
   "outputs": [],
   "source": [
    "url = 'http://gs.geoscience.nsw.gov.au/resource/feature/gsnsw/mineraloccurrence/101000'"
   ]
  },
  {
   "cell_type": "code",
   "execution_count": 132,
   "metadata": {},
   "outputs": [
    {
     "data": {
      "text/plain": [
       "'er.mineraloccurrence.101000'"
      ]
     },
     "execution_count": 132,
     "metadata": {},
     "output_type": "execute_result"
    }
   ],
   "source": []
  },
  {
   "cell_type": "code",
   "execution_count": null,
   "metadata": {},
   "outputs": [],
   "source": []
  }
 ],
 "metadata": {
  "kernelspec": {
   "display_name": "Python 3",
   "language": "python",
   "name": "python3"
  },
  "language_info": {
   "codemirror_mode": {
    "name": "ipython",
    "version": 3
   },
   "file_extension": ".py",
   "mimetype": "text/x-python",
   "name": "python",
   "nbconvert_exporter": "python",
   "pygments_lexer": "ipython3",
   "version": "3.6.3"
  }
 },
 "nbformat": 4,
 "nbformat_minor": 2
}
