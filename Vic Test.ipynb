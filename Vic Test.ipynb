{
 "cells": [
  {
   "cell_type": "code",
   "execution_count": 1,
   "metadata": {
    "collapsed": true
   },
   "outputs": [],
   "source": [
    "from resolver import OccurrenceResolver"
   ]
  },
  {
   "cell_type": "code",
   "execution_count": 2,
   "metadata": {
    "collapsed": true
   },
   "outputs": [],
   "source": [
    "vic =   {\n",
    "                'state' : 'vic',\n",
    "                'endpoint': 'http://geology.data.vic.gov.au/nvcl/wfs',\n",
    "                'feature_type' : 'mo:MinOccView',\n",
    "                'er_version' : 1,\n",
    "                'lite_version': 1,\n",
    "            }"
   ]
  },
  {
   "cell_type": "code",
   "execution_count": 3,
   "metadata": {},
   "outputs": [
    {
     "name": "stdout",
     "output_type": "stream",
     "text": [
      "16716\n"
     ]
    }
   ],
   "source": [
    "occurrence_resolver = OccurrenceResolver(**vic)"
   ]
  },
  {
   "cell_type": "code",
   "execution_count": 4,
   "metadata": {
    "scrolled": true
   },
   "outputs": [
    {
     "name": "stdout",
     "output_type": "stream",
     "text": [
      "http://geology.data.vic.gov.au/nvcl/wfs?typeName=mo%3AMinOccView&version=1.1.0&maxFeatures=50&service=WFS&outputFormat=gml3&request=GetFeature\n",
      "361023 er.mineraloccurrence.361023 -37.00704 147.19722 [['Dargo High Plains Goldfield'], [('Au', None, 'major')]]\n",
      "361024 er.mineraloccurrence.361024 -37.03496 147.37232 [['Dargo High Plains Goldfield'], [('Au', None, 'major')]]\n",
      "361025 er.mineraloccurrence.361025 -37.02911 147.16991 [['Dargo High Plains Goldfield'], [('Au', None, 'major')]]\n",
      "361026 er.mineraloccurrence.361026 -37.06692 147.20711 [['Dargo High Plains Goldfield'], [('Au', None, 'major')]]\n",
      "361027 er.mineraloccurrence.361027 -37.08863 147.15091 [['Dargo High Plains Goldfield'], [('Au', None, 'major')]]\n",
      "361028 er.mineraloccurrence.361028 -37.14184 147.13188 [['Dargo High Plains Goldfield'], [('Au', None, 'major')]]\n",
      "361029 er.mineraloccurrence.361029 -37.1598 147.18597 [['Dargo High Plains Goldfield'], [('Au', None, 'major')]]\n",
      "361030 er.mineraloccurrence.361030 -37.19674 147.19283 [['Dargo High Plains Goldfield'], [('Au', None, 'major')]]\n",
      "361031 er.mineraloccurrence.361031 -37.19855 147.19283 [['Dargo High Plains Goldfield'], [('Au', None, 'major')]]\n",
      "361032 er.mineraloccurrence.361032 -37.19945 147.19058 [['Dargo High Plains Goldfield'], [('Au', None, 'major')]]\n",
      "361033 er.mineraloccurrence.361033 -37.22468 147.19966 [['Dargo High Plains Goldfield'], [('Au', None, 'major')]]\n",
      "361034 er.mineraloccurrence.361034 -37.20301 147.21763 [['Dargo High Plains Goldfield'], [('Au', None, 'major')]]\n",
      "361035 er.mineraloccurrence.361035 -37.1615 147.24004 [['Dargo High Plains Goldfield'], [('Au', None, 'major')]]\n",
      "361036 er.mineraloccurrence.361036 -37.17044 147.27724 [['Dargo High Plains Goldfield'], [('Au', None, 'major')]]\n",
      "361037 er.mineraloccurrence.361037 -37.11827 147.22301 [['Dargo High Plains Goldfield'], [('Au', None, 'major')]]\n",
      "361038 er.mineraloccurrence.361038 -37.13266 147.23995 [['Dargo High Plains Goldfield'], [('Au', None, 'major')]]\n",
      "361039 er.mineraloccurrence.361039 -37.10113 147.22971 [['Dargo High Plains Goldfield'], [('Au', None, 'major')]]\n",
      "361040 er.mineraloccurrence.361040 -37.10202 147.23309 [['Dargo High Plains Goldfield'], [('Au', None, 'major')]]\n",
      "361041 er.mineraloccurrence.361041 -37.10383 147.23085 [['Dargo High Plains Goldfield'], [('Au', None, 'major')]]\n",
      "361042 er.mineraloccurrence.361042 -37.10563 147.2331 [['Dargo High Plains Goldfield'], [('Au', None, 'major')]]\n",
      "361043 er.mineraloccurrence.361043 -37.12723 147.24894 [['Dargo High Plains Goldfield'], [('Au', None, 'major')]]\n",
      "361044 er.mineraloccurrence.361044 -37.09213 147.22181 [['Dargo High Plains Goldfield'], [('Au', None, 'major')]]\n",
      "361045 er.mineraloccurrence.361045 -37.1526 147.17807 [['Dargo High Plains Goldfield'], [('Au', None, 'major')]]\n",
      "361046 er.mineraloccurrence.361046 -37.00847 147.08275 [['Dargo High Plains Goldfield'], [('Au', None, 'major')]]\n",
      "361047 er.mineraloccurrence.361047 -37.30887 147.13212 [['Grant Goldfield'], [('Au', None, 'major')]]\n",
      "361048 er.mineraloccurrence.361048 -37.26625 147.11743 [['Grant Goldfield'], [('Au', None, 'major')]]\n",
      "361049 er.mineraloccurrence.361049 -37.48605 147.21732 [['Dargo Goldfield'], [('Au', None, 'major')]]\n",
      "361050 er.mineraloccurrence.361050 -37.48245 147.21108 [['Dargo Goldfield'], [('Au', None, 'major')]]\n",
      "361051 er.mineraloccurrence.361051 -37.48336 147.20713 [['Dargo Goldfield'], [('Au', None, 'major')]]\n",
      "361052 er.mineraloccurrence.361052 -37.44245 147.13466 [['Dargo Goldfield'], [('Au', None, 'major')]]\n",
      "361053 er.mineraloccurrence.361053 -37.33387 147.10399 [['Grant Goldfield'], [('Au', None, 'major')]]\n",
      "361054 er.mineraloccurrence.361054 -37.43395 147.17248 [['Dargo Goldfield'], [('Au', None, 'major')]]\n",
      "361055 er.mineraloccurrence.361055 -37.39506 147.18542 [['Dargo Goldfield'], [('Au', None, 'major')]]\n",
      "361056 er.mineraloccurrence.361056 -37.37174 147.08033 [['Grant Goldfield'], [('Au', None, 'major')]]\n",
      "361057 er.mineraloccurrence.361057 -37.3564 147.10346 [['Grant Goldfield'], [('Au', None, 'major')]]\n",
      "361058 er.mineraloccurrence.361058 -37.35638 147.12548 [['Grant Goldfield'], [('Au', None, 'major')]]\n",
      "361059 er.mineraloccurrence.361059 -37.35275 147.1458 [['Grant Goldfield'], [('Au', None, 'major')]]\n",
      "361060 er.mineraloccurrence.361060 -37.34865 147.16232 [['Grant Goldfield'], [('Au', None, 'major')]]\n",
      "361061 er.mineraloccurrence.361061 -37.3414 147.14901 [['Grant Goldfield'], [('Au', None, 'major')]]\n",
      "361062 er.mineraloccurrence.361062 -37.33284 147.20107 [['Grant Goldfield'], [('Au', None, 'major')]]\n",
      "361063 er.mineraloccurrence.361063 -37.33063 147.17228 [['Grant Goldfield'], [('Au', None, 'major')]]\n",
      "361064 er.mineraloccurrence.361064 -37.33336 147.15592 [['Grant Goldfield'], [('Au', None, 'major')]]\n",
      "361065 er.mineraloccurrence.361065 -37.33939 147.1531 [['Grant Goldfield'], [('Au', None, 'major')]]\n",
      "361066 er.mineraloccurrence.361066 -37.33743 147.15029 [['Grant Goldfield'], [('Au', None, 'major')]]\n",
      "361067 er.mineraloccurrence.361067 -37.32122 147.12768 [['Grant Goldfield'], [('Au', None, 'major')]]\n",
      "361068 er.mineraloccurrence.361068 -37.33473 147.10619 [['Grant Goldfield'], [('Au', None, 'major')]]\n",
      "361069 er.mineraloccurrence.361069 -37.3384 147.06336 [['Grant Goldfield'], [('Au', None, 'major')]]\n",
      "361070 er.mineraloccurrence.361070 -37.62112 147.54067 [['Bulumwaal Goldfield'], [('Au', None, 'major'), ('Pb', None, 'minor')]]\n",
      "361071 er.mineraloccurrence.361071 -37.61192 147.57969 [['Bulumwaal Goldfield'], [('Au', None, 'major'), ('Pb', None, 'minor')]]\n",
      "361072 er.mineraloccurrence.361072 -37.61416 147.58197 [['Bulumwaal Goldfield'], [('Au', None, 'major'), ('Pb', None, 'minor')]]\n"
     ]
    }
   ],
   "source": [
    "occurrence_resolver.process_endpoints()"
   ]
  },
  {
   "cell_type": "code",
   "execution_count": 5,
   "metadata": {},
   "outputs": [
    {
     "ename": "TypeError",
     "evalue": "int() argument must be a string, a bytes-like object or a number, not 'NoneType'",
     "output_type": "error",
     "traceback": [
      "\u001b[0;31m---------------------------------------------------------------------------\u001b[0m",
      "\u001b[0;31mTypeError\u001b[0m                                 Traceback (most recent call last)",
      "\u001b[0;32m<ipython-input-5-3f3b1d3c7325>\u001b[0m in \u001b[0;36m<module>\u001b[0;34m()\u001b[0m\n\u001b[0;32m----> 1\u001b[0;31m \u001b[0mint\u001b[0m\u001b[0;34m(\u001b[0m\u001b[0;32mNone\u001b[0m\u001b[0;34m)\u001b[0m\u001b[0;34m\u001b[0m\u001b[0m\n\u001b[0m",
      "\u001b[0;31mTypeError\u001b[0m: int() argument must be a string, a bytes-like object or a number, not 'NoneType'"
     ]
    }
   ],
   "source": [
    "int(None)"
   ]
  },
  {
   "cell_type": "code",
   "execution_count": null,
   "metadata": {
    "collapsed": true
   },
   "outputs": [],
   "source": []
  }
 ],
 "metadata": {
  "kernelspec": {
   "display_name": "Python 3",
   "language": "python",
   "name": "python3"
  },
  "language_info": {
   "codemirror_mode": {
    "name": "ipython",
    "version": 3
   },
   "file_extension": ".py",
   "mimetype": "text/x-python",
   "name": "python",
   "nbconvert_exporter": "python",
   "pygments_lexer": "ipython3",
   "version": "3.5.2"
  }
 },
 "nbformat": 4,
 "nbformat_minor": 2
}
