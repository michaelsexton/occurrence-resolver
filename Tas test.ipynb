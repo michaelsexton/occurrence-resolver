{
 "cells": [
  {
   "cell_type": "code",
   "execution_count": 1,
   "metadata": {},
   "outputs": [],
   "source": [
    "from resolver import OccurrenceResolver"
   ]
  },
  {
   "cell_type": "code",
   "execution_count": 2,
   "metadata": {},
   "outputs": [],
   "source": [
    "tas =  {\n",
    "                'state' : 'tas',\n",
    "                'endpoint': 'http://www.mrt.tas.gov.au:80/web-services/wfs',\n",
    "                'feature_type' : 'erl:MineralOccurrenceView',\n",
    "                'lite_version': 1,\n",
    "                'er_version' : 2\n",
    "            }"
   ]
  },
  {
   "cell_type": "code",
   "execution_count": 3,
   "metadata": {},
   "outputs": [],
   "source": [
    "occurrence_resolver = OccurrenceResolver(**tas)"
   ]
  },
  {
   "cell_type": "code",
   "execution_count": 4,
   "metadata": {
    "scrolled": true
   },
   "outputs": [
    {
     "name": "stdout",
     "output_type": "stream",
     "text": [
      "http://www.mrt.tas.gov.au:80/web-services/wfs?service=WFS&version=1.1.0&request=GetFeature&maxFeatures=10&outputFormat=gml3&typeName=erl%3AMineralOccurrenceView\n",
      "1 South Deposit 145.181132551295 -41.5099510254563 [[], [('http://resource.geosciml.org/classifier/cgi/commodity-code/iron', 1, None), ('http://resource.geosciml.org/classifier/cgi/commodity-code/magnetite', 2, None)]]\n",
      "10 Heathorns Prospect 2 147.831576479618 -41.2909181656179 [[], [('http://resource.geosciml.org/classifier/cgi/commodity-code/gold', 1, None)]]\n",
      "100 Investigator 22 143.994960908236 -40.0592890952226 [[], [('http://resource.geosciml.org/classifier/cgi/commodity-code/tungsten', 1, None)]]\n",
      "1000 Unnamed 147.278561147829 -41.1825178034484 [[], [('http://resource.geosciml.org/classifier/cgi/commodity-code/gold', 1, None)]]\n",
      "1001 Unnamed 147.285600541039 -41.1835815167426 [[], [('http://resource.geosciml.org/classifier/cgi/commodity-code/gold', 1, None)]]\n",
      "10011 Branchs Creek 146.618442684294 -41.2102372667732 [[], [('http://resource.geosciml.org/classifier/cgi/commodity-code/pyrite', 2, None)]]\n",
      "1002 Unnamed 147.283448112994 -41.1821455618187 [[], [('http://resource.geosciml.org/classifier/cgi/commodity-code/gold', 1, None)]]\n",
      "1003 Unnamed 147.292265630623 -41.1808624102657 [[], [('http://resource.geosciml.org/classifier/cgi/commodity-code/gold', 1, None)]]\n",
      "1004 Unnamed 147.291642712679 -41.1748286566706 [[], [('http://resource.geosciml.org/classifier/cgi/commodity-code/gold', 1, None)]]\n",
      "1005 Unnamed 147.306195279847 -41.1765024007646 [[], [('http://resource.geosciml.org/classifier/cgi/commodity-code/gold', 1, None)]]\n"
     ]
    }
   ],
   "source": [
    "occurrence_resolver.process_endpoints()"
   ]
  },
  {
   "cell_type": "code",
   "execution_count": null,
   "metadata": {},
   "outputs": [],
   "source": []
  }
 ],
 "metadata": {
  "kernelspec": {
   "display_name": "Python 3",
   "language": "python",
   "name": "python3"
  },
  "language_info": {
   "codemirror_mode": {
    "name": "ipython",
    "version": 3
   },
   "file_extension": ".py",
   "mimetype": "text/x-python",
   "name": "python",
   "nbconvert_exporter": "python",
   "pygments_lexer": "ipython3",
   "version": "3.6.3"
  }
 },
 "nbformat": 4,
 "nbformat_minor": 2
}
