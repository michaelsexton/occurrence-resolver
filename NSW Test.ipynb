{
 "cells": [
  {
   "cell_type": "code",
   "execution_count": 1,
   "metadata": {},
   "outputs": [],
   "source": [
    "from resolver import OccurrenceResolver"
   ]
  },
  {
   "cell_type": "code",
   "execution_count": 2,
   "metadata": {},
   "outputs": [],
   "source": [
    "nsw =  {\n",
    "                'state' : 'nsw',\n",
    "                'endpoint': 'https://gs.geoscience.nsw.gov.au/geoserver/wfs',\n",
    "                'feature_type' : 'mo:MinOccView',\n",
    "                'lite_version': 1,\n",
    "                'er_version' : 1\n",
    "            }"
   ]
  },
  {
   "cell_type": "code",
   "execution_count": 3,
   "metadata": {},
   "outputs": [],
   "source": [
    "occurrence_resolver = OccurrenceResolver(**nsw)"
   ]
  },
  {
   "cell_type": "code",
   "execution_count": 4,
   "metadata": {
    "scrolled": true
   },
   "outputs": [
    {
     "name": "stdout",
     "output_type": "stream",
     "text": [
      "https://gs.geoscience.nsw.gov.au/geoserver/wfs?service=WFS&version=1.1.0&request=GetFeature&maxFeatures=10&outputFormat=gml3&typeName=mo%3AMinOccView\n",
      "101000 er.mineraloccurrence.101000 -31.7582 146.061 [['Errenbenderry'], [('lead', 1, None)]]\n",
      "101001 er.mineraloccurrence.101001 -31.1328 145.732 [[], [('lead', 1, None), ('zinc', 2, None)]]\n",
      "101002 er.mineraloccurrence.101002 -31.5965 145.93 [['Central South'], [('copper', 1, None)]]\n",
      "101003 er.mineraloccurrence.101003 -31.5271 146.327 [['Anomaly C9'], [('lead', 1, None)]]\n",
      "101004 er.mineraloccurrence.101004 -31.6656 146.428 [['The F-Tree Shaft'], [('gold', 1, None)]]\n",
      "101005 er.mineraloccurrence.101005 -31.8841 146.461 [['McManus Prospect'], [('iron', 1, None), ('manganese', 2, None)]]\n",
      "101006 er.mineraloccurrence.101006 -31.8127 146.425 [['Sarona Prospect'], [('iron', 1, None)]]\n",
      "101007 er.mineraloccurrence.101007 -31.8541 145.778 [['Anomaly 10 Prospect'], [('lead', 1, None)]]\n",
      "101008 er.mineraloccurrence.101008 -31.6081 146.47 [['Pooraka Prospect'], [('copper', 1, None)]]\n",
      "101009 er.mineraloccurrence.101009 -31.7428 146.055 [['Anomoly C1 Prospect'], [('copper', 1, None)]]\n"
     ]
    }
   ],
   "source": [
    "occurrence_resolver.process_endpoints()"
   ]
  },
  {
   "cell_type": "code",
   "execution_count": null,
   "metadata": {},
   "outputs": [],
   "source": []
  }
 ],
 "metadata": {
  "kernelspec": {
   "display_name": "Python 3",
   "language": "python",
   "name": "python3"
  },
  "language_info": {
   "codemirror_mode": {
    "name": "ipython",
    "version": 3
   },
   "file_extension": ".py",
   "mimetype": "text/x-python",
   "name": "python",
   "nbconvert_exporter": "python",
   "pygments_lexer": "ipython3",
   "version": "3.6.3"
  }
 },
 "nbformat": 4,
 "nbformat_minor": 2
}
