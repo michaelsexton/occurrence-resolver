{
 "cells": [
  {
   "cell_type": "code",
   "execution_count": 1,
   "metadata": {
    "collapsed": true
   },
   "outputs": [],
   "source": [
    "from resolver import OccurrenceResolver"
   ]
  },
  {
   "cell_type": "code",
   "execution_count": 2,
   "metadata": {
    "collapsed": true
   },
   "outputs": [],
   "source": [
    "nsw =  {\n",
    "                'state' : 'nsw',\n",
    "                'endpoint': 'https://gs.geoscience.nsw.gov.au/geoserver/wfs',\n",
    "                'feature_type' : 'mo:MinOccView',\n",
    "                'lite_version': 1,\n",
    "                'er_version' : 1\n",
    "            }"
   ]
  },
  {
   "cell_type": "code",
   "execution_count": 3,
   "metadata": {},
   "outputs": [
    {
     "name": "stdout",
     "output_type": "stream",
     "text": [
      "30688\n"
     ]
    }
   ],
   "source": [
    "occurrence_resolver = OccurrenceResolver(**nsw)"
   ]
  },
  {
   "cell_type": "code",
   "execution_count": 4,
   "metadata": {
    "scrolled": true
   },
   "outputs": [
    {
     "name": "stdout",
     "output_type": "stream",
     "text": [
      "https://gs.geoscience.nsw.gov.au/geoserver/wfs?service=WFS&outputFormat=gml3&typeName=mo%3AMinOccView&request=GetFeature&version=1.1.0&maxFeatures=50\n",
      "101000 er.mineraloccurrence.101000 -31.7582 146.061 [['Errenbenderry'], [('lead', 1, None)]]\n",
      "101001 er.mineraloccurrence.101001 -31.1328 145.732 [[], [('lead', 1, None), ('zinc', 2, None)]]\n",
      "101002 er.mineraloccurrence.101002 -31.5965 145.93 [['Central South'], [('copper', 1, None)]]\n",
      "101003 er.mineraloccurrence.101003 -31.5271 146.327 [['Anomaly C9'], [('lead', 1, None)]]\n",
      "101004 er.mineraloccurrence.101004 -31.6656 146.428 [['The F-Tree Shaft'], [('gold', 1, None)]]\n",
      "101005 er.mineraloccurrence.101005 -31.8841 146.461 [['McManus Prospect'], [('iron', 1, None), ('manganese', 2, None)]]\n",
      "101006 er.mineraloccurrence.101006 -31.8127 146.425 [['Sarona Prospect'], [('iron', 1, None)]]\n",
      "101007 er.mineraloccurrence.101007 -31.8541 145.778 [['Anomaly 10 Prospect'], [('lead', 1, None)]]\n",
      "101008 er.mineraloccurrence.101008 -31.6081 146.47 [['Pooraka Prospect'], [('copper', 1, None)]]\n",
      "101009 er.mineraloccurrence.101009 -31.7428 146.055 [['Anomoly C1 Prospect'], [('copper', 1, None)]]\n",
      "101010 er.mineraloccurrence.101010 -31.65 144.296 [['Woolakulkra Prospect'], [('gypsum', 1, None)]]\n",
      "101011 er.mineraloccurrence.101011 -31.5717 144.673 [['Bulla Park Prospect'], [('lead', 1, None), ('zinc', 2, None)]]\n",
      "101012 er.mineraloccurrence.101012 -31.6774 145.06 [['Broadmeadows Prospect'], [('opal', 1, None)]]\n",
      "101013 er.mineraloccurrence.101013 -31.5971 145.178 [['Elsinore House'], [('copper', 2, None), ('zinc', 1, None)]]\n",
      "101014 er.mineraloccurrence.101014 -31.6808 145.296 [['The Meadows Prospect'], [('silver', 1, None), ('gold', 2, None)]]\n",
      "101015 er.mineraloccurrence.101015 -31.0267 145.291 [['Seven Mile Creek Anomaly'], [('silver', 4, None), ('copper', 1, None), ('lead', 2, None), ('zinc', 3, None)]]\n",
      "101016 er.mineraloccurrence.101016 -31.4424 145.349 [['Cubba Prospect'], [('gold', 1, None)]]\n",
      "101017 er.mineraloccurrence.101017 -31.7618 145.354 [['Currawatha Prospect'], [('copper', 1, None), ('magnetite', 2, None)]]\n",
      "101018 er.mineraloccurrence.101018 -31.3074 145.372 [['Mountain Tank Prospect'], [('silver', 1, None), ('copper', 2, None), ('lead', 3, None), ('zinc', 4, None)]]\n",
      "101019 er.mineraloccurrence.101019 -31.3122 145.393 [['Mumboana Prospect'], [('gold', 1, None)]]\n",
      "101020 er.mineraloccurrence.101020 -31.3102 145.448 [['Colvins Prospect'], [('gold', 1, None)]]\n",
      "101021 er.mineraloccurrence.101021 -31.1213 145.42 [['Trenchard and Meltons Prospect'], [('gold', 1, None)]]\n",
      "101022 er.mineraloccurrence.101022 -31.5447 145.447 [['Ryandale Prospect'], [('gold', 1, None)]]\n",
      "101023 er.mineraloccurrence.101023 -31.6577 145.469 [['Double Gates Prospect'], [('lead', 1, None), ('zinc', 2, None)]]\n",
      "101024 er.mineraloccurrence.101024 -30.9648 146.785 [['Buckeroo Woolshed'], [('iron', 1, None)]]\n",
      "101025 er.mineraloccurrence.101025 -31.8446 146.913 [['Honeybugle Yarran'], [('platinum', 1, None)]]\n",
      "101027 er.mineraloccurrence.101027 -34.7617 147.651 [['Dobroyde Prospect'], [('gold', 1, None)]]\n",
      "101028 er.mineraloccurrence.101028 -34.3258 147.459 [['Gidginbung Mine'], [('gold', 1, None)]]\n",
      "101030 er.mineraloccurrence.101030 -34.0465 147.334 [['Yiddah Prospect'], [('gold', 2, None), ('copper', 1, None)]]\n",
      "101031 er.mineraloccurrence.101031 -34.1441 147.36 [['Showground Prospect'], [('gold', 1, None)]]\n",
      "101032 er.mineraloccurrence.101032 -30.7277 144.584 [['Campamooka Deposit'], [('phosphate-rock', 1, None)]]\n",
      "101033 er.mineraloccurrence.101033 -30.4633 144.676 [['Mt Wilson Well'], [('phosphate-rock', 1, None)]]\n",
      "101034 er.mineraloccurrence.101034 -30.5083 145.121 [['Louth Trig Prospect'], [('gold', 1, None)]]\n",
      "101035 er.mineraloccurrence.101035 -30.7999 145.195 [['Iona Homestead'], [('copper', 1, None)]]\n",
      "101036 er.mineraloccurrence.101036 -30.0451 145.293 [['Yandaroo Prospect'], [('phosphate-rock', 1, None)]]\n",
      "101037 er.mineraloccurrence.101037 -30.5134 145.361 [['Myrtle Prospect'], [('copper', 3, None), ('lead', 1, None), ('zinc', 2, None)]]\n",
      "101038 er.mineraloccurrence.101038 -30.8886 145.353 [['Kerrigundi Gold Mines'], [('gold', 1, None)]]\n",
      "101039 er.mineraloccurrence.101039 -30.8956 145.411 [['Mulga Tank Prospect'], [('gold', 1, None)]]\n",
      "101040 er.mineraloccurrence.101040 -30.9918 145.417 [['Maranoa Prospect'], [('gold', 1, None)]]\n",
      "101041 er.mineraloccurrence.101041 -30.8795 145.424 [['Yellow Tank Prospect'], [('gold', 1, None)]]\n",
      "101042 er.mineraloccurrence.101042 -30.9041 145.451 [['Kiri Prospect'], [('copper', 3, None), ('lead', 1, None), ('zinc', 2, None)]]\n",
      "101043 er.mineraloccurrence.101043 -30.9042 145.463 [['Kibble Prospect'], [('copper', 2, None), ('lead', 1, None)]]\n",
      "101044 er.mineraloccurrence.101044 -30.888 145.466 [['Nettie Prospect'], [('zinc', 1, None)]]\n",
      "101045 er.mineraloccurrence.101045 -30.3376 145.489 [['Gunderbooka Homestead Prospect'], [('copper', 1, None)]]\n",
      "101046 er.mineraloccurrence.101046 -32.9822 147.353 [['Mount Derriwong'], [('platinum', 1, None)]]\n",
      "101047 er.mineraloccurrence.101047 -32.793 147.433 [['Murga'], [('platinum', 1, None)]]\n",
      "101048 er.mineraloccurrence.101048 -32.756 147.418 [['Flemington'], [('platinum', 1, None)]]\n",
      "101049 er.mineraloccurrence.101049 -32.7221 147.447 [['Kelvin Grove'], [('copper', 2, None), ('nickel', 3, None), ('platinum', 1, None)]]\n",
      "101050 er.mineraloccurrence.101050 -32.692 147.47 [['Owendale North residual Pt-Cu-Ni-Co prospect'], [('cobalt', 2, None), ('nickel', 3, None), ('platinum', 1, None)]]\n",
      "101051 er.mineraloccurrence.101051 -32.365 147.227 [['Hylea Tiger Creek'], [('platinum', 1, None)]]\n"
     ]
    }
   ],
   "source": [
    "occurrence_resolver.process_endpoints()"
   ]
  },
  {
   "cell_type": "code",
   "execution_count": null,
   "metadata": {
    "collapsed": true
   },
   "outputs": [],
   "source": []
  }
 ],
 "metadata": {
  "kernelspec": {
   "display_name": "Python 3",
   "language": "python",
   "name": "python3"
  },
  "language_info": {
   "codemirror_mode": {
    "name": "ipython",
    "version": 3
   },
   "file_extension": ".py",
   "mimetype": "text/x-python",
   "name": "python",
   "nbconvert_exporter": "python",
   "pygments_lexer": "ipython3",
   "version": "3.5.2"
  }
 },
 "nbformat": 4,
 "nbformat_minor": 2
}
