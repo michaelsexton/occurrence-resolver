{
 "cells": [
  {
   "cell_type": "code",
   "execution_count": 1,
   "metadata": {},
   "outputs": [],
   "source": [
    "from resolver import OccurrenceResolver\n",
    "import logger"
   ]
  },
  {
   "cell_type": "code",
   "execution_count": 2,
   "metadata": {},
   "outputs": [],
   "source": [
    "logger.init_logging(file_logging=True)"
   ]
  },
  {
   "cell_type": "code",
   "execution_count": 3,
   "metadata": {},
   "outputs": [],
   "source": [
    "services = [{   'state' : 'wa',\n",
    "                'endpoint': 'http://geossdi.dmp.wa.gov.au/services/wfs',\n",
    "                'feature_type' : 'mo:MinOccView',\n",
    "                'er_version' : 1,\n",
    "                'lite_version': 1,\n",
    "            }, {\n",
    "                'state' : 'nt',\n",
    "                'endpoint' : 'http://geology.data.nt.gov.au:80/geoserver/wfs',\n",
    "                'feature_type' : 'mo:MinOccView',\n",
    "                'er_version' : 1,\n",
    "                'lite_version': 1,\n",
    "            }, {\n",
    "                'state' : 'vic',\n",
    "                'endpoint': 'http://geology.data.vic.gov.au/nvcl/wfs',\n",
    "                'feature_type' : 'mo:MinOccView',\n",
    "                'er_version' : 1,\n",
    "                'lite_version': 1,\n",
    "            }, {\n",
    "                'state' : 'sa',\n",
    "                'endpoint': 'https://sarigdata.pir.sa.gov.au/nvcl/geoserver/wfs',\n",
    "                'feature_type' : 'erl:MineralOccurrenceView',\n",
    "                'lite_version': 2,\n",
    "                'er_version' : 1\n",
    "            }, {\n",
    "                'state' : 'nsw',\n",
    "                'endpoint': 'https://gs.geoscience.nsw.gov.au/geoserver/wfs',\n",
    "                'feature_type' : 'mo:MinOccView',\n",
    "                'lite_version': 1,\n",
    "                'er_version' : 1\n",
    "            #},  {\n",
    "            #    'state' : 'tas',\n",
    "            #    'endpoint': 'http://www.mrt.tas.gov.au:80/web-services/wfs',\n",
    "            #    'feature_type' : 'erl:MineralOccurrenceView',\n",
    "            #    'lite_version': 1,\n",
    "            #    'er_version' : 2\n",
    "            }\n",
    "           ]"
   ]
  },
  {
   "cell_type": "code",
   "execution_count": 4,
   "metadata": {
    "scrolled": true
   },
   "outputs": [
    {
     "name": "stdout",
     "output_type": "stream",
     "text": [
      "Inititalising Occurrence Resolver for state wa\n",
      "wa\n",
      "State id: S0000001, name: Pieces of Eight - Admiral Hill\n",
      "State id: S0000002, name: Albury Heath\n",
      "State id: S0000005, name: Aspacia\n",
      "State id: S0000006, name: Baden Powell Test Pit\n",
      "State id: S0000007, name: Dingo - Katanning\n",
      "State id: S0000008, name: Jinkas\n",
      "State id: S0000010, name: Bamboo Creek Tailings TSF\n",
      "State id: S0000011, name: Prophecy - Perseverance\n",
      "State id: S0000012, name: Baneygo\n",
      "State id: S0000013, name: Moolart Well - Duketon Group Old\n",
      "Inititalising Occurrence Resolver for state nt\n",
      "nt\n",
      "State id: 1, name: er.mineraloccurrence.1\n",
      "State id: 10, name: er.mineraloccurrence.10\n",
      "State id: 100, name: er.mineraloccurrence.100\n",
      "State id: 1000, name: er.mineraloccurrence.1000\n",
      "State id: 1001, name: er.mineraloccurrence.1001\n",
      "State id: 1002, name: er.mineraloccurrence.1002\n",
      "State id: 1003, name: er.mineraloccurrence.1003\n",
      "State id: 1004, name: er.mineraloccurrence.1004\n",
      "State id: 1005, name: er.mineraloccurrence.1005\n",
      "State id: 1006, name: er.mineraloccurrence.1006\n",
      "Inititalising Occurrence Resolver for state vic\n",
      "vic\n",
      "State id: 361023, name: er.mineraloccurrence.361023\n",
      "State id: 361024, name: er.mineraloccurrence.361024\n",
      "State id: 361025, name: er.mineraloccurrence.361025\n",
      "State id: 361026, name: er.mineraloccurrence.361026\n",
      "State id: 361027, name: er.mineraloccurrence.361027\n",
      "State id: 361028, name: er.mineraloccurrence.361028\n",
      "State id: 361029, name: er.mineraloccurrence.361029\n",
      "State id: 361030, name: er.mineraloccurrence.361030\n",
      "State id: 361031, name: er.mineraloccurrence.361031\n",
      "State id: 361032, name: er.mineraloccurrence.361032\n",
      "Inititalising Occurrence Resolver for state sa\n",
      "sa\n",
      "Appending deposit to gml_id for South Australian service\n",
      "State id: 100, name: DONNAS RUSH SOUTH\n",
      "Appending deposit to gml_id for South Australian service\n",
      "State id: 1000, name: ROYAL CHARLIE\n",
      "Appending deposit to gml_id for South Australian service\n",
      "State id: 10000, name: MUNRO\n",
      "Appending deposit to gml_id for South Australian service\n",
      "State id: 10001, name: HYNAM\n",
      "Appending deposit to gml_id for South Australian service\n",
      "State id: 10002, name: HERCULES EAST\n",
      "Appending deposit to gml_id for South Australian service\n",
      "State id: 10003, name: BALD HILL RIDGE 3\n",
      "Appending deposit to gml_id for South Australian service\n",
      "State id: 10004, name: TENT HILL DAM\n",
      "Appending deposit to gml_id for South Australian service\n",
      "State id: 10005, name: KOOTABERRA\n",
      "Appending deposit to gml_id for South Australian service\n",
      "State id: 10006, name: MASLIN WELL\n",
      "Appending deposit to gml_id for South Australian service\n",
      "State id: 10007, name: WIRRAMINNA\n",
      "Inititalising Occurrence Resolver for state nsw\n",
      "nsw\n",
      "State id: 101000, name: er.mineraloccurrence.101000\n",
      "State id: 101001, name: er.mineraloccurrence.101001\n",
      "State id: 101002, name: er.mineraloccurrence.101002\n",
      "State id: 101003, name: er.mineraloccurrence.101003\n",
      "State id: 101004, name: er.mineraloccurrence.101004\n",
      "State id: 101005, name: er.mineraloccurrence.101005\n",
      "State id: 101006, name: er.mineraloccurrence.101006\n",
      "State id: 101007, name: er.mineraloccurrence.101007\n",
      "State id: 101008, name: er.mineraloccurrence.101008\n",
      "State id: 101009, name: er.mineraloccurrence.101009\n",
      "Inititalising Occurrence Resolver for state tas\n",
      "tas\n",
      "State id: 1, name: South Deposit\n",
      "State id: 10, name: Heathorns Prospect 2\n",
      "State id: 100, name: Investigator 22\n",
      "State id: 1000, name: Unnamed\n",
      "State id: 1001, name: Unnamed\n",
      "State id: 10011, name: Branchs Creek\n",
      "State id: 1002, name: Unnamed\n",
      "State id: 1003, name: Unnamed\n",
      "State id: 1004, name: Unnamed\n",
      "State id: 1005, name: Unnamed\n"
     ]
    }
   ],
   "source": [
    "for service in services:\n",
    "    occurrence_resolver = OccurrenceResolver(**service)\n",
    "    print(occurrence_resolver.state)\n",
    "    occurrence_resolver.process_endpoints()"
   ]
  },
  {
   "cell_type": "code",
   "execution_count": 5,
   "metadata": {},
   "outputs": [],
   "source": [
    "import logger"
   ]
  },
  {
   "cell_type": "code",
   "execution_count": 6,
   "metadata": {},
   "outputs": [
    {
     "ename": "SyntaxError",
     "evalue": "invalid syntax (<ipython-input-6-799cfcb56446>, line 1)",
     "output_type": "error",
     "traceback": [
      "\u001b[0;36m  File \u001b[0;32m\"<ipython-input-6-799cfcb56446>\"\u001b[0;36m, line \u001b[0;32m1\u001b[0m\n\u001b[0;31m    logger.logging.\u001b[0m\n\u001b[0m                   ^\u001b[0m\n\u001b[0;31mSyntaxError\u001b[0m\u001b[0;31m:\u001b[0m invalid syntax\n"
     ]
    }
   ],
   "source": [
    "logger.logging."
   ]
  },
  {
   "cell_type": "code",
   "execution_count": null,
   "metadata": {},
   "outputs": [],
   "source": []
  }
 ],
 "metadata": {
  "kernelspec": {
   "display_name": "Python 3",
   "language": "python",
   "name": "python3"
  },
  "language_info": {
   "codemirror_mode": {
    "name": "ipython",
    "version": 3
   },
   "file_extension": ".py",
   "mimetype": "text/x-python",
   "name": "python",
   "nbconvert_exporter": "python",
   "pygments_lexer": "ipython3",
   "version": "3.6.3"
  }
 },
 "nbformat": 4,
 "nbformat_minor": 2
}
