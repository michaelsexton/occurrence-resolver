{
 "cells": [
  {
   "cell_type": "code",
   "execution_count": 1,
   "metadata": {},
   "outputs": [],
   "source": [
    "from resolver import OccurrenceResolver"
   ]
  },
  {
   "cell_type": "code",
   "execution_count": 2,
   "metadata": {},
   "outputs": [],
   "source": [
    "tas =  {\n",
    "                'state' : 'tas',\n",
    "                'endpoint': 'http://www.mrt.tas.gov.au:80/web-services/wfs',\n",
    "                'feature_type' : 'erl:MineralOccurrenceView',\n",
    "                'lite_version': 1,\n",
    "                'er_version' : 2\n",
    "            }"
   ]
  },
  {
   "cell_type": "code",
   "execution_count": 3,
   "metadata": {},
   "outputs": [],
   "source": [
    "occurrence_resolver = OccurrenceResolver(**tas)"
   ]
  },
  {
   "cell_type": "code",
   "execution_count": 4,
   "metadata": {
    "scrolled": true
   },
   "outputs": [
    {
     "name": "stdout",
     "output_type": "stream",
     "text": [
      "http://www.mrt.tas.gov.au:80/web-services/wfs?service=WFS&version=1.1.0&request=GetFeature&typeName=erl%3AMineralOccurrenceView&maxFeatures=3\n",
      "http://www.mrt.tas.gov.au/web-services/wfs?service=WFS&version=1.1.0&request=GetFeature&typeName=er:MineralOccurrence&featureid=mrt.er.mineraloccurrence.1\n",
      "{'mo': 'http://xmlns.geoscience.gov.au/minoccml/1.0', 'erl': 'http://xmlns.earthresourceml.org/earthresourceml-lite/1.0', 'wfs': 'http://www.opengis.net/wfs', 'gml': 'http://www.opengis.net/gml', 'er': 'http://xmlns.earthresourceml.org/EarthResource/2.0'}\n",
      "[<Element '{http://xmlns.earthresourceml.org/EarthResource/2.0}Commodity' at 0x7fe36035d778>, <Element '{http://xmlns.earthresourceml.org/EarthResource/2.0}Commodity' at 0x7fe36035da48>]\n",
      "{'{http://www.w3.org/1999/xlink}href': 'http://resource.geosciml.org/classifier/cgi/commodity-code/iron', '{http://www.w3.org/1999/xlink}title': 'iron'}\n",
      "{'{http://www.w3.org/1999/xlink}href': 'http://resource.geosciml.org/classifier/cgi/commodity-code/magnetite', '{http://www.w3.org/1999/xlink}title': 'Magnetite'}\n",
      "None South Deposit 145.181132551295 -41.5099510254563 [('http://resource.geosciml.org/classifier/cgi/commodity-code/iron', 1, None), ('http://resource.geosciml.org/classifier/cgi/commodity-code/magnetite', 2, None)]\n",
      "http://www.mrt.tas.gov.au/web-services/wfs?service=WFS&version=1.1.0&request=GetFeature&typeName=er:MineralOccurrence&featureid=mrt.er.mineraloccurrence.10\n",
      "{'mo': 'http://xmlns.geoscience.gov.au/minoccml/1.0', 'erl': 'http://xmlns.earthresourceml.org/earthresourceml-lite/1.0', 'wfs': 'http://www.opengis.net/wfs', 'gml': 'http://www.opengis.net/gml', 'er': 'http://xmlns.earthresourceml.org/EarthResource/2.0'}\n",
      "[<Element '{http://xmlns.earthresourceml.org/EarthResource/2.0}Commodity' at 0x7fe3603567c8>]\n",
      "{'{http://www.w3.org/1999/xlink}href': 'http://resource.geosciml.org/classifier/cgi/commodity-code/gold', '{http://www.w3.org/1999/xlink}title': 'gold'}\n",
      "None Heathorns Prospect 2 147.831576479618 -41.2909181656179 [('http://resource.geosciml.org/classifier/cgi/commodity-code/gold', 1, None)]\n",
      "http://www.mrt.tas.gov.au/web-services/wfs?service=WFS&version=1.1.0&request=GetFeature&typeName=er:MineralOccurrence&featureid=mrt.er.mineraloccurrence.100\n",
      "{'mo': 'http://xmlns.geoscience.gov.au/minoccml/1.0', 'erl': 'http://xmlns.earthresourceml.org/earthresourceml-lite/1.0', 'wfs': 'http://www.opengis.net/wfs', 'gml': 'http://www.opengis.net/gml', 'er': 'http://xmlns.earthresourceml.org/EarthResource/2.0'}\n",
      "[<Element '{http://xmlns.earthresourceml.org/EarthResource/2.0}Commodity' at 0x7fe3600d18b8>]\n",
      "{'{http://www.w3.org/1999/xlink}href': 'http://resource.geosciml.org/classifier/cgi/commodity-code/tungsten', '{http://www.w3.org/1999/xlink}title': 'tungsten'}\n",
      "None Investigator 22 143.994960908236 -40.0592890952226 [('http://resource.geosciml.org/classifier/cgi/commodity-code/tungsten', 1, None)]\n"
     ]
    }
   ],
   "source": [
    "occurrence_resolver.process_endpoints()"
   ]
  },
  {
   "cell_type": "code",
   "execution_count": null,
   "metadata": {},
   "outputs": [],
   "source": []
  }
 ],
 "metadata": {
  "kernelspec": {
   "display_name": "Python 3",
   "language": "python",
   "name": "python3"
  },
  "language_info": {
   "codemirror_mode": {
    "name": "ipython",
    "version": 3
   },
   "file_extension": ".py",
   "mimetype": "text/x-python",
   "name": "python",
   "nbconvert_exporter": "python",
   "pygments_lexer": "ipython3",
   "version": "3.6.3"
  }
 },
 "nbformat": 4,
 "nbformat_minor": 2
}
