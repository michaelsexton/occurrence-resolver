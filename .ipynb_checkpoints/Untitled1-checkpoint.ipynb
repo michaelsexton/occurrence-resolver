{
 "cells": [
  {
   "cell_type": "code",
   "execution_count": 1,
   "metadata": {},
   "outputs": [],
   "source": [
    "from resolver import OccurrenceResolver"
   ]
  },
  {
   "cell_type": "code",
   "execution_count": 2,
   "metadata": {},
   "outputs": [],
   "source": [
    "services = [{   'state' : 'wa',\n",
    "                'endpoint': 'http://geossdi.dmp.wa.gov.au/services/wfs',\n",
    "                'feature_type' : 'mo:MinOccView',\n",
    "                'er_version' : 1,\n",
    "                'lite_version': 1,\n",
    "            }, {\n",
    "                'state' : 'nt',\n",
    "                'endpoint' : 'http://geology.data.nt.gov.au:80/geoserver/wfs',\n",
    "                'feature_type' : 'mo:MinOccView',\n",
    "                'er_version' : 1,\n",
    "                'lite_version': 1,\n",
    "            }, {\n",
    "                'state' : 'vic',\n",
    "                'endpoint': 'http://geology.data.vic.gov.au/nvcl/wfs',\n",
    "                'feature_type' : 'mo:MinOccView',\n",
    "                'er_version' : 1,\n",
    "                'lite_version': 1,\n",
    "            }, {\n",
    "                'state' : 'sa',\n",
    "                'endpoint': 'https://sarigdata.pir.sa.gov.au/nvcl/geoserver/wfs',\n",
    "                'feature_type' : 'erl:MineralOccurrenceView',\n",
    "                'lite_version': 2,\n",
    "                'er_version' : 1\n",
    "            }, {\n",
    "                'state' : 'nsw',\n",
    "                'endpoint': 'https://gs.geoscience.nsw.gov.au/geoserver/wfs',\n",
    "                'feature_type' : 'mo:MinOccView',\n",
    "                'lite_version': 1,\n",
    "                'er_version' : 1\n",
    "            },  {\n",
    "                'state' : 'tas',\n",
    "                'endpoint': 'http://www.mrt.tas.gov.au:80/web-services/wfs',\n",
    "                'feature_type' : 'erl:MineralOccurrenceView',\n",
    "                'lite_version': 1,\n",
    "                'er_version' : 2\n",
    "            }\n",
    "           ]"
   ]
  },
  {
   "cell_type": "code",
   "execution_count": 3,
   "metadata": {},
   "outputs": [
    {
     "name": "stdout",
     "output_type": "stream",
     "text": [
      "wa\n",
      "http://geossdi.dmp.wa.gov.au/services/wfs?service=WFS&version=1.1.0&request=GetFeature&typeName=mo%3AMinOccView&maxFeatures=3\n",
      "http://geossdi.dmp.wa.gov.au/services/wfs?service=WFS&version=1.1.0&request=GetFeature&typeName=er%3AMineralOccurrence&featureId=er.mineraloccurrence.S0000001\n",
      "[<Element '{urn:cgi:xmlns:GGIC:EarthResource:1.1}Commodity' at 0x7f41ab461318>, <Element '{urn:cgi:xmlns:GGIC:EarthResource:1.1}Commodity' at 0x7f41ab461638>]\n",
      "None Pieces of Eight - Admiral Hill -28.565092 122.480745 [('Au', 1, None), ('Ag', 2, None)]\n",
      "http://geossdi.dmp.wa.gov.au/services/wfs?service=WFS&version=1.1.0&request=GetFeature&typeName=er%3AMineralOccurrence&featureId=er.mineraloccurrence.S0000002\n",
      "[<Element '{urn:cgi:xmlns:GGIC:EarthResource:1.1}Commodity' at 0x7f41ab45b2c8>]\n",
      "None Albury Heath -26.78737 118.574407 [('Au', 1, None)]\n",
      "http://geossdi.dmp.wa.gov.au/services/wfs?service=WFS&version=1.1.0&request=GetFeature&typeName=er%3AMineralOccurrence&featureId=er.mineraloccurrence.S0000005\n",
      "[<Element '{urn:cgi:xmlns:GGIC:EarthResource:1.1}Commodity' at 0x7f41ab4622c8>]\n",
      "None Aspacia -29.69063 121.012802 [('Au', 1, None)]\n",
      "nt\n",
      "http://geology.data.nt.gov.au:80/geoserver/wfs?service=WFS&version=1.1.0&request=GetFeature&typeName=mo%3AMinOccView&maxFeatures=3\n",
      "http://geology.data.nt.gov.au:80/geoserver/wfs?service=WFS&version=1.1.0&request=GetFeature&typeName=er%3AMineralOccurrence&featureId=er.mineraloccurrence.1\n",
      "[<Element '{urn:cgi:xmlns:GGIC:EarthResource:1.1}Commodity' at 0x7f41ab461b88>]\n",
      "None er.mineraloccurrence.1 -15.1666737321045 129.090687555216 [('Coal', None, 'major')]\n",
      "http://geology.data.nt.gov.au:80/geoserver/wfs?service=WFS&version=1.1.0&request=GetFeature&typeName=er%3AMineralOccurrence&featureId=er.mineraloccurrence.10\n",
      "[<Element '{urn:cgi:xmlns:GGIC:EarthResource:1.1}Commodity' at 0x7f41ab462548>]\n",
      "None er.mineraloccurrence.10 -17.2339668532906 131.255469431007 [('Qtza', None, 'major')]\n",
      "http://geology.data.nt.gov.au:80/geoserver/wfs?service=WFS&version=1.1.0&request=GetFeature&typeName=er%3AMineralOccurrence&featureId=er.mineraloccurrence.100\n",
      "[<Element '{urn:cgi:xmlns:GGIC:EarthResource:1.1}Commodity' at 0x7f41ab4623b8>]\n",
      "None er.mineraloccurrence.100 -12.3601135984816 132.943601783326 [('U', None, 'major')]\n",
      "vic\n",
      "http://geology.data.vic.gov.au/nvcl/wfs?service=WFS&version=1.1.0&request=GetFeature&typeName=mo%3AMinOccView&maxFeatures=3\n",
      "http://geology.data.vic.gov.au/nvcl/wfs?service=WFS&version=1.1.0&request=GetFeature&typeName=er%3AMineralOccurrence&featureId=er.mineraloccurrence.361023\n",
      "[<Element '{urn:cgi:xmlns:GGIC:EarthResource:1.1}Commodity' at 0x7f41ab459138>]\n",
      "None er.mineraloccurrence.361023 -37.00704 147.19722 [('Au', None, 'major')]\n",
      "http://geology.data.vic.gov.au/nvcl/wfs?service=WFS&version=1.1.0&request=GetFeature&typeName=er%3AMineralOccurrence&featureId=er.mineraloccurrence.361024\n",
      "[<Element '{urn:cgi:xmlns:GGIC:EarthResource:1.1}Commodity' at 0x7f41ab459ae8>]\n",
      "None er.mineraloccurrence.361024 -37.03496 147.37232 [('Au', None, 'major')]\n",
      "http://geology.data.vic.gov.au/nvcl/wfs?service=WFS&version=1.1.0&request=GetFeature&typeName=er%3AMineralOccurrence&featureId=er.mineraloccurrence.361025\n",
      "[<Element '{urn:cgi:xmlns:GGIC:EarthResource:1.1}Commodity' at 0x7f41ab459408>]\n",
      "None er.mineraloccurrence.361025 -37.02911 147.16991 [('Au', None, 'major')]\n",
      "sa\n",
      "https://sarigdata.pir.sa.gov.au/nvcl/geoserver/wfs?service=WFS&version=1.1.0&request=GetFeature&typeName=erl%3AMineralOccurrenceView&maxFeatures=3\n",
      "nsw\n",
      "https://gs.geoscience.nsw.gov.au/geoserver/wfs?service=WFS&version=1.1.0&request=GetFeature&typeName=mo%3AMinOccView&maxFeatures=3\n",
      "https://gs.geoscience.nsw.gov.au/geoserver/wfs?service=WFS&version=1.1.0&request=GetFeature&typeName=er%3AMineralOccurrence&featureId=er.mineraloccurrence.101000\n",
      "[<Element '{urn:cgi:xmlns:GGIC:EarthResource:1.1}Commodity' at 0x7f41aa9b49f8>]\n",
      "None er.mineraloccurrence.101000 -31.7582 146.061 [('lead', 1, None)]\n",
      "https://gs.geoscience.nsw.gov.au/geoserver/wfs?service=WFS&version=1.1.0&request=GetFeature&typeName=er%3AMineralOccurrence&featureId=er.mineraloccurrence.101001\n",
      "[<Element '{urn:cgi:xmlns:GGIC:EarthResource:1.1}Commodity' at 0x7f41aa9b8a48>, <Element '{urn:cgi:xmlns:GGIC:EarthResource:1.1}Commodity' at 0x7f41aa9b8d18>]\n",
      "None er.mineraloccurrence.101001 -31.1328 145.732 [('lead', 1, None), ('zinc', 2, None)]\n",
      "https://gs.geoscience.nsw.gov.au/geoserver/wfs?service=WFS&version=1.1.0&request=GetFeature&typeName=er%3AMineralOccurrence&featureId=er.mineraloccurrence.101002\n",
      "[<Element '{urn:cgi:xmlns:GGIC:EarthResource:1.1}Commodity' at 0x7f41aa9b8548>]\n",
      "None er.mineraloccurrence.101002 -31.5965 145.93 [('copper', 1, None)]\n",
      "tas\n",
      "http://www.mrt.tas.gov.au:80/web-services/wfs?service=WFS&version=1.1.0&request=GetFeature&typeName=erl%3AMineralOccurrenceView&maxFeatures=3\n",
      "http://www.mrt.tas.gov.au:80/web-services/wfs?service=WFS&version=1.1.0&request=GetFeature&typeName=er%3AMineralOccurrence&featureId=er.mineraloccurrence.1\n",
      "[]\n",
      "None South Deposit 145.181132551295 -41.5099510254563 []\n",
      "http://www.mrt.tas.gov.au:80/web-services/wfs?service=WFS&version=1.1.0&request=GetFeature&typeName=er%3AMineralOccurrence&featureId=er.mineraloccurrence.10\n",
      "[]\n",
      "None Heathorns Prospect 2 147.831576479618 -41.2909181656179 []\n",
      "http://www.mrt.tas.gov.au:80/web-services/wfs?service=WFS&version=1.1.0&request=GetFeature&typeName=er%3AMineralOccurrence&featureId=er.mineraloccurrence.100\n",
      "[]\n",
      "None Investigator 22 143.994960908236 -40.0592890952226 []\n"
     ]
    }
   ],
   "source": [
    "for service in services:\n",
    "    occurrence_resolver = OccurrenceResolver(**service)\n",
    "    print(occurrence_resolver.state)\n",
    "    occurrence_resolver.process_endpoints()"
   ]
  },
  {
   "cell_type": "code",
   "execution_count": null,
   "metadata": {},
   "outputs": [],
   "source": []
  }
 ],
 "metadata": {
  "kernelspec": {
   "display_name": "Python 3",
   "language": "python",
   "name": "python3"
  },
  "language_info": {
   "codemirror_mode": {
    "name": "ipython",
    "version": 3
   },
   "file_extension": ".py",
   "mimetype": "text/x-python",
   "name": "python",
   "nbconvert_exporter": "python",
   "pygments_lexer": "ipython3",
   "version": "3.6.3"
  }
 },
 "nbformat": 4,
 "nbformat_minor": 2
}
