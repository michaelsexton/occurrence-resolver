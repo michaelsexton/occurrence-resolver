{
 "cells": [
  {
   "cell_type": "code",
   "execution_count": 19,
   "metadata": {},
   "outputs": [],
   "source": [
    "import requests\n",
    "from xml.etree import ElementTree"
   ]
  },
  {
   "cell_type": "code",
   "execution_count": 12,
   "metadata": {},
   "outputs": [],
   "source": [
    "services = {'wa' : {\n",
    "                'endpoint': 'http://geossdi.dmp.wa.gov.au/services/wfs',\n",
    "                'feature_type' : 'mo:MinOccView',\n",
    "                'er_version' : 1,\n",
    "                'lite_version': 1,\n",
    "            }, 'nt': {\n",
    "                'endpoint' : 'http://geology.data.nt.gov.au:80/geoserver/wfs',\n",
    "                'feature_type' : 'mo:MinOccView',\n",
    "                'er_version' : 1,\n",
    "                'lite_version': 1,\n",
    "            },  'vic': {\n",
    "                'endpoint': 'http://geology.data.vic.gov.au/nvcl/wfs',\n",
    "                'feature_type' : 'mo:MinOccView',\n",
    "                'er_version' : 1,\n",
    "                'lite_version': 1,\n",
    "            },  'sa': {\n",
    "                'endpoint': 'https://sarigdata.pir.sa.gov.au/nvcl/geoserver/wfs',\n",
    "                'feature_type' : 'erl:MineralOccurrenceView',\n",
    "                'lite_version': 2,\n",
    "                'er_version' : 1\n",
    "            },  'nsw': {\n",
    "                'endpoint': 'https://gs.geoscience.nsw.gov.au/geoserver/wfs',\n",
    "                'feature_type' : 'mo:MinOccView',\n",
    "                'lite_version': 1,\n",
    "                'er_version' : 1\n",
    "            },  'tas': {\n",
    "                'endpoint': 'http://www.mrt.tas.gov.au:80/web-services/wfs',\n",
    "                'feature_type' : 'erl:MineralOccurrenceView',\n",
    "                'lite_version': 1,\n",
    "                'er_version' : 2\n",
    "            }\n",
    "           }"
   ]
  },
  {
   "cell_type": "code",
   "execution_count": 3,
   "metadata": {},
   "outputs": [],
   "source": [
    "feature_types = {'mo:MinOccView' : {\n",
    "            'name' : 'mo:name',\n",
    "            'shape' : 'mo:shape/gml:Point/gml:pos',\n",
    "            'spec_uri' : 'mo:earthResourceSpecification_uri'\n",
    "        }, 'erl:MineralOccurrenceView' : {\n",
    "            'name' : 'erl:name',\n",
    "            'shape' : 'erl:shape/gml:Point/gml:pos',\n",
    "            'spec_uri' : 'erl:specification_uri'\n",
    "        }}"
   ]
  },
  {
   "cell_type": "code",
   "execution_count": 4,
   "metadata": {},
   "outputs": [],
   "source": [
    "ns = {'wfs': 'http://www.opengis.net/wfs',\n",
    "      'er': 'urn:cgi:xmlns:GGIC:EarthResource:1.1',\n",
    "     'gml':'http://www.opengis.net/gml',\n",
    "     'mo': 'http://xmlns.geoscience.gov.au/minoccml/1.0',\n",
    "     'gsml': 'urn:cgi:xmlns:CGI:GeoSciML:2.0'}"
   ]
  },
  {
   "cell_type": "code",
   "execution_count": 18,
   "metadata": {},
   "outputs": [
    {
     "name": "stdout",
     "output_type": "stream",
     "text": [
      "wa\n",
      "http://geossdi.dmp.wa.gov.au/resource/feature/gswa/mineraloccurrence/S0000001\n",
      "S0000001 Pieces of Eight - Admiral Hill -28.565092 122.480745 [('Au', 1, None), ('Ag', 2, None)]\n",
      "http://geossdi.dmp.wa.gov.au/resource/feature/gswa/mineraloccurrence/S0000002\n",
      "S0000002 Albury Heath -26.78737 118.574407 [('Au', 1, None)]\n",
      "http://geossdi.dmp.wa.gov.au/resource/feature/gswa/mineraloccurrence/S0000005\n",
      "S0000005 Aspacia -29.69063 121.012802 [('Au', 1, None)]\n",
      "nt\n",
      "http://geology.data.nt.gov.au/resource/feature/ntgs/mineraloccurrence/1\n",
      "1 er.mineraloccurrence.1 -15.1666737321045 129.090687555216 [('Coal', None, 'major')]\n",
      "http://geology.data.nt.gov.au/resource/feature/ntgs/mineraloccurrence/10\n",
      "10 er.mineraloccurrence.10 -17.2339668532906 131.255469431007 [('Qtza', None, 'major')]\n",
      "http://geology.data.nt.gov.au/resource/feature/ntgs/mineraloccurrence/100\n",
      "100 er.mineraloccurrence.100 -12.3601135984816 132.943601783326 [('U', None, 'major')]\n",
      "vic\n",
      "http://geology.data.vic.gov.au/resource/feature/GSV/mineraloccurrence/361023\n",
      "361023 er.mineraloccurrence.361023 -37.00704 147.19722 [('Au', None, 'major')]\n",
      "http://geology.data.vic.gov.au/resource/feature/GSV/mineraloccurrence/361024\n",
      "361024 er.mineraloccurrence.361024 -37.03496 147.37232 [('Au', None, 'major')]\n",
      "http://geology.data.vic.gov.au/resource/feature/GSV/mineraloccurrence/361025\n",
      "361025 er.mineraloccurrence.361025 -37.02911 147.16991 [('Au', None, 'major')]\n",
      "sa\n",
      "nsw\n",
      "tas\n",
      "http://www.mrt.tas.gov.au/resource/feature/mrt/er/mineraloccurrence/1\n",
      "1 South Deposit 145.181132551295 -41.5099510254563 []\n",
      "http://www.mrt.tas.gov.au/resource/feature/mrt/er/mineraloccurrence/10\n",
      "10 Heathorns Prospect 2 147.831576479618 -41.2909181656179 []\n",
      "http://www.mrt.tas.gov.au/resource/feature/mrt/er/mineraloccurrence/100\n",
      "100 Investigator 22 143.994960908236 -40.0592890952226 []\n"
     ]
    }
   ],
   "source": [
    "for state, service in services.items():\n",
    "    print(state)\n",
    "    process_endpoints(state, service)"
   ]
  },
  {
   "cell_type": "code",
   "execution_count": 17,
   "metadata": {},
   "outputs": [],
   "source": [
    "def process_endpoints(state, service):\n",
    "    endpoint = service['endpoint']\n",
    "    feature_type = service['feature_type']\n",
    "\n",
    "    parameters = {'service': 'WFS',\n",
    "              'version' : '1.1.0',\n",
    "              'request' : 'GetFeature',\n",
    "              'typeName' : feature_type,\n",
    "              'maxFeatures' : 3}\n",
    "    if service['lite_version'] == 1:\n",
    "        ns['erl'] = 'http://xmlns.earthresourceml.org/earthresourceml-lite/1.0'\n",
    "        ns['wfs'] = 'http://www.opengis.net/wfs'\n",
    "        occurrences_path = \"gml:featureMembers/\" + feature_type\n",
    "    else:\n",
    "        ns['erl'] = 'http://xmlns.earthresourceml.org/earthresourceml-lite/2.0'\n",
    "        ns['wfs'] = 'http://www.opengis.net/wfs/2.0'\n",
    "        parameters['outputFormat'] = 'gml32'\n",
    "        occurrences_path = \"wfs:member/\" + feature_type\n",
    "    response=requests.get(endpoint,params=parameters)\n",
    "    root = ElementTree.fromstring(response.text)\n",
    "    occurrences_path = \"gml:featureMembers/\" + feature_type\n",
    "    occurrences = root.findall(occurrences_path,ns)\n",
    "    process_occurrences(occurrences, feature_type)\n",
    "    "
   ]
  },
  {
   "cell_type": "code",
   "execution_count": 6,
   "metadata": {},
   "outputs": [],
   "source": [
    "def process_occurrences(occurrences, feature_type):\n",
    "    for occurrence in occurrences:\n",
    "        name_path = feature_types[feature_type]['name']\n",
    "        spec_path = feature_types[feature_type]['spec_uri']\n",
    "        shape_path = feature_types[feature_type]['shape']\n",
    "        gml_id = occurrence.attrib['{http://www.opengis.net/gml}id']\n",
    "        otherid = gml_id.split('.')[-1]\n",
    "        name = occurrence.find(name_path,ns).text\n",
    "        latlng = occurrence.find(shape_path,ns)\n",
    "        specification_uri = occurrence.find(spec_path, ns).text\n",
    "        latitude, longitude = [float(pos) for pos in latlng.text.split(' ')]\n",
    "        print(specification_uri)\n",
    "        commods = extract_commodities(specification_uri)\n",
    "        print(otherid, name, latitude, longitude, commods)"
   ]
  },
  {
   "cell_type": "code",
   "execution_count": 5,
   "metadata": {},
   "outputs": [],
   "source": [
    "def extract_commodities(specification_uri):\n",
    "    commods = []\n",
    "    response = requests.get(specification_uri)\n",
    "    root = ElementTree.fromstring(response.text)\n",
    "    commodities = root.findall('gml:featureMembers/er:MineralOccurrence/er:commodityDescription/er:Commodity',ns)\n",
    "    order = 1\n",
    "    for commodity in commodities:\n",
    "        \n",
    "        code = commodity.find('er:commodityName',ns).text.replace('urn:cgi:classifier:GA:commodity:','')\n",
    "        order = commodity.find('er:commodityRank',ns)\n",
    "        importance = commodity.find('er:commodityImportance',ns)\n",
    "        if order is not None:\n",
    "            order = int(order.text)\n",
    "        if importance is not None:\n",
    "            importance = importance.text\n",
    "        commods.append((code,order,importance))\n",
    "    return commods\n"
   ]
  },
  {
   "cell_type": "code",
   "execution_count": 10,
   "metadata": {},
   "outputs": [],
   "source": [
    "def get_order(commodity):\n",
    "    rank_path = 'er:commodityRank'\n",
    "    importance_path "
   ]
  },
  {
   "cell_type": "code",
   "execution_count": 24,
   "metadata": {},
   "outputs": [],
   "source": [
    "spec_uri=root.findall(specification_uri,ns)"
   ]
  },
  {
   "cell_type": "code",
   "execution_count": 33,
   "metadata": {},
   "outputs": [
    {
     "data": {
      "text/plain": [
       "'http://geossdi.dmp.wa.gov.au/resource/feature/gswa/mineraloccurrence/S0000001'"
      ]
     },
     "execution_count": 33,
     "metadata": {},
     "output_type": "execute_result"
    }
   ],
   "source": [
    "uri = spec_uri[0].text\n",
    "uri"
   ]
  },
  {
   "cell_type": "code",
   "execution_count": 29,
   "metadata": {},
   "outputs": [],
   "source": [
    "full_rep = requests.get(uri)"
   ]
  },
  {
   "cell_type": "code",
   "execution_count": 30,
   "metadata": {},
   "outputs": [],
   "source": [
    "root = ElementTree.fromstring(full_rep.text)"
   ]
  },
  {
   "cell_type": "code",
   "execution_count": 32,
   "metadata": {},
   "outputs": [
    {
     "data": {
      "text/plain": [
       "'<?xml version=\"1.0\" encoding=\"UTF-8\"?><wfs:FeatureCollection xmlns:wfs=\"http://www.opengis.net/wfs\" xmlns:xs=\"http://www.w3.org/2001/XMLSchema\" xmlns:mo=\"http://xmlns.geoscience.gov.au/minoccml/1.0\" xmlns:mt=\"http://xmlns.geoscience.gov.au/mineraltenementml/1.0\" xmlns:nvcl=\"http://www.auscope.org/nvcl\" xmlns:gsml=\"urn:cgi:xmlns:CGI:GeoSciML:2.0\" xmlns:ogc=\"http://www.opengis.net/ogc\" xmlns:gsmlp=\"http://xmlns.geosciml.org/geosciml-portrayal/4.0\" xmlns:sa=\"http://www.opengis.net/sampling/1.0\" xmlns:ows=\"http://www.opengis.net/ows\" xmlns:om=\"http://www.opengis.net/om/1.0\" xmlns:xlink=\"http://www.w3.org/1999/xlink\" xmlns:gml=\"http://www.opengis.net/gml\" xmlns:er=\"urn:cgi:xmlns:GGIC:EarthResource:1.1\" xmlns:xsi=\"http://www.w3.org/2001/XMLSchema-instance\" numberOfFeatures=\"1\" timeStamp=\"2018-08-14T00:32:47.411Z\" xsi:schemaLocation=\"urn:cgi:xmlns:GGIC:EarthResource:1.1 http://www.earthresourceml.org/earthresourceml/1.1/xsd/earthResource.xsd http://www.opengis.net/wfs http://schemas.opengis.net/wfs/1.1.0/wfs.xsd\"><gml:featureMembers><er:MineralOccurrence gml:id=\"er.mineraloccurrence.S0000001\"><gml:name codeSpace=\"http://www.ietf.org/rfc/rfc2616\">http://geossdi.dmp.wa.gov.au/resource/feature/gswa/mineraloccurrence/S0000001</gml:name><gml:name codeSpace=\"http://www.dmp.wa.gov.au/371.aspx\">Pieces of Eight - Admiral Hill</gml:name><gsml:observationMethod><gsml:CGI_TermValue><gsml:value codeSpace=\"http://urn.opengis.net/\">urn:ogc:def:nil:OGC::missing</gsml:value></gsml:CGI_TermValue></gsml:observationMethod><gsml:purpose>instance</gsml:purpose><gsml:occurrence xlink:href=\"http://geossdi.dmp.wa.gov.au/resource/feature/gswa/mappedfeature/S0000001\"/><er:classification><er:MineralDepositModel><er:mineralDepositGroup codeSpace=\"http://www.dmp.wa.gov.au/371.aspx\">Vein and hydrothermal - undivided</er:mineralDepositGroup><er:mineralDepositGroup codeSpace=\"http://www.dmp.wa.gov.au/371.aspx\">Unknown/Unassigned</er:mineralDepositGroup><er:mineralDepositType codeSpace=\"http://www.dmp.wa.gov.au/371.aspx\">Unknown/Unassigned</er:mineralDepositType></er:MineralDepositModel></er:classification><er:commodityDescription><er:Commodity gml:id=\"er.commodity.S0000001.121\"><gml:name codeSpace=\"http://www.ietf.org/rfc/rfc2616\">http://geossdi.dmp.wa.gov.au/resource/feature/gswa/commodity/S0000001/121</gml:name><er:commodityGroup codeSpace=\"http://www.dmp.wa.gov.au/371.aspx\">Precious metal</er:commodityGroup><er:commodityName codeSpace=\"urn:cgi:classifierScheme:GA:commodity\">urn:cgi:classifier:GA:commodity:Au</er:commodityName><er:commodityRank>1</er:commodityRank><er:source xlink:href=\"http://geossdi.dmp.wa.gov.au/resource/feature/gswa/mineraloccurrence/S0000001\"/></er:Commodity></er:commodityDescription><er:commodityDescription><er:Commodity gml:id=\"er.commodity.S0000001.264\"><gml:name codeSpace=\"http://www.ietf.org/rfc/rfc2616\">http://geossdi.dmp.wa.gov.au/resource/feature/gswa/commodity/S0000001/264</gml:name><er:commodityGroup codeSpace=\"http://www.dmp.wa.gov.au/371.aspx\">Precious metal</er:commodityGroup><er:commodityName codeSpace=\"urn:cgi:classifierScheme:GA:commodity\">urn:cgi:classifier:GA:commodity:Ag</er:commodityName><er:commodityRank>2</er:commodityRank><er:source xlink:href=\"http://geossdi.dmp.wa.gov.au/resource/feature/gswa/mineraloccurrence/S0000001\"/></er:Commodity></er:commodityDescription><er:oreAmount><er:Resource><er:calculationMethod>Unknown</er:calculationMethod><er:date><gml:TimeInstant><gml:timePosition>2005-07-12T16:00:00Z</gml:timePosition></gml:TimeInstant></er:date><er:sourceReference xlink:href=\"http://www.opengis.net/def/nil/OGC/0/unknown\"/><er:ore><gsml:CGI_NumericValue><gsml:principalValue uom=\"urn:ogc:def:uom:UCUM::Mt\">0.695</gsml:principalValue></gsml:CGI_NumericValue></er:ore><er:measureDetails><er:CommodityMeasure><er:commodityAmount><gsml:CGI_NumericValue><gsml:principalValue uom=\"urn:ogc:def:uom:UCUM::kg\">903.5</gsml:principalValue></gsml:CGI_NumericValue></er:commodityAmount><er:grade><gsml:CGI_NumericValue><gsml:principalValue uom=\"urn:ogc:def:uom:UCUM::g.t-1\">1.3</gsml:principalValue></gsml:CGI_NumericValue></er:grade><er:commodityOfInterest xlink:href=\"http://geossdi.dmp.wa.gov.au/resource/feature/gswa/commodity/S0000001/121\"/></er:CommodityMeasure></er:measureDetails><er:category>inferred mineral resource</er:category><er:includesReserves>false</er:includesReserves></er:Resource></er:oreAmount><er:type>mineral deposit</er:type></er:MineralOccurrence></gml:featureMembers></wfs:FeatureCollection>'"
      ]
     },
     "execution_count": 32,
     "metadata": {},
     "output_type": "execute_result"
    }
   ],
   "source": [
    "full_rep.text"
   ]
  },
  {
   "cell_type": "code",
   "execution_count": 35,
   "metadata": {},
   "outputs": [],
   "source": [
    "name_path = 'gml:featureMembers/er:MineralOccurrence/gml:name'\n",
    "coords_path = 'gml:featureMembers/er:MineralOccurrence/gsml:occurrence'\n",
    "commods_path = 'gml:featureMembers/er:MineralOccurrence/er:commodityDescription/er:Commodity/er:commodityName'"
   ]
  },
  {
   "cell_type": "code",
   "execution_count": 38,
   "metadata": {},
   "outputs": [],
   "source": [
    "names = root.findall(name_path,ns)"
   ]
  },
  {
   "cell_type": "code",
   "execution_count": 42,
   "metadata": {},
   "outputs": [],
   "source": [
    "commods = root.findall(commods_path,ns)"
   ]
  },
  {
   "cell_type": "code",
   "execution_count": 44,
   "metadata": {},
   "outputs": [
    {
     "data": {
      "text/plain": [
       "[<Element '{urn:cgi:xmlns:GGIC:EarthResource:1.1}commodityName' at 0x7f4ab5ed55e8>,\n",
       " <Element '{urn:cgi:xmlns:GGIC:EarthResource:1.1}commodityName' at 0x7f4ab5ed5908>]"
      ]
     },
     "execution_count": 44,
     "metadata": {},
     "output_type": "execute_result"
    }
   ],
   "source": [
    "commods"
   ]
  },
  {
   "cell_type": "code",
   "execution_count": 45,
   "metadata": {},
   "outputs": [
    {
     "name": "stdout",
     "output_type": "stream",
     "text": [
      "urn:cgi:classifier:GA:commodity:Au\n",
      "urn:cgi:classifier:GA:commodity:Ag\n"
     ]
    }
   ],
   "source": [
    "for commod in commods:\n",
    "    print (commod.text)"
   ]
  },
  {
   "cell_type": "code",
   "execution_count": null,
   "metadata": {},
   "outputs": [],
   "source": []
  }
 ],
 "metadata": {
  "kernelspec": {
   "display_name": "Python 3",
   "language": "python",
   "name": "python3"
  },
  "language_info": {
   "codemirror_mode": {
    "name": "ipython",
    "version": 3
   },
   "file_extension": ".py",
   "mimetype": "text/x-python",
   "name": "python",
   "nbconvert_exporter": "python",
   "pygments_lexer": "ipython3",
   "version": "3.6.3"
  }
 },
 "nbformat": 4,
 "nbformat_minor": 2
}
