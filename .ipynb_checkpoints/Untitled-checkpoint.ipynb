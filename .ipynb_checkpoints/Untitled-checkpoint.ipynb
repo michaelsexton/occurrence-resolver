{
 "cells": [
  {
   "cell_type": "code",
   "execution_count": 31,
   "metadata": {},
   "outputs": [],
   "source": [
    "import cx_Oracle\n",
    "import yaml\n",
    "import requests\n",
    "from xml.etree import ElementTree\n",
    "\n",
    "import pandas as pd"
   ]
  },
  {
   "cell_type": "code",
   "execution_count": 5,
   "metadata": {},
   "outputs": [],
   "source": [
    "with open(\"/home/michael/Developer/database.yml\", 'r') as stream:\n",
    "    credentials = yaml.load(stream)\n",
    "oraprod = credentials['oraprod']"
   ]
  },
  {
   "cell_type": "code",
   "execution_count": 34,
   "metadata": {},
   "outputs": [],
   "source": [
    "ns = {'wfs': 'http://www.opengis.net/wfs',\n",
    "      'er': 'urn:cgi:xmlns:GGIC:EarthResource:1.1',\n",
    "     'gml':'http://www.opengis.net/gml'}"
   ]
  },
  {
   "cell_type": "code",
   "execution_count": 6,
   "metadata": {},
   "outputs": [],
   "source": [
    "connection = cx_Oracle.connect(user=oraprod[\"user\"],password=oraprod[\"password\"],dsn=oraprod[\"dsn\"])\n"
   ]
  },
  {
   "cell_type": "code",
   "execution_count": 17,
   "metadata": {},
   "outputs": [],
   "source": [
    "occurrences_sql = 'select * from mgd.occurrences where state = \\'WA\\''"
   ]
  },
  {
   "cell_type": "code",
   "execution_count": 18,
   "metadata": {},
   "outputs": [],
   "source": [
    "states = {'WA':'http://geossdi.dmp.wa.gov.au/resource/feature/gswa/mineraloccurrence/'}"
   ]
  },
  {
   "cell_type": "code",
   "execution_count": 20,
   "metadata": {},
   "outputs": [],
   "source": [
    "#for state in states:\n",
    "#    pd.read_sql(occurrences_sql,connection)"
   ]
  },
  {
   "cell_type": "code",
   "execution_count": 28,
   "metadata": {},
   "outputs": [],
   "source": [
    "wa_url = \"http://geossdi.dmp.wa.gov.au/resource/feature/gswa/mineraloccurrence/\""
   ]
  },
  {
   "cell_type": "code",
   "execution_count": 29,
   "metadata": {},
   "outputs": [],
   "source": [
    "df=pd.read_sql(occurrences_sql,connection)"
   ]
  },
  {
   "cell_type": "code",
   "execution_count": 23,
   "metadata": {},
   "outputs": [],
   "source": [
    "def check_pid(uri, id):\n",
    "    url = uri + id\n",
    "    "
   ]
  },
  {
   "cell_type": "code",
   "execution_count": 35,
   "metadata": {},
   "outputs": [],
   "source": [
    "def resolve_pid(pid, feature_type, ns):\n",
    "    if not pid:\n",
    "        return \"BLANK\"\n",
    "    response = requests.get(pid)\n",
    "    xml = response.text\n",
    "    root = ElementTree.fromstring(xml)\n",
    "    xpath = \"wfs:FeatureCollection/gml:featureMembers/{0}\".format(feature_type)\n",
    "    nodes = root.findall(xpath, ns)\n",
    "    if len(nodes) > 0:\n",
    "        return True\n",
    "    return False"
   ]
  },
  {
   "cell_type": "code",
   "execution_count": null,
   "metadata": {},
   "outputs": [],
   "source": [
    "df[\"EXISTS\"] = df[\"OTHERID\"].apply(lambda x: resolve_pid(wa_url+x,\"er:MineralOccurrence\",ns))"
   ]
  },
  {
   "cell_type": "code",
   "execution_count": null,
   "metadata": {},
   "outputs": [],
   "source": []
  }
 ],
 "metadata": {
  "kernelspec": {
   "display_name": "Python 3",
   "language": "python",
   "name": "python3"
  },
  "language_info": {
   "codemirror_mode": {
    "name": "ipython",
    "version": 3
   },
   "file_extension": ".py",
   "mimetype": "text/x-python",
   "name": "python",
   "nbconvert_exporter": "python",
   "pygments_lexer": "ipython3",
   "version": "3.6.3"
  }
 },
 "nbformat": 4,
 "nbformat_minor": 2
}
