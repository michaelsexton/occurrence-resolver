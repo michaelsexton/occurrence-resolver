{
 "cells": [
  {
   "cell_type": "code",
   "execution_count": 1,
   "metadata": {},
   "outputs": [],
   "source": [
    "import requests\n",
    "from xml.etree import ElementTree"
   ]
  },
  {
   "cell_type": "code",
   "execution_count": 2,
   "metadata": {},
   "outputs": [],
   "source": [
    "ns = {'wfs': 'http://www.opengis.net/wfs',\n",
    "      'er': 'urn:cgi:xmlns:GGIC:EarthResource:1.1',\n",
    "     'gml':'http://www.opengis.net/gml',\n",
    "     'mo': 'http://xmlns.geoscience.gov.au/minoccml/1.0',\n",
    "     'gsml': 'urn:cgi:xmlns:CGI:GeoSciML:2.0'}\n",
    "ElementTree.register_namespace('gsml','urn:cgi:xmlns:CGI:GeoSciML:2.0')"
   ]
  },
  {
   "cell_type": "code",
   "execution_count": 25,
   "metadata": {},
   "outputs": [],
   "source": [
    "services = {'wa' : {\n",
    "                'endpoint': 'http://geossdi.dmp.wa.gov.au/services/wfs',\n",
    "                'feature_type' : 'gsml:MappedFeature',\n",
    "                'er_version' : 1,\n",
    "                'lite_version': 1,\n",
    "            }, 'nt': {\n",
    "                'endpoint' : 'http://geology.data.nt.gov.au:80/geoserver/wfs',\n",
    "                'feature_type' : 'gsml:MappedFeature',\n",
    "                'er_version' : 1,\n",
    "                'lite_version': 1,\n",
    "            #},  'vic': {\n",
    "            #    'endpoint': 'http://geology.data.vic.gov.au/nvcl/wfs',\n",
    "            #    'feature_type' : 'gsml:MappedFeature',\n",
    "            #    'er_version' : 1,\n",
    "            #    'lite_version': 1,\n",
    "            },  'sa': {\n",
    "                'endpoint': 'https://sarigdata.pir.sa.gov.au/nvcl/geoserver/wfs',\n",
    "                'feature_type' : 'gsml:MappedFeature',\n",
    "                'lite_version': 2,\n",
    "                'er_version' : 1\n",
    "            },  'nsw': {\n",
    "                'endpoint': 'https://gs.geoscience.nsw.gov.au/geoserver/wfs',\n",
    "                'feature_type' : 'gsml:MappedFeature',\n",
    "                'lite_version': 1,\n",
    "                'er_version' : 1\n",
    "            },  'tas': {\n",
    "                'endpoint': 'http://www.mrt.tas.gov.au:80/web-services/wfs',\n",
    "                'feature_type' : 'er:MineralOccurrence',\n",
    "                'lite_version': 1,\n",
    "                'er_version' : 2\n",
    "            }\n",
    "           }"
   ]
  },
  {
   "cell_type": "code",
   "execution_count": 54,
   "metadata": {},
   "outputs": [],
   "source": [
    "feature_types = {'er:MineralOccurrence' : {\n",
    "            'occurrence' : 'gml:featureMembers/er:MineralOccurrence',\n",
    "            'name' : 'gml:featureMembers/er:MineralOccurrence/gml:name',\n",
    "            'shape' : 'gml:featureMembers/er:MineralOccurrence/gml:occurrence/gsml:MappedFeature/gsml:shape/gml:Point/gml:pos',\n",
    "            'commodities' : 'gml:featureMembers/er:MineralOccurrence/er:commodityDescription/er:Commodity'\n",
    "        }, 'gsml:MappedFeature' : {\n",
    "            'occurrence' : 'gsml:specification/er:MineralOccurrence',\n",
    "            'name' : 'gsml:MappedFeature/gml:name',\n",
    "            'shape' : 'gsml:MappedFeature/gsml:shape/gml:Point/gml:pos',\n",
    "            'commodities' : 'gsml:MappedFeature/gsml:specification/er:MineralOccurrence/er:commodityDescription/er:Commodity'\n",
    "        }}"
   ]
  },
  {
   "cell_type": "code",
   "execution_count": 47,
   "metadata": {},
   "outputs": [
    {
     "name": "stdout",
     "output_type": "stream",
     "text": [
      "http://geossdi.dmp.wa.gov.au/services/wfs\n",
      "gml:name\n",
      "-28.565092 122.480745\n",
      "[('Au', 1, None), ('Ag', 2, None)]\n",
      "gml:name\n",
      "-26.78737 118.574407\n",
      "[('Au', 1, None)]\n",
      "gml:name\n",
      "-29.69063 121.012802\n",
      "[('Au', 1, None)]\n",
      "gml:name\n",
      "-30.239151 121.222783\n",
      "[('Au', 1, None)]\n",
      "gml:name\n",
      "-33.574907 117.920153\n",
      "[('Au', 1, None)]\n",
      "gml:name\n",
      "-33.54337 117.908142\n",
      "[('Au', 1, None), ('Aggc', 2, None)]\n",
      "gml:name\n",
      "-20.92667 120.203499\n",
      "[('Au', 1, None), ('Ag', 2, None)]\n",
      "gml:name\n",
      "-20.9307 120.2117\n",
      "[('Au', 1, None), ('Ni', 2, None)]\n",
      "gml:name\n",
      "-27.963344 122.3125\n",
      "[('Au', 1, None)]\n",
      "gml:name\n",
      "-27.622836 122.351017\n",
      "[('Au', 1, None)]\n",
      "http://geology.data.nt.gov.au:80/geoserver/wfs\n",
      "gml:name\n",
      "-15.1666737321045 129.090687555216\n",
      "[('Coal', None, 'major')]\n",
      "gml:name\n",
      "-17.2339668532906 131.255469431007\n",
      "[('Qtza', None, 'major')]\n",
      "gml:name\n",
      "-12.3601135984816 132.943601783326\n",
      "[('U', None, 'major')]\n",
      "gml:name\n",
      "-23.2326262071066 135.10925162626\n",
      "[('Brl', None, 'minor'), ('Grt', None, 'minor'), ('Mica', None, 'major'), ('Cu', None, 'minor')]\n",
      "gml:name\n",
      "-23.2291070829012 135.116520928687\n",
      "[('Mica', None, 'major'), ('Brl', None, 'minor')]\n",
      "gml:name\n",
      "-23.2262124912517 135.121767164693\n",
      "[('Mica', None, 'major'), ('Cu', None, 'minor')]\n",
      "gml:name\n",
      "-23.230638507215 135.122074189327\n",
      "[('Mica', None, 'major')]\n",
      "gml:name\n",
      "-23.2559953296732 135.287679198393\n",
      "[('Mica', None, 'major')]\n",
      "gml:name\n",
      "-23.2415605421435 135.33334747554\n",
      "[('Mica', None, 'major')]\n",
      "gml:name\n",
      "-22.8669202439634 135.451782874663\n",
      "[('Mica', None, 'major')]\n",
      "https://sarigdata.pir.sa.gov.au/nvcl/geoserver/wfs\n",
      "gml:name\n",
      "134.7945424 -29.4207489\n",
      "[('Sd', None, 'major')]\n",
      "gml:name\n",
      "134.7898837 -28.9255012\n",
      "[('Gvl', None, 'major')]\n",
      "gml:name\n",
      "135.579911 -29.0070021\n",
      "[('Sd', None, 'major')]\n",
      "gml:name\n",
      "135.1797688 -29.468169\n",
      "[('Gran', None, 'major')]\n",
      "gml:name\n",
      "135.461078 -27.5537924\n",
      "[('Sd', None, 'major')]\n",
      "gml:name\n",
      "136.8559193 -30.5658943\n",
      "[('Lst', None, 'major')]\n",
      "gml:name\n",
      "136.8004122 -30.9172472\n",
      "[('Gvl', None, 'minor'), ('Sd', None, 'major')]\n",
      "gml:name\n",
      "137.2561945 -30.6768358\n",
      "[('Sl', None, 'major')]\n",
      "gml:name\n",
      "139.7820494 -37.1832886\n",
      "[('Dol', None, 'minor'), ('Lst', None, 'major')]\n",
      "gml:name\n",
      "137.7973739 -33.7585365\n",
      "[('Sd', None, 'major')]\n",
      "https://gs.geoscience.nsw.gov.au/geoserver/wfs\n",
      "gml:name\n"
     ]
    },
    {
     "ename": "AttributeError",
     "evalue": "'NoneType' object has no attribute 'text'",
     "output_type": "error",
     "traceback": [
      "\u001b[0;31m---------------------------------------------------------------------------\u001b[0m",
      "\u001b[0;31mAttributeError\u001b[0m                            Traceback (most recent call last)",
      "\u001b[0;32m<ipython-input-47-751a8f646f10>\u001b[0m in \u001b[0;36m<module>\u001b[0;34m()\u001b[0m\n\u001b[1;32m      1\u001b[0m \u001b[0;32mfor\u001b[0m \u001b[0mstate\u001b[0m\u001b[0;34m,\u001b[0m \u001b[0mservice\u001b[0m \u001b[0;32min\u001b[0m \u001b[0mservices\u001b[0m\u001b[0;34m.\u001b[0m\u001b[0mitems\u001b[0m\u001b[0;34m(\u001b[0m\u001b[0;34m)\u001b[0m\u001b[0;34m:\u001b[0m\u001b[0;34m\u001b[0m\u001b[0m\n\u001b[0;32m----> 2\u001b[0;31m     \u001b[0mprocess_endpoints\u001b[0m\u001b[0;34m(\u001b[0m\u001b[0mstate\u001b[0m\u001b[0;34m,\u001b[0m \u001b[0mservice\u001b[0m\u001b[0;34m)\u001b[0m\u001b[0;34m\u001b[0m\u001b[0m\n\u001b[0m",
      "\u001b[0;32m<ipython-input-46-64f1b21cd1c5>\u001b[0m in \u001b[0;36mprocess_endpoints\u001b[0;34m(state, service)\u001b[0m\n\u001b[1;32m     31\u001b[0m     \u001b[0mfeatures\u001b[0m \u001b[0;34m=\u001b[0m \u001b[0mroot\u001b[0m\u001b[0;34m.\u001b[0m\u001b[0mfind\u001b[0m\u001b[0;34m(\u001b[0m\u001b[0;34m'gml:featureMembers'\u001b[0m\u001b[0;34m,\u001b[0m \u001b[0mns\u001b[0m\u001b[0;34m)\u001b[0m \u001b[0;32mor\u001b[0m \u001b[0mroot\u001b[0m\u001b[0;34m.\u001b[0m\u001b[0mfindall\u001b[0m\u001b[0;34m(\u001b[0m\u001b[0;34m'gml:featureMember'\u001b[0m\u001b[0;34m,\u001b[0m \u001b[0mns\u001b[0m\u001b[0;34m)\u001b[0m \u001b[0;32mor\u001b[0m \u001b[0mroot\u001b[0m\u001b[0;34m.\u001b[0m\u001b[0mfindall\u001b[0m\u001b[0;34m(\u001b[0m\u001b[0;34m'wfs:member'\u001b[0m\u001b[0;34m,\u001b[0m \u001b[0mns\u001b[0m\u001b[0;34m)\u001b[0m\u001b[0;34m\u001b[0m\u001b[0m\n\u001b[1;32m     32\u001b[0m     \u001b[0;32mfor\u001b[0m \u001b[0mfeature\u001b[0m \u001b[0;32min\u001b[0m \u001b[0mfeatures\u001b[0m\u001b[0;34m:\u001b[0m\u001b[0;34m\u001b[0m\u001b[0m\n\u001b[0;32m---> 33\u001b[0;31m         \u001b[0mprocess_features\u001b[0m\u001b[0;34m(\u001b[0m\u001b[0mfeature\u001b[0m\u001b[0;34m,\u001b[0m \u001b[0mfeature_type\u001b[0m\u001b[0;34m)\u001b[0m\u001b[0;34m\u001b[0m\u001b[0m\n\u001b[0m\u001b[1;32m     34\u001b[0m     \u001b[0;31m#process_occurrences(occurrences, feature_type)\u001b[0m\u001b[0;34m\u001b[0m\u001b[0;34m\u001b[0m\u001b[0m\n",
      "\u001b[0;32m<ipython-input-16-1ccaff2526cf>\u001b[0m in \u001b[0;36mprocess_features\u001b[0;34m(feature, feature_type)\u001b[0m\n\u001b[1;32m      7\u001b[0m     \u001b[0mshapes\u001b[0m \u001b[0;34m=\u001b[0m \u001b[0mfeature\u001b[0m\u001b[0;34m.\u001b[0m\u001b[0mfind\u001b[0m\u001b[0;34m(\u001b[0m\u001b[0mshape_path\u001b[0m\u001b[0;34m,\u001b[0m \u001b[0mns\u001b[0m\u001b[0;34m)\u001b[0m\u001b[0;34m\u001b[0m\u001b[0m\n\u001b[1;32m      8\u001b[0m     \u001b[0mcommodities\u001b[0m \u001b[0;34m=\u001b[0m \u001b[0mfeature\u001b[0m\u001b[0;34m.\u001b[0m\u001b[0mfindall\u001b[0m\u001b[0;34m(\u001b[0m\u001b[0mcommods_path\u001b[0m\u001b[0;34m,\u001b[0m \u001b[0mns\u001b[0m\u001b[0;34m)\u001b[0m\u001b[0;34m\u001b[0m\u001b[0m\n\u001b[0;32m----> 9\u001b[0;31m     \u001b[0mprint\u001b[0m\u001b[0;34m(\u001b[0m\u001b[0mshapes\u001b[0m\u001b[0;34m.\u001b[0m\u001b[0mtext\u001b[0m\u001b[0;34m)\u001b[0m\u001b[0;34m\u001b[0m\u001b[0m\n\u001b[0m\u001b[1;32m     10\u001b[0m     \u001b[0mcommods\u001b[0m \u001b[0;34m=\u001b[0m \u001b[0mprocess_commodities\u001b[0m\u001b[0;34m(\u001b[0m\u001b[0mcommodities\u001b[0m\u001b[0;34m)\u001b[0m\u001b[0;34m\u001b[0m\u001b[0m\n\u001b[1;32m     11\u001b[0m     \u001b[0mprint\u001b[0m\u001b[0;34m(\u001b[0m\u001b[0mcommods\u001b[0m\u001b[0;34m)\u001b[0m\u001b[0;34m\u001b[0m\u001b[0m\n",
      "\u001b[0;31mAttributeError\u001b[0m: 'NoneType' object has no attribute 'text'"
     ]
    }
   ],
   "source": [
    "for state, service in services.items():\n",
    "    process_endpoints(state, service)"
   ]
  },
  {
   "cell_type": "code",
   "execution_count": null,
   "metadata": {},
   "outputs": [],
   "source": []
  },
  {
   "cell_type": "code",
   "execution_count": 55,
   "metadata": {},
   "outputs": [],
   "source": [
    "def process_endpoints(state, service):\n",
    "    endpoint = service['endpoint']\n",
    "    feature_type = service['feature_type']\n",
    "    parameters = {'service': 'WFS',\n",
    "              'version' : '1.1.0',\n",
    "              'request' : 'GetFeature',\n",
    "              'typeName' : feature_type,\n",
    "              'maxFeatures' : 10}\n",
    "    \n",
    "    \n",
    "    if service['er_version'] == 2:\n",
    "        ns['er'] = 'http://xmlns.earthresourceml.org/EarthResource/2.0'\n",
    "        ns['gsml'] = 'http://xmlns.geosciml.org/GeoSciML-Core/3.2'\n",
    "        ns['gml'] = 'http://www.opengis.net/gml/3.2'\n",
    "        ns['wfs'] = 'http://www.opengis.net/wfs/2.0'\n",
    "        parameters['outpurFormat'] ='gml32'\n",
    "    else:\n",
    "        ns['er'] = 'urn:cgi:xmlns:GGIC:EarthResource:1.1'\n",
    "        ns['gsml'] = 'urn:cgi:xmlns:CGI:GeoSciML:2.0'\n",
    "        ns['gml'] = 'http://www.opengis.net/gml'\n",
    "        ns['wfs'] = 'http://www.opengis.net/wfs'\n",
    "        parameters['outpurFormat'] ='gml3'\n",
    "    print(endpoint)\n",
    "    parameters = {'service': 'WFS',\n",
    "              'version' : '1.1.0',\n",
    "              'request' : 'GetFeature',\n",
    "              'typeName' : feature_type,\n",
    "              'maxFeatures' : 10}\n",
    "    response=requests.get(endpoint,params=parameters)\n",
    "    print(response.text)\n",
    "    root = ElementTree.fromstring(response.text)\n",
    "    features = root.findall('gml:featureMembers', ns) or root.findall('gml:featureMember', ns) or root.findall('wfs:member', ns)\n",
    "    for feature in features:\n",
    "        process_features(feature, feature_type)\n",
    "    #process_occurrences(occurrences, feature_type)"
   ]
  },
  {
   "cell_type": "code",
   "execution_count": 66,
   "metadata": {},
   "outputs": [],
   "source": [
    "def process_features(feature, feature_type):\n",
    "    print(feature)\n",
    "    name_path = feature_types[feature_type]['name']\n",
    "    shape_path = feature_types[feature_type]['shape']\n",
    "    commods_path=feature_types[feature_type]['commodities']\n",
    "    print(name_path, shape_path, commods_path)\n",
    "    names = feature.find(name_path, ns)\n",
    "    print(names)\n",
    "    shapes = feature.find(shape_path, ns)\n",
    "    commodities = feature.findall(commods_path, ns)\n",
    "    print(shapes.text)\n",
    "    commods = process_commodities(commodities)\n",
    "    print(commods)"
   ]
  },
  {
   "cell_type": "code",
   "execution_count": 57,
   "metadata": {},
   "outputs": [],
   "source": [
    "def process_commodities(commodities):\n",
    "    commods = []\n",
    "    for commodity in commodities:\n",
    "        code = commodity.find('er:commodityName',ns).text.replace('urn:cgi:classifier:GA:commodity:','')\n",
    "        order = commodity.find('er:commodityRank',ns)\n",
    "        importance = commodity.find('er:commodityImportance',ns)\n",
    "        if order is not None:\n",
    "            order = int(order.text)\n",
    "        if importance is not None:\n",
    "            importance = importance.text\n",
    "        commods.append((code,order,importance))\n",
    "    return commods"
   ]
  },
  {
   "cell_type": "code",
   "execution_count": 67,
   "metadata": {
    "scrolled": true
   },
   "outputs": [
    {
     "name": "stdout",
     "output_type": "stream",
     "text": [
      "https://gs.geoscience.nsw.gov.au/geoserver/wfs\n",
      "<?xml version=\"1.0\" encoding=\"UTF-8\"?><wfs:FeatureCollection xmlns:wfs=\"http://www.opengis.net/wfs\" xmlns:xs=\"http://www.w3.org/2001/XMLSchema\" xmlns:mo=\"http://xmlns.geoscience.gov.au/minoccml/1.0\" xmlns:gml=\"http://www.opengis.net/gml\" xmlns:gsnsw=\"https://www.geoscience.nsw.gov.au/\" xmlns:geophys=\"https://www.geoscience.nsw.gov.au/geophys/\" xmlns:ogc=\"http://www.opengis.net/ogc\" xmlns:ows=\"http://www.opengis.net/ows\" xmlns:gsml=\"urn:cgi:xmlns:CGI:GeoSciML:2.0\" xmlns:er=\"urn:cgi:xmlns:GGIC:EarthResource:1.1\" xmlns:erl=\"http://xmlns.earthresourceml.org/earthresourceml-lite/1.0\" xmlns:xlink=\"http://www.w3.org/1999/xlink\" xmlns:xsi=\"http://www.w3.org/2001/XMLSchema-instance\" numberOfFeatures=\"10\" timeStamp=\"2018-08-15T01:23:34.950Z\" xsi:schemaLocation=\"urn:cgi:xmlns:GGIC:EarthResource:1.1 http://www.earthresourceml.org/earthresourceml/1.1/xsd/earthResource.xsd http://www.opengis.net/wfs http://schemas.opengis.net/wfs/1.1.0/wfs.xsd\"><gml:featureMember><gsml:MappedFeature gml:id=\"gsml.mappedfeature.101000\"><gml:name codeSpace=\"http://www.ietf.org/rfc/rfc2616\">http://gs.geoscience.nsw.gov.au/resource/feature/gsnsw/mappedfeature/101000</gml:name><gsml:observationMethod><gsml:CGI_TermValue><gsml:value codeSpace=\"http://www.resources.nsw.gov.au/minerals\">250K</gsml:value></gsml:CGI_TermValue></gsml:observationMethod><gsml:positionalAccuracy><gsml:CGI_NumericValue><gsml:principalValue uom=\"urn:ogc:def:nil:OGC::unknown\">250.0</gsml:principalValue></gsml:CGI_NumericValue></gsml:positionalAccuracy><gsml:samplingFrame xlink:href=\"http://resource.geosciml.org/uri-cgi/earthnaturalsurface\" xlink:title=\"Earth's Natural Surface\"/><gsml:specification><er:MineralOccurrence gml:id=\"er.mineraloccurrence.101000\"><gml:description>Two percussion holes drilled by CRA Exploration failed to intersect significant mineralisation. Highest values were 60ppm Cu, 1050ppm Pb, 180ppm Zn, 1ppm Ag, 0.08ppm Au.</gml:description><gml:name codeSpace=\"http://www.resources.nsw.gov.au/minerals\">Errenbenderry</gml:name><gml:name codeSpace=\"http://www.ietf.org/rfc/rfc2616\">http://gs.geoscience.nsw.gov.au/resource/feature/gsnsw/mineraloccurrence/101000</gml:name><gsml:observationMethod><gsml:CGI_TermValue><gsml:value codeSpace=\"http://urn.opengis.net/\">company report</gsml:value></gsml:CGI_TermValue></gsml:observationMethod><gsml:purpose>instance</gsml:purpose><gsml:occurrence xlink:href=\"http://gs.geoscience.nsw.gov.au/resource/feature/gsnsw/mappedfeature/101000\"/><gsml:preferredAge><gsml:GeologicEvent><gsml:eventAge><gsml:CGI_TermValue><gsml:value codeSpace=\"http://www.resources.nsw.gov.au/minerals\">UNKNOWN</gsml:value></gsml:CGI_TermValue></gsml:eventAge><gsml:eventProcess><gsml:CGI_TermValue><gsml:value codeSpace=\"urn:ogc:def:nil:OGC::unknown\">UNKNOWN</gsml:value></gsml:CGI_TermValue></gsml:eventProcess></gsml:GeologicEvent></gsml:preferredAge><er:planarOrientation><gsml:CGI_PlanarOrientation><gsml:convention>dip dip direction</gsml:convention><gsml:polarity>unknown</gsml:polarity></gsml:CGI_PlanarOrientation></er:planarOrientation><er:classification><er:MineralDepositModel><er:mineralDepositGroup codeSpace=\"http://www.resources.nsw.gov.au/minerals\">vein hydrothermal</er:mineralDepositGroup><er:mineralDepositType codeSpace=\"http://www.resources.nsw.gov.au/minerals\">vein Pb</er:mineralDepositType></er:MineralDepositModel></er:classification><er:commodityDescription><er:Commodity gml:id=\"er.commodity.101000.PB\"><gml:name codeSpace=\"http://www.ietf.org/rfc/rfc2616\">http://gs.geoscience.nsw.gov.au/resource/feature/gsnsw/commodity/101000.PB</gml:name><er:commodityGroup codeSpace=\"http://www.resources.nsw.gov.au/minerals\">base-metal</er:commodityGroup><er:commodityName codeSpace=\"urn:cgi:classifierScheme:GA:commodity\">lead</er:commodityName><er:commodityRank>1</er:commodityRank><er:source xlink:href=\"http://gs.geoscience.nsw.gov.au/resource/feature/gsnsw/mineraloccurrence/101000\"/></er:Commodity></er:commodityDescription><er:composition><er:EarthResourceMaterial><er:earthResourceMaterialRole>host rock</er:earthResourceMaterialRole><er:material><gsml:RockMaterial><gsml:purpose>instance</gsml:purpose><gsml:geneticCategory><gsml:CGI_TermValue><gsml:value codeSpace=\"http://urn.opengis.net/\">metasediment</gsml:value></gsml:CGI_TermValue></gsml:geneticCategory><gsml:consolidationDegree><gsml:CGI_TermValue><gsml:value codeSpace=\"http://urn.opengis.net/\">urn:ogc:def:nil:OGC::missing</gsml:value></gsml:CGI_TermValue></gsml:consolidationDegree><gsml:lithology xlink:href=\"urn:cgi:classifier:GSNSW:LithologyName:slate\" xlink:title=\"slate\"/></gsml:RockMaterial></er:material></er:EarthResourceMaterial></er:composition><er:composition><er:EarthResourceMaterial><er:earthResourceMaterialRole>host rock</er:earthResourceMaterialRole><er:material><gsml:RockMaterial><gsml:purpose>instance</gsml:purpose><gsml:geneticCategory><gsml:CGI_TermValue><gsml:value codeSpace=\"http://urn.opengis.net/\">clastic sediment</gsml:value></gsml:CGI_TermValue></gsml:geneticCategory><gsml:consolidationDegree><gsml:CGI_TermValue><gsml:value codeSpace=\"http://urn.opengis.net/\">urn:ogc:def:nil:OGC::missing</gsml:value></gsml:CGI_TermValue></gsml:consolidationDegree><gsml:lithology xlink:href=\"urn:cgi:classifier:GSNSW:LithologyName:sandstone\" xlink:title=\"sandstone\"/></gsml:RockMaterial></er:material></er:EarthResourceMaterial></er:composition><er:composition><er:EarthResourceMaterial><er:earthResourceMaterialRole>gangue</er:earthResourceMaterialRole><er:material><gsml:Mineral><gsml:purpose>instance</gsml:purpose><gsml:mineralName xlink:href=\"http://www.resources.nsw.gov.au/minerals\" xlink:title=\"quartz\"/></gsml:Mineral></er:material></er:EarthResourceMaterial></er:composition><er:type>occurrence</er:type></er:MineralOccurrence></gsml:specification><gsml:shape><gml:Point srsDimension=\"2\" srsName=\"urn:x-ogc:def:crs:EPSG:4283\"><gml:pos>-31.7582 146.061</gml:pos></gml:Point></gsml:shape></gsml:MappedFeature></gml:featureMember><gml:featureMember><gsml:MappedFeature gml:id=\"gsml.mappedfeature.101001\"><gml:name codeSpace=\"http://www.ietf.org/rfc/rfc2616\">http://gs.geoscience.nsw.gov.au/resource/feature/gsnsw/mappedfeature/101001</gml:name><gsml:observationMethod><gsml:CGI_TermValue><gsml:value codeSpace=\"http://www.resources.nsw.gov.au/minerals\">250K</gsml:value></gsml:CGI_TermValue></gsml:observationMethod><gsml:positionalAccuracy><gsml:CGI_NumericValue><gsml:principalValue uom=\"urn:ogc:def:nil:OGC::unknown\">250.0</gsml:principalValue></gsml:CGI_NumericValue></gsml:positionalAccuracy><gsml:samplingFrame xlink:href=\"http://resource.geosciml.org/uri-cgi/earthnaturalsurface\" xlink:title=\"Earth's Natural Surface\"/><gsml:specification><er:MineralOccurrence gml:id=\"er.mineraloccurrence.101001\"><gml:description>Geological reconnaissance. From vein quartz exposed in a small pit: 700 ppm Cu, 1340 ppm Pb, 1400 ppm Zn, 50 ppm Sb, 30 ppm Co, 150 ppm Ni, 50 ppm Mo and 4 ppm Ag.</gml:description><gml:name codeSpace=\"http://www.ietf.org/rfc/rfc2616\">http://gs.geoscience.nsw.gov.au/resource/feature/gsnsw/mineraloccurrence/101001</gml:name><gsml:observationMethod><gsml:CGI_TermValue><gsml:value codeSpace=\"http://urn.opengis.net/\">company report</gsml:value></gsml:CGI_TermValue></gsml:observationMethod><gsml:purpose>instance</gsml:purpose><gsml:occurrence xlink:href=\"http://gs.geoscience.nsw.gov.au/resource/feature/gsnsw/mappedfeature/101001\"/><gsml:preferredAge><gsml:GeologicEvent><gsml:eventAge><gsml:CGI_TermValue><gsml:value codeSpace=\"http://www.resources.nsw.gov.au/minerals\">UNKNOWN</gsml:value></gsml:CGI_TermValue></gsml:eventAge><gsml:eventProcess><gsml:CGI_TermValue><gsml:value codeSpace=\"urn:ogc:def:nil:OGC::unknown\">UNKNOWN</gsml:value></gsml:CGI_TermValue></gsml:eventProcess></gsml:GeologicEvent></gsml:preferredAge><er:planarOrientation><gsml:CGI_PlanarOrientation><gsml:convention>dip dip direction</gsml:convention><gsml:polarity>unknown</gsml:polarity></gsml:CGI_PlanarOrientation></er:planarOrientation><er:classification><er:MineralDepositModel><er:mineralDepositGroup codeSpace=\"http://www.resources.nsw.gov.au/minerals\">vein hydrothermal</er:mineralDepositGroup><er:mineralDepositType codeSpace=\"http://www.resources.nsw.gov.au/minerals\">unclassified base metal</er:mineralDepositType></er:MineralDepositModel></er:classification><er:commodityDescription><er:Commodity gml:id=\"er.commodity.101001.PB\"><gml:name codeSpace=\"http://www.ietf.org/rfc/rfc2616\">http://gs.geoscience.nsw.gov.au/resource/feature/gsnsw/commodity/101001.PB</gml:name><er:commodityGroup codeSpace=\"http://www.resources.nsw.gov.au/minerals\">base-metal</er:commodityGroup><er:commodityName codeSpace=\"urn:cgi:classifierScheme:GA:commodity\">lead</er:commodityName><er:commodityRank>1</er:commodityRank><er:source xlink:href=\"http://gs.geoscience.nsw.gov.au/resource/feature/gsnsw/mineraloccurrence/101001\"/></er:Commodity></er:commodityDescription><er:commodityDescription><er:Commodity gml:id=\"er.commodity.101001.ZN\"><gml:name codeSpace=\"http://www.ietf.org/rfc/rfc2616\">http://gs.geoscience.nsw.gov.au/resource/feature/gsnsw/commodity/101001.ZN</gml:name><er:commodityGroup codeSpace=\"http://www.resources.nsw.gov.au/minerals\">base-metal</er:commodityGroup><er:commodityName codeSpace=\"urn:cgi:classifierScheme:GA:commodity\">zinc</er:commodityName><er:commodityRank>2</er:commodityRank><er:source xlink:href=\"http://gs.geoscience.nsw.gov.au/resource/feature/gsnsw/mineraloccurrence/101001\"/></er:Commodity></er:commodityDescription><er:composition><er:EarthResourceMaterial><er:earthResourceMaterialRole>host rock</er:earthResourceMaterialRole><er:material><gsml:RockMaterial><gsml:purpose>instance</gsml:purpose><gsml:geneticCategory><gsml:CGI_TermValue><gsml:value codeSpace=\"http://urn.opengis.net/\">metasediment</gsml:value></gsml:CGI_TermValue></gsml:geneticCategory><gsml:consolidationDegree><gsml:CGI_TermValue><gsml:value codeSpace=\"http://urn.opengis.net/\">urn:ogc:def:nil:OGC::missing</gsml:value></gsml:CGI_TermValue></gsml:consolidationDegree><gsml:lithology xlink:href=\"urn:cgi:classifier:GSNSW:LithologyName:phyllite\" xlink:title=\"phyllite\"/></gsml:RockMaterial></er:material></er:EarthResourceMaterial></er:composition><er:type>occurrence</er:type></er:MineralOccurrence></gsml:specification><gsml:shape><gml:Point srsDimension=\"2\" srsName=\"urn:x-ogc:def:crs:EPSG:4283\"><gml:pos>-31.1328 145.732</gml:pos></gml:Point></gsml:shape></gsml:MappedFeature></gml:featureMember><gml:featureMember><gsml:MappedFeature gml:id=\"gsml.mappedfeature.101002\"><gml:name codeSpace=\"http://www.ietf.org/rfc/rfc2616\">http://gs.geoscience.nsw.gov.au/resource/feature/gsnsw/mappedfeature/101002</gml:name><gsml:observationMethod><gsml:CGI_TermValue><gsml:value codeSpace=\"http://www.resources.nsw.gov.au/minerals\">250K</gsml:value></gsml:CGI_TermValue></gsml:observationMethod><gsml:positionalAccuracy><gsml:CGI_NumericValue><gsml:principalValue uom=\"urn:ogc:def:nil:OGC::unknown\">250.0</gsml:principalValue></gsml:CGI_NumericValue></gsml:positionalAccuracy><gsml:samplingFrame xlink:href=\"http://resource.geosciml.org/uri-cgi/earthnaturalsurface\" xlink:title=\"Earth's Natural Surface\"/><gsml:specification><er:MineralOccurrence gml:id=\"er.mineraloccurrence.101002\"><gml:description>The central south prospect is based on a magnetic anomaly south of the central mine.  The axis of the elongate anomaly appears to be approximately along the contact of the great Cobar slate and the Chesney Formation.</gml:description><gml:name codeSpace=\"http://www.resources.nsw.gov.au/minerals\">Central South</gml:name><gml:name codeSpace=\"http://www.ietf.org/rfc/rfc2616\">http://gs.geoscience.nsw.gov.au/resource/feature/gsnsw/mineraloccurrence/101002</gml:name><gsml:observationMethod><gsml:CGI_TermValue><gsml:value codeSpace=\"http://urn.opengis.net/\">company report</gsml:value></gsml:CGI_TermValue></gsml:observationMethod><gsml:purpose>instance</gsml:purpose><gsml:occurrence xlink:href=\"http://gs.geoscience.nsw.gov.au/resource/feature/gsnsw/mappedfeature/101002\"/><gsml:preferredAge><gsml:GeologicEvent><gsml:eventAge><gsml:CGI_TermValue><gsml:value codeSpace=\"http://www.resources.nsw.gov.au/minerals\">Early Devonian</gsml:value></gsml:CGI_TermValue></gsml:eventAge><gsml:eventProcess><gsml:CGI_TermValue><gsml:value codeSpace=\"urn:ogc:def:nil:OGC::unknown\">UNKNOWN</gsml:value></gsml:CGI_TermValue></gsml:eventProcess></gsml:GeologicEvent></gsml:preferredAge><er:planarOrientation><gsml:CGI_PlanarOrientation><gsml:convention>dip dip direction</gsml:convention><gsml:polarity>unknown</gsml:polarity></gsml:CGI_PlanarOrientation></er:planarOrientation><er:classification><er:MineralDepositModel><er:mineralDepositGroup codeSpace=\"http://www.resources.nsw.gov.au/minerals\">Sedex exhalative</er:mineralDepositGroup><er:mineralDepositType codeSpace=\"http://www.resources.nsw.gov.au/minerals\">Cobar type</er:mineralDepositType></er:MineralDepositModel></er:classification><er:commodityDescription><er:Commodity gml:id=\"er.commodity.101002.CU\"><gml:name codeSpace=\"http://www.ietf.org/rfc/rfc2616\">http://gs.geoscience.nsw.gov.au/resource/feature/gsnsw/commodity/101002.CU</gml:name><er:commodityGroup codeSpace=\"http://www.resources.nsw.gov.au/minerals\">base-metal</er:commodityGroup><er:commodityName codeSpace=\"urn:cgi:classifierScheme:GA:commodity\">copper</er:commodityName><er:commodityRank>1</er:commodityRank><er:source xlink:href=\"http://gs.geoscience.nsw.gov.au/resource/feature/gsnsw/mineraloccurrence/101002\"/></er:Commodity></er:commodityDescription><er:composition><er:EarthResourceMaterial><er:earthResourceMaterialRole>host rock</er:earthResourceMaterialRole><er:material><gsml:RockMaterial><gsml:purpose>instance</gsml:purpose><gsml:geneticCategory><gsml:CGI_TermValue><gsml:value codeSpace=\"http://urn.opengis.net/\">metasediment</gsml:value></gsml:CGI_TermValue></gsml:geneticCategory><gsml:consolidationDegree><gsml:CGI_TermValue><gsml:value codeSpace=\"http://urn.opengis.net/\">urn:ogc:def:nil:OGC::missing</gsml:value></gsml:CGI_TermValue></gsml:consolidationDegree><gsml:lithology xlink:href=\"urn:cgi:classifier:GSNSW:LithologyName:slate\" xlink:title=\"slate\"/></gsml:RockMaterial></er:material></er:EarthResourceMaterial></er:composition><er:composition><er:EarthResourceMaterial><er:earthResourceMaterialRole>gangue</er:earthResourceMaterialRole><er:material><gsml:Mineral><gsml:purpose>instance</gsml:purpose><gsml:mineralName xlink:href=\"http://www.resources.nsw.gov.au/minerals\" xlink:title=\"carbonate\"/></gsml:Mineral></er:material></er:EarthResourceMaterial></er:composition><er:composition><er:EarthResourceMaterial><er:earthResourceMaterialRole>primary</er:earthResourceMaterialRole><er:material><gsml:Mineral><gsml:purpose>instance</gsml:purpose><gsml:mineralName xlink:href=\"http://www.resources.nsw.gov.au/minerals\" xlink:title=\"chalcopyrite\"/></gsml:Mineral></er:material></er:EarthResourceMaterial></er:composition><er:composition><er:EarthResourceMaterial><er:earthResourceMaterialRole>primary</er:earthResourceMaterialRole><er:material><gsml:Mineral><gsml:purpose>instance</gsml:purpose><gsml:mineralName xlink:href=\"http://www.resources.nsw.gov.au/minerals\" xlink:title=\"pyrite\"/></gsml:Mineral></er:material></er:EarthResourceMaterial></er:composition><er:composition><er:EarthResourceMaterial><er:earthResourceMaterialRole>primary</er:earthResourceMaterialRole><er:material><gsml:Mineral><gsml:purpose>instance</gsml:purpose><gsml:mineralName xlink:href=\"http://www.resources.nsw.gov.au/minerals\" xlink:title=\"pyrrhotite\"/></gsml:Mineral></er:material></er:EarthResourceMaterial></er:composition><er:composition><er:EarthResourceMaterial><er:earthResourceMaterialRole>gangue</er:earthResourceMaterialRole><er:material><gsml:Mineral><gsml:purpose>instance</gsml:purpose><gsml:mineralName xlink:href=\"http://www.resources.nsw.gov.au/minerals\" xlink:title=\"quartz\"/></gsml:Mineral></er:material></er:EarthResourceMaterial></er:composition><er:type>occurrence</er:type></er:MineralOccurrence></gsml:specification><gsml:shape><gml:Point srsDimension=\"2\" srsName=\"urn:x-ogc:def:crs:EPSG:4283\"><gml:pos>-31.5965 145.93</gml:pos></gml:Point></gsml:shape></gsml:MappedFeature></gml:featureMember><gml:featureMember><gsml:MappedFeature gml:id=\"gsml.mappedfeature.101003\"><gml:name codeSpace=\"http://www.ietf.org/rfc/rfc2616\">http://gs.geoscience.nsw.gov.au/resource/feature/gsnsw/mappedfeature/101003</gml:name><gsml:observationMethod><gsml:CGI_TermValue><gsml:value codeSpace=\"http://www.resources.nsw.gov.au/minerals\">250K</gsml:value></gsml:CGI_TermValue></gsml:observationMethod><gsml:positionalAccuracy><gsml:CGI_NumericValue><gsml:principalValue uom=\"urn:ogc:def:nil:OGC::unknown\">250.0</gsml:principalValue></gsml:CGI_NumericValue></gsml:positionalAccuracy><gsml:samplingFrame xlink:href=\"http://resource.geosciml.org/uri-cgi/earthnaturalsurface\" xlink:title=\"Earth's Natural Surface\"/><gsml:specification><er:MineralOccurrence gml:id=\"er.mineraloccurrence.101003\"><gml:description>Penarroya (Aust) Pty Ltd, 1978: a 21 hole percussion drilling program in vicinity. Shallow drilling at the aeromagnetic anomaly encountered greenish weathered rock (an ultramafic?).</gml:description><gml:name codeSpace=\"http://www.resources.nsw.gov.au/minerals\">Anomaly C9</gml:name><gml:name codeSpace=\"http://www.ietf.org/rfc/rfc2616\">http://gs.geoscience.nsw.gov.au/resource/feature/gsnsw/mineraloccurrence/101003</gml:name><gsml:observationMethod><gsml:CGI_TermValue><gsml:value codeSpace=\"http://urn.opengis.net/\">company report</gsml:value></gsml:CGI_TermValue></gsml:observationMethod><gsml:purpose>instance</gsml:purpose><gsml:occurrence xlink:href=\"http://gs.geoscience.nsw.gov.au/resource/feature/gsnsw/mappedfeature/101003\"/><gsml:preferredAge><gsml:GeologicEvent><gsml:eventAge><gsml:CGI_TermValue><gsml:value codeSpace=\"http://www.resources.nsw.gov.au/minerals\">UNKNOWN</gsml:value></gsml:CGI_TermValue></gsml:eventAge><gsml:eventProcess><gsml:CGI_TermValue><gsml:value codeSpace=\"urn:ogc:def:nil:OGC::unknown\">UNKNOWN</gsml:value></gsml:CGI_TermValue></gsml:eventProcess></gsml:GeologicEvent></gsml:preferredAge><er:planarOrientation><gsml:CGI_PlanarOrientation><gsml:convention>dip dip direction</gsml:convention><gsml:dip><gsml:CGI_NumericValue><gsml:principalValue uom=\"urn:ogc:def:nil:OGC::unknown\">145.0</gsml:principalValue></gsml:CGI_NumericValue></gsml:dip><gsml:polarity>unknown</gsml:polarity></gsml:CGI_PlanarOrientation></er:planarOrientation><er:classification><er:MineralDepositModel><er:mineralDepositGroup codeSpace=\"http://www.resources.nsw.gov.au/minerals\">urn:ogc:def:nil:OGC::unknown</er:mineralDepositGroup><er:mineralDepositType codeSpace=\"http://www.resources.nsw.gov.au/minerals\">unclassified base metal</er:mineralDepositType></er:MineralDepositModel></er:classification><er:commodityDescription><er:Commodity gml:id=\"er.commodity.101003.PB\"><gml:name codeSpace=\"http://www.ietf.org/rfc/rfc2616\">http://gs.geoscience.nsw.gov.au/resource/feature/gsnsw/commodity/101003.PB</gml:name><er:commodityGroup codeSpace=\"http://www.resources.nsw.gov.au/minerals\">base-metal</er:commodityGroup><er:commodityName codeSpace=\"urn:cgi:classifierScheme:GA:commodity\">lead</er:commodityName><er:commodityRank>1</er:commodityRank><er:source xlink:href=\"http://gs.geoscience.nsw.gov.au/resource/feature/gsnsw/mineraloccurrence/101003\"/></er:Commodity></er:commodityDescription><er:composition><er:EarthResourceMaterial><er:earthResourceMaterialRole>host rock</er:earthResourceMaterialRole><er:material><gsml:RockMaterial><gsml:purpose>instance</gsml:purpose><gsml:geneticCategory><gsml:CGI_TermValue><gsml:value codeSpace=\"http://urn.opengis.net/\">ultramafite</gsml:value></gsml:CGI_TermValue></gsml:geneticCategory><gsml:consolidationDegree><gsml:CGI_TermValue><gsml:value codeSpace=\"http://urn.opengis.net/\">urn:ogc:def:nil:OGC::missing</gsml:value></gsml:CGI_TermValue></gsml:consolidationDegree><gsml:lithology xlink:href=\"urn:cgi:classifier:GSNSW:LithologyName:alkaline igneous\" xlink:title=\"alkaline igneous\"/></gsml:RockMaterial></er:material></er:EarthResourceMaterial></er:composition><er:composition><er:EarthResourceMaterial><er:earthResourceMaterialRole>host rock</er:earthResourceMaterialRole><er:material><gsml:RockMaterial><gsml:purpose>instance</gsml:purpose><gsml:geneticCategory><gsml:CGI_TermValue><gsml:value codeSpace=\"http://urn.opengis.net/\">clastic sediment</gsml:value></gsml:CGI_TermValue></gsml:geneticCategory><gsml:consolidationDegree><gsml:CGI_TermValue><gsml:value codeSpace=\"http://urn.opengis.net/\">urn:ogc:def:nil:OGC::missing</gsml:value></gsml:CGI_TermValue></gsml:consolidationDegree><gsml:lithology xlink:href=\"urn:cgi:classifier:GSNSW:LithologyName:siltstone\" xlink:title=\"siltstone\"/></gsml:RockMaterial></er:material></er:EarthResourceMaterial></er:composition><er:type>occurrence</er:type></er:MineralOccurrence></gsml:specification><gsml:shape><gml:Point srsDimension=\"2\" srsName=\"urn:x-ogc:def:crs:EPSG:4283\"><gml:pos>-31.5271 146.327</gml:pos></gml:Point></gsml:shape></gsml:MappedFeature></gml:featureMember><gml:featureMember><gsml:MappedFeature gml:id=\"gsml.mappedfeature.101004\"><gml:name codeSpace=\"http://www.ietf.org/rfc/rfc2616\">http://gs.geoscience.nsw.gov.au/resource/feature/gsnsw/mappedfeature/101004</gml:name><gsml:observationMethod><gsml:CGI_TermValue><gsml:value codeSpace=\"http://www.resources.nsw.gov.au/minerals\">250K</gsml:value></gsml:CGI_TermValue></gsml:observationMethod><gsml:positionalAccuracy><gsml:CGI_NumericValue><gsml:principalValue uom=\"urn:ogc:def:nil:OGC::unknown\">250.0</gsml:principalValue></gsml:CGI_NumericValue></gsml:positionalAccuracy><gsml:samplingFrame xlink:href=\"http://resource.geosciml.org/uri-cgi/earthnaturalsurface\" xlink:title=\"Earth's Natural Surface\"/><gsml:specification><er:MineralOccurrence gml:id=\"er.mineraloccurrence.101004\"><gml:description>This deposit was not visited by the author (LB Gilligan GS1980/097).  Reference in GS1980/097 is E.A. Felton (pers comm).</gml:description><gml:name codeSpace=\"http://www.resources.nsw.gov.au/minerals\">The F-Tree Shaft</gml:name><gml:name codeSpace=\"http://www.ietf.org/rfc/rfc2616\">http://gs.geoscience.nsw.gov.au/resource/feature/gsnsw/mineraloccurrence/101004</gml:name><gsml:observationMethod><gsml:CGI_TermValue><gsml:value codeSpace=\"http://urn.opengis.net/\">company report</gsml:value></gsml:CGI_TermValue></gsml:observationMethod><gsml:purpose>instance</gsml:purpose><gsml:occurrence xlink:href=\"http://gs.geoscience.nsw.gov.au/resource/feature/gsnsw/mappedfeature/101004\"/><gsml:preferredAge><gsml:GeologicEvent><gsml:eventAge><gsml:CGI_TermValue><gsml:value codeSpace=\"http://www.resources.nsw.gov.au/minerals\">UNKNOWN</gsml:value></gsml:CGI_TermValue></gsml:eventAge><gsml:eventProcess><gsml:CGI_TermValue><gsml:value codeSpace=\"urn:ogc:def:nil:OGC::unknown\">UNKNOWN</gsml:value></gsml:CGI_TermValue></gsml:eventProcess></gsml:GeologicEvent></gsml:preferredAge><er:planarOrientation><gsml:CGI_PlanarOrientation><gsml:convention>dip dip direction</gsml:convention><gsml:polarity>unknown</gsml:polarity></gsml:CGI_PlanarOrientation></er:planarOrientation><er:classification><er:MineralDepositModel><er:mineralDepositGroup codeSpace=\"http://www.resources.nsw.gov.au/minerals\">vein hydrothermal</er:mineralDepositGroup><er:mineralDepositType codeSpace=\"http://www.resources.nsw.gov.au/minerals\">Vein Au</er:mineralDepositType></er:MineralDepositModel></er:classification><er:commodityDescription><er:Commodity gml:id=\"er.commodity.101004.AU\"><gml:name codeSpace=\"http://www.ietf.org/rfc/rfc2616\">http://gs.geoscience.nsw.gov.au/resource/feature/gsnsw/commodity/101004.AU</gml:name><er:commodityGroup codeSpace=\"http://www.resources.nsw.gov.au/minerals\">precious-metal</er:commodityGroup><er:commodityName codeSpace=\"urn:cgi:classifierScheme:GA:commodity\">gold</er:commodityName><er:commodityRank>1</er:commodityRank><er:source xlink:href=\"http://gs.geoscience.nsw.gov.au/resource/feature/gsnsw/mineraloccurrence/101004\"/></er:Commodity></er:commodityDescription><er:composition><er:EarthResourceMaterial><er:earthResourceMaterialRole>host rock</er:earthResourceMaterialRole><er:material><gsml:RockMaterial><gsml:purpose>instance</gsml:purpose><gsml:geneticCategory><gsml:CGI_TermValue><gsml:value codeSpace=\"http://urn.opengis.net/\">metasediment</gsml:value></gsml:CGI_TermValue></gsml:geneticCategory><gsml:consolidationDegree><gsml:CGI_TermValue><gsml:value codeSpace=\"http://urn.opengis.net/\">urn:ogc:def:nil:OGC::missing</gsml:value></gsml:CGI_TermValue></gsml:consolidationDegree><gsml:lithology xlink:href=\"urn:cgi:classifier:GSNSW:LithologyName:phyllite\" xlink:title=\"phyllite\"/></gsml:RockMaterial></er:material></er:EarthResourceMaterial></er:composition><er:composition><er:EarthResourceMaterial><er:earthResourceMaterialRole>gangue</er:earthResourceMaterialRole><er:material><gsml:Mineral><gsml:purpose>instance</gsml:purpose><gsml:mineralName xlink:href=\"http://www.resources.nsw.gov.au/minerals\" xlink:title=\"quartz\"/></gsml:Mineral></er:material></er:EarthResourceMaterial></er:composition><er:type>occurrence</er:type></er:MineralOccurrence></gsml:specification><gsml:shape><gml:Point srsDimension=\"2\" srsName=\"urn:x-ogc:def:crs:EPSG:4283\"><gml:pos>-31.6656 146.428</gml:pos></gml:Point></gsml:shape></gsml:MappedFeature></gml:featureMember><gml:featureMember><gsml:MappedFeature gml:id=\"gsml.mappedfeature.101005\"><gml:name codeSpace=\"http://www.ietf.org/rfc/rfc2616\">http://gs.geoscience.nsw.gov.au/resource/feature/gsnsw/mappedfeature/101005</gml:name><gsml:observationMethod><gsml:CGI_TermValue><gsml:value codeSpace=\"http://www.resources.nsw.gov.au/minerals\">250K</gsml:value></gsml:CGI_TermValue></gsml:observationMethod><gsml:positionalAccuracy><gsml:CGI_NumericValue><gsml:principalValue uom=\"urn:ogc:def:nil:OGC::unknown\">250.0</gsml:principalValue></gsml:CGI_NumericValue></gsml:positionalAccuracy><gsml:samplingFrame xlink:href=\"http://resource.geosciml.org/uri-cgi/earthnaturalsurface\" xlink:title=\"Earth's Natural Surface\"/><gsml:specification><er:MineralOccurrence gml:id=\"er.mineraloccurrence.101005\"><gml:description>A few pits have been sunk at zones of strong iron/manganese staining.  Locally the chert is brecciated, gossan-like, and strongly anomalous is Zinc (assay values misplaced).  Some of the rocks are jasperoidal.</gml:description><gml:name codeSpace=\"http://www.resources.nsw.gov.au/minerals\">McManus Prospect</gml:name><gml:name codeSpace=\"http://www.ietf.org/rfc/rfc2616\">http://gs.geoscience.nsw.gov.au/resource/feature/gsnsw/mineraloccurrence/101005</gml:name><gsml:observationMethod><gsml:CGI_TermValue><gsml:value codeSpace=\"http://urn.opengis.net/\">company report</gsml:value></gsml:CGI_TermValue></gsml:observationMethod><gsml:purpose>instance</gsml:purpose><gsml:occurrence xlink:href=\"http://gs.geoscience.nsw.gov.au/resource/feature/gsnsw/mappedfeature/101005\"/><gsml:preferredAge><gsml:GeologicEvent><gsml:eventAge><gsml:CGI_TermValue><gsml:value codeSpace=\"http://www.resources.nsw.gov.au/minerals\">UNKNOWN</gsml:value></gsml:CGI_TermValue></gsml:eventAge><gsml:eventProcess><gsml:CGI_TermValue><gsml:value codeSpace=\"urn:ogc:def:nil:OGC::unknown\">UNKNOWN</gsml:value></gsml:CGI_TermValue></gsml:eventProcess></gsml:GeologicEvent></gsml:preferredAge><er:planarOrientation><gsml:CGI_PlanarOrientation><gsml:convention>dip dip direction</gsml:convention><gsml:azimuth><gsml:CGI_NumericValue><gsml:principalValue uom=\"urn:ogc:def:nil:OGC::unknown\">90.0</gsml:principalValue></gsml:CGI_NumericValue></gsml:azimuth><gsml:dip><gsml:CGI_NumericValue><gsml:principalValue uom=\"urn:ogc:def:nil:OGC::unknown\">245.0</gsml:principalValue></gsml:CGI_NumericValue></gsml:dip><gsml:polarity>unknown</gsml:polarity></gsml:CGI_PlanarOrientation></er:planarOrientation><er:classification><er:MineralDepositModel><er:mineralDepositGroup codeSpace=\"http://www.resources.nsw.gov.au/minerals\">hydrothermal</er:mineralDepositGroup><er:mineralDepositType codeSpace=\"http://www.resources.nsw.gov.au/minerals\">unclassified Fe-Mn</er:mineralDepositType></er:MineralDepositModel></er:classification><er:commodityDescription><er:Commodity gml:id=\"er.commodity.101005.FE\"><gml:name codeSpace=\"http://www.ietf.org/rfc/rfc2616\">http://gs.geoscience.nsw.gov.au/resource/feature/gsnsw/commodity/101005.FE</gml:name><er:commodityGroup codeSpace=\"http://www.resources.nsw.gov.au/minerals\">ferrous-metal</er:commodityGroup><er:commodityName codeSpace=\"urn:cgi:classifierScheme:GA:commodity\">iron</er:commodityName><er:commodityRank>1</er:commodityRank><er:source xlink:href=\"http://gs.geoscience.nsw.gov.au/resource/feature/gsnsw/mineraloccurrence/101005\"/></er:Commodity></er:commodityDescription><er:commodityDescription><er:Commodity gml:id=\"er.commodity.101005.MN\"><gml:name codeSpace=\"http://www.ietf.org/rfc/rfc2616\">http://gs.geoscience.nsw.gov.au/resource/feature/gsnsw/commodity/101005.MN</gml:name><er:commodityGroup codeSpace=\"http://www.resources.nsw.gov.au/minerals\">ferrous-metal</er:commodityGroup><er:commodityName codeSpace=\"urn:cgi:classifierScheme:GA:commodity\">manganese</er:commodityName><er:commodityRank>2</er:commodityRank><er:source xlink:href=\"http://gs.geoscience.nsw.gov.au/resource/feature/gsnsw/mineraloccurrence/101005\"/></er:Commodity></er:commodityDescription><er:composition><er:EarthResourceMaterial><er:earthResourceMaterialRole>host rock</er:earthResourceMaterialRole><er:material><gsml:RockMaterial><gsml:purpose>instance</gsml:purpose><gsml:geneticCategory><gsml:CGI_TermValue><gsml:value codeSpace=\"http://urn.opengis.net/\">clastic sediment</gsml:value></gsml:CGI_TermValue></gsml:geneticCategory><gsml:consolidationDegree><gsml:CGI_TermValue><gsml:value codeSpace=\"http://urn.opengis.net/\">urn:ogc:def:nil:OGC::missing</gsml:value></gsml:CGI_TermValue></gsml:consolidationDegree><gsml:lithology xlink:href=\"urn:cgi:classifier:GSNSW:LithologyName:siltstone\" xlink:title=\"siltstone\"/></gsml:RockMaterial></er:material></er:EarthResourceMaterial></er:composition><er:composition><er:EarthResourceMaterial><er:earthResourceMaterialRole>host rock</er:earthResourceMaterialRole><er:material><gsml:RockMaterial><gsml:purpose>instance</gsml:purpose><gsml:geneticCategory><gsml:CGI_TermValue><gsml:value codeSpace=\"http://urn.opengis.net/\">felsic extrusive</gsml:value></gsml:CGI_TermValue></gsml:geneticCategory><gsml:consolidationDegree><gsml:CGI_TermValue><gsml:value codeSpace=\"http://urn.opengis.net/\">urn:ogc:def:nil:OGC::missing</gsml:value></gsml:CGI_TermValue></gsml:consolidationDegree><gsml:lithology xlink:href=\"urn:cgi:classifier:GSNSW:LithologyName:rhyolite\" xlink:title=\"rhyolite\"/></gsml:RockMaterial></er:material></er:EarthResourceMaterial></er:composition><er:composition><er:EarthResourceMaterial><er:earthResourceMaterialRole>host rock</er:earthResourceMaterialRole><er:material><gsml:RockMaterial><gsml:purpose>instance</gsml:purpose><gsml:geneticCategory><gsml:CGI_TermValue><gsml:value codeSpace=\"http://urn.opengis.net/\">chemical sediment</gsml:value></gsml:CGI_TermValue></gsml:geneticCategory><gsml:consolidationDegree><gsml:CGI_TermValue><gsml:value codeSpace=\"http://urn.opengis.net/\">urn:ogc:def:nil:OGC::missing</gsml:value></gsml:CGI_TermValue></gsml:consolidationDegree><gsml:lithology xlink:href=\"urn:cgi:classifier:GSNSW:LithologyName:chert\" xlink:title=\"chert\"/></gsml:RockMaterial></er:material></er:EarthResourceMaterial></er:composition><er:composition><er:EarthResourceMaterial><er:earthResourceMaterialRole>primary</er:earthResourceMaterialRole><er:material><gsml:Mineral><gsml:purpose>instance</gsml:purpose><gsml:mineralName xlink:href=\"http://www.resources.nsw.gov.au/minerals\" xlink:title=\"mn oxide\"/></gsml:Mineral></er:material></er:EarthResourceMaterial></er:composition><er:type>occurrence</er:type></er:MineralOccurrence></gsml:specification><gsml:shape><gml:Point srsDimension=\"2\" srsName=\"urn:x-ogc:def:crs:EPSG:4283\"><gml:pos>-31.8841 146.461</gml:pos></gml:Point></gsml:shape></gsml:MappedFeature></gml:featureMember><gml:featureMember><gsml:MappedFeature gml:id=\"gsml.mappedfeature.101006\"><gml:name codeSpace=\"http://www.ietf.org/rfc/rfc2616\">http://gs.geoscience.nsw.gov.au/resource/feature/gsnsw/mappedfeature/101006</gml:name><gsml:observationMethod><gsml:CGI_TermValue><gsml:value codeSpace=\"http://www.resources.nsw.gov.au/minerals\">250K</gsml:value></gsml:CGI_TermValue></gsml:observationMethod><gsml:positionalAccuracy><gsml:CGI_NumericValue><gsml:principalValue uom=\"urn:ogc:def:nil:OGC::unknown\">250.0</gsml:principalValue></gsml:CGI_NumericValue></gsml:positionalAccuracy><gsml:samplingFrame xlink:href=\"http://resource.geosciml.org/uri-cgi/earthnaturalsurface\" xlink:title=\"Earth's Natural Surface\"/><gsml:specification><er:MineralOccurrence gml:id=\"er.mineraloccurrence.101006\"><gml:description>Siliceous ironstone and gossan is exposed over a strike length of 700m.  It has a shallow westward dip, opposed to nearby strata, and strikes 165 deg.</gml:description><gml:name codeSpace=\"http://www.resources.nsw.gov.au/minerals\">Sarona Prospect</gml:name><gml:name codeSpace=\"http://www.ietf.org/rfc/rfc2616\">http://gs.geoscience.nsw.gov.au/resource/feature/gsnsw/mineraloccurrence/101006</gml:name><gsml:observationMethod><gsml:CGI_TermValue><gsml:value codeSpace=\"http://urn.opengis.net/\">company report</gsml:value></gsml:CGI_TermValue></gsml:observationMethod><gsml:purpose>instance</gsml:purpose><gsml:occurrence xlink:href=\"http://gs.geoscience.nsw.gov.au/resource/feature/gsnsw/mappedfeature/101006\"/><gsml:preferredAge><gsml:GeologicEvent><gsml:eventAge><gsml:CGI_TermValue><gsml:value codeSpace=\"http://www.resources.nsw.gov.au/minerals\">UNKNOWN</gsml:value></gsml:CGI_TermValue></gsml:eventAge><gsml:eventProcess><gsml:CGI_TermValue><gsml:value codeSpace=\"urn:ogc:def:nil:OGC::unknown\">UNKNOWN</gsml:value></gsml:CGI_TermValue></gsml:eventProcess></gsml:GeologicEvent></gsml:preferredAge><er:planarOrientation><gsml:CGI_PlanarOrientation><gsml:convention>dip dip direction</gsml:convention><gsml:dip><gsml:CGI_NumericValue><gsml:principalValue uom=\"urn:ogc:def:nil:OGC::unknown\">255.0</gsml:principalValue></gsml:CGI_NumericValue></gsml:dip><gsml:polarity>unknown</gsml:polarity></gsml:CGI_PlanarOrientation></er:planarOrientation><er:classification><er:MineralDepositModel><er:mineralDepositGroup codeSpace=\"http://www.resources.nsw.gov.au/minerals\">hydrothermal</er:mineralDepositGroup><er:mineralDepositType codeSpace=\"http://www.resources.nsw.gov.au/minerals\">unclassified base metal</er:mineralDepositType></er:MineralDepositModel></er:classification><er:commodityDescription><er:Commodity gml:id=\"er.commodity.101006.FE\"><gml:name codeSpace=\"http://www.ietf.org/rfc/rfc2616\">http://gs.geoscience.nsw.gov.au/resource/feature/gsnsw/commodity/101006.FE</gml:name><er:commodityGroup codeSpace=\"http://www.resources.nsw.gov.au/minerals\">ferrous-metal</er:commodityGroup><er:commodityName codeSpace=\"urn:cgi:classifierScheme:GA:commodity\">iron</er:commodityName><er:commodityRank>1</er:commodityRank><er:source xlink:href=\"http://gs.geoscience.nsw.gov.au/resource/feature/gsnsw/mineraloccurrence/101006\"/></er:Commodity></er:commodityDescription><er:composition><er:EarthResourceMaterial><er:earthResourceMaterialRole>host rock</er:earthResourceMaterialRole><er:material><gsml:RockMaterial><gsml:purpose>instance</gsml:purpose><gsml:geneticCategory><gsml:CGI_TermValue><gsml:value codeSpace=\"http://urn.opengis.net/\">pyroclastic</gsml:value></gsml:CGI_TermValue></gsml:geneticCategory><gsml:consolidationDegree><gsml:CGI_TermValue><gsml:value codeSpace=\"http://urn.opengis.net/\">urn:ogc:def:nil:OGC::missing</gsml:value></gsml:CGI_TermValue></gsml:consolidationDegree><gsml:lithology xlink:href=\"urn:cgi:classifier:GSNSW:LithologyName:crystal tuff\" xlink:title=\"crystal tuff\"/></gsml:RockMaterial></er:material></er:EarthResourceMaterial></er:composition><er:composition><er:EarthResourceMaterial><er:earthResourceMaterialRole>host rock</er:earthResourceMaterialRole><er:material><gsml:RockMaterial><gsml:purpose>instance</gsml:purpose><gsml:geneticCategory><gsml:CGI_TermValue><gsml:value codeSpace=\"http://urn.opengis.net/\">clastic sediment</gsml:value></gsml:CGI_TermValue></gsml:geneticCategory><gsml:consolidationDegree><gsml:CGI_TermValue><gsml:value codeSpace=\"http://urn.opengis.net/\">urn:ogc:def:nil:OGC::missing</gsml:value></gsml:CGI_TermValue></gsml:consolidationDegree><gsml:lithology xlink:href=\"urn:cgi:classifier:GSNSW:LithologyName:siltstone\" xlink:title=\"siltstone\"/></gsml:RockMaterial></er:material></er:EarthResourceMaterial></er:composition><er:composition><er:EarthResourceMaterial><er:earthResourceMaterialRole>host rock</er:earthResourceMaterialRole><er:material><gsml:RockMaterial><gsml:purpose>instance</gsml:purpose><gsml:geneticCategory><gsml:CGI_TermValue><gsml:value codeSpace=\"http://urn.opengis.net/\">chemical sediment</gsml:value></gsml:CGI_TermValue></gsml:geneticCategory><gsml:consolidationDegree><gsml:CGI_TermValue><gsml:value codeSpace=\"http://urn.opengis.net/\">urn:ogc:def:nil:OGC::missing</gsml:value></gsml:CGI_TermValue></gsml:consolidationDegree><gsml:lithology xlink:href=\"urn:cgi:classifier:GSNSW:LithologyName:ironstone\" xlink:title=\"ironstone\"/></gsml:RockMaterial></er:material></er:EarthResourceMaterial></er:composition><er:composition><er:EarthResourceMaterial><er:earthResourceMaterialRole>primary</er:earthResourceMaterialRole><er:material><gsml:Mineral><gsml:purpose>instance</gsml:purpose><gsml:mineralName xlink:href=\"http://www.resources.nsw.gov.au/minerals\" xlink:title=\"haematite\"/></gsml:Mineral></er:material></er:EarthResourceMaterial></er:composition><er:type>occurrence</er:type></er:MineralOccurrence></gsml:specification><gsml:shape><gml:Point srsDimension=\"2\" srsName=\"urn:x-ogc:def:crs:EPSG:4283\"><gml:pos>-31.8127 146.425</gml:pos></gml:Point></gsml:shape></gsml:MappedFeature></gml:featureMember><gml:featureMember><gsml:MappedFeature gml:id=\"gsml.mappedfeature.101007\"><gml:name codeSpace=\"http://www.ietf.org/rfc/rfc2616\">http://gs.geoscience.nsw.gov.au/resource/feature/gsnsw/mappedfeature/101007</gml:name><gsml:observationMethod><gsml:CGI_TermValue><gsml:value codeSpace=\"http://www.resources.nsw.gov.au/minerals\">250K</gsml:value></gsml:CGI_TermValue></gsml:observationMethod><gsml:positionalAccuracy><gsml:CGI_NumericValue><gsml:principalValue uom=\"urn:ogc:def:nil:OGC::unknown\">250.0</gsml:principalValue></gsml:CGI_NumericValue></gsml:positionalAccuracy><gsml:samplingFrame xlink:href=\"http://resource.geosciml.org/uri-cgi/earthnaturalsurface\" xlink:title=\"Earth's Natural Surface\"/><gsml:specification><er:MineralOccurrence gml:id=\"er.mineraloccurrence.101007\"><gml:description>This prospect has been group reported with the Osterley downs prospect and higher values of around 0.2-0.4% Pb/Zn probably relate only to the latter although sometimes listed (erroneously?) ,</gml:description><gml:name codeSpace=\"http://www.resources.nsw.gov.au/minerals\">Anomaly 10 Prospect</gml:name><gml:name codeSpace=\"http://www.ietf.org/rfc/rfc2616\">http://gs.geoscience.nsw.gov.au/resource/feature/gsnsw/mineraloccurrence/101007</gml:name><gsml:observationMethod><gsml:CGI_TermValue><gsml:value codeSpace=\"http://urn.opengis.net/\">company report</gsml:value></gsml:CGI_TermValue></gsml:observationMethod><gsml:purpose>instance</gsml:purpose><gsml:occurrence xlink:href=\"http://gs.geoscience.nsw.gov.au/resource/feature/gsnsw/mappedfeature/101007\"/><gsml:preferredAge><gsml:GeologicEvent><gsml:eventAge><gsml:CGI_TermValue><gsml:value codeSpace=\"http://www.resources.nsw.gov.au/minerals\">UNKNOWN</gsml:value></gsml:CGI_TermValue></gsml:eventAge><gsml:eventProcess><gsml:CGI_TermValue><gsml:value codeSpace=\"urn:ogc:def:nil:OGC::unknown\">UNKNOWN</gsml:value></gsml:CGI_TermValue></gsml:eventProcess></gsml:GeologicEvent></gsml:preferredAge><er:planarOrientation><gsml:CGI_PlanarOrientation><gsml:convention>dip dip direction</gsml:convention><gsml:polarity>unknown</gsml:polarity></gsml:CGI_PlanarOrientation></er:planarOrientation><er:classification><er:MineralDepositModel><er:mineralDepositGroup codeSpace=\"http://www.resources.nsw.gov.au/minerals\">urn:ogc:def:nil:OGC::unknown</er:mineralDepositGroup><er:mineralDepositType codeSpace=\"http://www.resources.nsw.gov.au/minerals\">unclassified base metal</er:mineralDepositType></er:MineralDepositModel></er:classification><er:commodityDescription><er:Commodity gml:id=\"er.commodity.101007.PB\"><gml:name codeSpace=\"http://www.ietf.org/rfc/rfc2616\">http://gs.geoscience.nsw.gov.au/resource/feature/gsnsw/commodity/101007.PB</gml:name><er:commodityGroup codeSpace=\"http://www.resources.nsw.gov.au/minerals\">base-metal</er:commodityGroup><er:commodityName codeSpace=\"urn:cgi:classifierScheme:GA:commodity\">lead</er:commodityName><er:commodityRank>1</er:commodityRank><er:source xlink:href=\"http://gs.geoscience.nsw.gov.au/resource/feature/gsnsw/mineraloccurrence/101007\"/></er:Commodity></er:commodityDescription><er:composition><er:EarthResourceMaterial><er:earthResourceMaterialRole>host rock</er:earthResourceMaterialRole><er:material><gsml:RockMaterial><gsml:purpose>instance</gsml:purpose><gsml:geneticCategory><gsml:CGI_TermValue><gsml:value codeSpace=\"http://urn.opengis.net/\">intermediate extrusive</gsml:value></gsml:CGI_TermValue></gsml:geneticCategory><gsml:consolidationDegree><gsml:CGI_TermValue><gsml:value codeSpace=\"http://urn.opengis.net/\">urn:ogc:def:nil:OGC::missing</gsml:value></gsml:CGI_TermValue></gsml:consolidationDegree><gsml:lithology xlink:href=\"urn:cgi:classifier:GSNSW:LithologyName:intermediate extrusive\" xlink:title=\"intermediate extrusive\"/></gsml:RockMaterial></er:material></er:EarthResourceMaterial></er:composition><er:composition><er:EarthResourceMaterial><er:earthResourceMaterialRole>host rock</er:earthResourceMaterialRole><er:material><gsml:RockMaterial><gsml:purpose>instance</gsml:purpose><gsml:geneticCategory><gsml:CGI_TermValue><gsml:value codeSpace=\"http://urn.opengis.net/\">clastic sediment</gsml:value></gsml:CGI_TermValue></gsml:geneticCategory><gsml:consolidationDegree><gsml:CGI_TermValue><gsml:value codeSpace=\"http://urn.opengis.net/\">urn:ogc:def:nil:OGC::missing</gsml:value></gsml:CGI_TermValue></gsml:consolidationDegree><gsml:lithology xlink:href=\"urn:cgi:classifier:GSNSW:LithologyName:siltstone\" xlink:title=\"siltstone\"/></gsml:RockMaterial></er:material></er:EarthResourceMaterial></er:composition><er:composition><er:EarthResourceMaterial><er:earthResourceMaterialRole>host rock</er:earthResourceMaterialRole><er:material><gsml:RockMaterial><gsml:purpose>instance</gsml:purpose><gsml:geneticCategory><gsml:CGI_TermValue><gsml:value codeSpace=\"http://urn.opengis.net/\">clastic sediment</gsml:value></gsml:CGI_TermValue></gsml:geneticCategory><gsml:consolidationDegree><gsml:CGI_TermValue><gsml:value codeSpace=\"http://urn.opengis.net/\">urn:ogc:def:nil:OGC::missing</gsml:value></gsml:CGI_TermValue></gsml:consolidationDegree><gsml:lithology xlink:href=\"urn:cgi:classifier:GSNSW:LithologyName:sandstone\" xlink:title=\"sandstone\"/></gsml:RockMaterial></er:material></er:EarthResourceMaterial></er:composition><er:composition><er:EarthResourceMaterial><er:earthResourceMaterialRole>primary</er:earthResourceMaterialRole><er:material><gsml:Mineral><gsml:purpose>instance</gsml:purpose><gsml:mineralName xlink:href=\"http://www.resources.nsw.gov.au/minerals\" xlink:title=\"limonite\"/></gsml:Mineral></er:material></er:EarthResourceMaterial></er:composition><er:composition><er:EarthResourceMaterial><er:earthResourceMaterialRole>primary</er:earthResourceMaterialRole><er:material><gsml:Mineral><gsml:purpose>instance</gsml:purpose><gsml:mineralName xlink:href=\"http://www.resources.nsw.gov.au/minerals\" xlink:title=\"pyrite\"/></gsml:Mineral></er:material></er:EarthResourceMaterial></er:composition><er:type>occurrence</er:type></er:MineralOccurrence></gsml:specification><gsml:shape><gml:Point srsDimension=\"2\" srsName=\"urn:x-ogc:def:crs:EPSG:4283\"><gml:pos>-31.8541 145.778</gml:pos></gml:Point></gsml:shape></gsml:MappedFeature></gml:featureMember><gml:featureMember><gsml:MappedFeature gml:id=\"gsml.mappedfeature.101008\"><gml:name codeSpace=\"http://www.ietf.org/rfc/rfc2616\">http://gs.geoscience.nsw.gov.au/resource/feature/gsnsw/mappedfeature/101008</gml:name><gsml:observationMethod><gsml:CGI_TermValue><gsml:value codeSpace=\"http://www.resources.nsw.gov.au/minerals\">250K</gsml:value></gsml:CGI_TermValue></gsml:observationMethod><gsml:positionalAccuracy><gsml:CGI_NumericValue><gsml:principalValue uom=\"urn:ogc:def:nil:OGC::unknown\">250.0</gsml:principalValue></gsml:CGI_NumericValue></gsml:positionalAccuracy><gsml:samplingFrame xlink:href=\"http://resource.geosciml.org/uri-cgi/earthnaturalsurface\" xlink:title=\"Earth's Natural Surface\"/><gsml:specification><er:MineralOccurrence gml:id=\"er.mineraloccurrence.101008\"><gml:description>The Pooraka prospect was originally defined by an aeromagnetic anomaly (900 gamma) which is coincident with a 0.9 milligal gravity residual and lies in a zone of expected volcanics continuing south to the Harts Tank area (ie. ballast belt).</gml:description><gml:name codeSpace=\"http://www.resources.nsw.gov.au/minerals\">Pooraka Prospect</gml:name><gml:name codeSpace=\"http://www.ietf.org/rfc/rfc2616\">http://gs.geoscience.nsw.gov.au/resource/feature/gsnsw/mineraloccurrence/101008</gml:name><gsml:observationMethod><gsml:CGI_TermValue><gsml:value codeSpace=\"http://urn.opengis.net/\">company report</gsml:value></gsml:CGI_TermValue></gsml:observationMethod><gsml:purpose>instance</gsml:purpose><gsml:occurrence xlink:href=\"http://gs.geoscience.nsw.gov.au/resource/feature/gsnsw/mappedfeature/101008\"/><gsml:preferredAge><gsml:GeologicEvent><gsml:eventAge><gsml:CGI_TermValue><gsml:value codeSpace=\"http://www.resources.nsw.gov.au/minerals\">UNKNOWN</gsml:value></gsml:CGI_TermValue></gsml:eventAge><gsml:eventProcess><gsml:CGI_TermValue><gsml:value codeSpace=\"urn:ogc:def:nil:OGC::unknown\">UNKNOWN</gsml:value></gsml:CGI_TermValue></gsml:eventProcess></gsml:GeologicEvent></gsml:preferredAge><er:planarOrientation><gsml:CGI_PlanarOrientation><gsml:convention>dip dip direction</gsml:convention><gsml:polarity>unknown</gsml:polarity></gsml:CGI_PlanarOrientation></er:planarOrientation><er:classification><er:MineralDepositModel><er:mineralDepositGroup codeSpace=\"http://www.resources.nsw.gov.au/minerals\">urn:ogc:def:nil:OGC::unknown</er:mineralDepositGroup><er:mineralDepositType codeSpace=\"http://www.resources.nsw.gov.au/minerals\">unclassified Cu</er:mineralDepositType></er:MineralDepositModel></er:classification><er:commodityDescription><er:Commodity gml:id=\"er.commodity.101008.CU\"><gml:name codeSpace=\"http://www.ietf.org/rfc/rfc2616\">http://gs.geoscience.nsw.gov.au/resource/feature/gsnsw/commodity/101008.CU</gml:name><er:commodityGroup codeSpace=\"http://www.resources.nsw.gov.au/minerals\">base-metal</er:commodityGroup><er:commodityName codeSpace=\"urn:cgi:classifierScheme:GA:commodity\">copper</er:commodityName><er:commodityRank>1</er:commodityRank><er:source xlink:href=\"http://gs.geoscience.nsw.gov.au/resource/feature/gsnsw/mineraloccurrence/101008\"/></er:Commodity></er:commodityDescription><er:composition><er:EarthResourceMaterial><er:earthResourceMaterialRole>host rock</er:earthResourceMaterialRole><er:material><gsml:RockMaterial><gsml:purpose>instance</gsml:purpose><gsml:geneticCategory><gsml:CGI_TermValue><gsml:value codeSpace=\"http://urn.opengis.net/\">mafic extrusive</gsml:value></gsml:CGI_TermValue></gsml:geneticCategory><gsml:consolidationDegree><gsml:CGI_TermValue><gsml:value codeSpace=\"http://urn.opengis.net/\">urn:ogc:def:nil:OGC::missing</gsml:value></gsml:CGI_TermValue></gsml:consolidationDegree><gsml:lithology xlink:href=\"urn:cgi:classifier:GSNSW:LithologyName:basalt\" xlink:title=\"basalt\"/></gsml:RockMaterial></er:material></er:EarthResourceMaterial></er:composition><er:composition><er:EarthResourceMaterial><er:earthResourceMaterialRole>host rock</er:earthResourceMaterialRole><er:material><gsml:RockMaterial><gsml:purpose>instance</gsml:purpose><gsml:geneticCategory><gsml:CGI_TermValue><gsml:value codeSpace=\"http://urn.opengis.net/\">clastic sediment</gsml:value></gsml:CGI_TermValue></gsml:geneticCategory><gsml:consolidationDegree><gsml:CGI_TermValue><gsml:value codeSpace=\"http://urn.opengis.net/\">urn:ogc:def:nil:OGC::missing</gsml:value></gsml:CGI_TermValue></gsml:consolidationDegree><gsml:lithology xlink:href=\"urn:cgi:classifier:GSNSW:LithologyName:siltstone\" xlink:title=\"siltstone\"/></gsml:RockMaterial></er:material></er:EarthResourceMaterial></er:composition><er:composition><er:EarthResourceMaterial><er:earthResourceMaterialRole>primary</er:earthResourceMaterialRole><er:material><gsml:Mineral><gsml:purpose>instance</gsml:purpose><gsml:mineralName xlink:href=\"http://www.resources.nsw.gov.au/minerals\" xlink:title=\"chalcopyrite\"/></gsml:Mineral></er:material></er:EarthResourceMaterial></er:composition><er:composition><er:EarthResourceMaterial><er:earthResourceMaterialRole>gangue</er:earthResourceMaterialRole><er:material><gsml:Mineral><gsml:purpose>instance</gsml:purpose><gsml:mineralName xlink:href=\"http://www.resources.nsw.gov.au/minerals\" xlink:title=\"dolomite\"/></gsml:Mineral></er:material></er:EarthResourceMaterial></er:composition><er:composition><er:EarthResourceMaterial><er:earthResourceMaterialRole>primary</er:earthResourceMaterialRole><er:material><gsml:Mineral><gsml:purpose>instance</gsml:purpose><gsml:mineralName xlink:href=\"http://www.resources.nsw.gov.au/minerals\" xlink:title=\"pyrite\"/></gsml:Mineral></er:material></er:EarthResourceMaterial></er:composition><er:composition><er:EarthResourceMaterial><er:earthResourceMaterialRole>primary</er:earthResourceMaterialRole><er:material><gsml:Mineral><gsml:purpose>instance</gsml:purpose><gsml:mineralName xlink:href=\"http://www.resources.nsw.gov.au/minerals\" xlink:title=\"sphalerite\"/></gsml:Mineral></er:material></er:EarthResourceMaterial></er:composition><er:type>occurrence</er:type></er:MineralOccurrence></gsml:specification><gsml:shape><gml:Point srsDimension=\"2\" srsName=\"urn:x-ogc:def:crs:EPSG:4283\"><gml:pos>-31.6081 146.47</gml:pos></gml:Point></gsml:shape></gsml:MappedFeature></gml:featureMember><gml:featureMember><gsml:MappedFeature gml:id=\"gsml.mappedfeature.101009\"><gml:name codeSpace=\"http://www.ietf.org/rfc/rfc2616\">http://gs.geoscience.nsw.gov.au/resource/feature/gsnsw/mappedfeature/101009</gml:name><gsml:observationMethod><gsml:CGI_TermValue><gsml:value codeSpace=\"http://www.resources.nsw.gov.au/minerals\">250K</gsml:value></gsml:CGI_TermValue></gsml:observationMethod><gsml:positionalAccuracy><gsml:CGI_NumericValue><gsml:principalValue uom=\"urn:ogc:def:nil:OGC::unknown\">250.0</gsml:principalValue></gsml:CGI_NumericValue></gsml:positionalAccuracy><gsml:samplingFrame xlink:href=\"http://resource.geosciml.org/uri-cgi/earthnaturalsurface\" xlink:title=\"Earth's Natural Surface\"/><gsml:specification><er:MineralOccurrence gml:id=\"er.mineraloccurrence.101009\"><gml:description>A hole (DDH CI) was drilled 402.7 m and traversed an estimated 300 m of strata within the Chesney Formation.  The core contains 2% disseminated sulphides, mainly pyrite and pyrrhotite.</gml:description><gml:name codeSpace=\"http://www.resources.nsw.gov.au/minerals\">Anomoly C1 Prospect</gml:name><gml:name codeSpace=\"http://www.ietf.org/rfc/rfc2616\">http://gs.geoscience.nsw.gov.au/resource/feature/gsnsw/mineraloccurrence/101009</gml:name><gsml:observationMethod><gsml:CGI_TermValue><gsml:value codeSpace=\"http://urn.opengis.net/\">company report</gsml:value></gsml:CGI_TermValue></gsml:observationMethod><gsml:purpose>instance</gsml:purpose><gsml:occurrence xlink:href=\"http://gs.geoscience.nsw.gov.au/resource/feature/gsnsw/mappedfeature/101009\"/><gsml:preferredAge><gsml:GeologicEvent><gsml:eventAge><gsml:CGI_TermValue><gsml:value codeSpace=\"http://www.resources.nsw.gov.au/minerals\">UNKNOWN</gsml:value></gsml:CGI_TermValue></gsml:eventAge><gsml:eventProcess><gsml:CGI_TermValue><gsml:value codeSpace=\"urn:ogc:def:nil:OGC::unknown\">UNKNOWN</gsml:value></gsml:CGI_TermValue></gsml:eventProcess></gsml:GeologicEvent></gsml:preferredAge><er:planarOrientation><gsml:CGI_PlanarOrientation><gsml:convention>dip dip direction</gsml:convention><gsml:azimuth><gsml:CGI_NumericValue><gsml:principalValue uom=\"urn:ogc:def:nil:OGC::unknown\">77.0</gsml:principalValue></gsml:CGI_NumericValue></gsml:azimuth><gsml:dip><gsml:CGI_NumericValue><gsml:principalValue uom=\"urn:ogc:def:nil:OGC::unknown\">270.0</gsml:principalValue></gsml:CGI_NumericValue></gsml:dip><gsml:polarity>unknown</gsml:polarity></gsml:CGI_PlanarOrientation></er:planarOrientation><er:classification><er:MineralDepositModel><er:mineralDepositGroup codeSpace=\"http://www.resources.nsw.gov.au/minerals\">vein hydrothermal</er:mineralDepositGroup><er:mineralDepositType codeSpace=\"http://www.resources.nsw.gov.au/minerals\">polymetallic vein</er:mineralDepositType></er:MineralDepositModel></er:classification><er:commodityDescription><er:Commodity gml:id=\"er.commodity.101009.CU\"><gml:name codeSpace=\"http://www.ietf.org/rfc/rfc2616\">http://gs.geoscience.nsw.gov.au/resource/feature/gsnsw/commodity/101009.CU</gml:name><er:commodityGroup codeSpace=\"http://www.resources.nsw.gov.au/minerals\">base-metal</er:commodityGroup><er:commodityName codeSpace=\"urn:cgi:classifierScheme:GA:commodity\">copper</er:commodityName><er:commodityRank>1</er:commodityRank><er:source xlink:href=\"http://gs.geoscience.nsw.gov.au/resource/feature/gsnsw/mineraloccurrence/101009\"/></er:Commodity></er:commodityDescription><er:composition><er:EarthResourceMaterial><er:earthResourceMaterialRole>host rock</er:earthResourceMaterialRole><er:material><gsml:RockMaterial><gsml:purpose>instance</gsml:purpose><gsml:geneticCategory><gsml:CGI_TermValue><gsml:value codeSpace=\"http://urn.opengis.net/\">clastic sediment</gsml:value></gsml:CGI_TermValue></gsml:geneticCategory><gsml:consolidationDegree><gsml:CGI_TermValue><gsml:value codeSpace=\"http://urn.opengis.net/\">urn:ogc:def:nil:OGC::missing</gsml:value></gsml:CGI_TermValue></gsml:consolidationDegree><gsml:lithology xlink:href=\"urn:cgi:classifier:GSNSW:LithologyName:sandstone\" xlink:title=\"sandstone\"/></gsml:RockMaterial></er:material></er:EarthResourceMaterial></er:composition><er:composition><er:EarthResourceMaterial><er:earthResourceMaterialRole>gangue</er:earthResourceMaterialRole><er:material><gsml:Mineral><gsml:purpose>instance</gsml:purpose><gsml:mineralName xlink:href=\"http://www.resources.nsw.gov.au/minerals\" xlink:title=\"carbonate\"/></gsml:Mineral></er:material></er:EarthResourceMaterial></er:composition><er:composition><er:EarthResourceMaterial><er:earthResourceMaterialRole>primary</er:earthResourceMaterialRole><er:material><gsml:Mineral><gsml:purpose>instance</gsml:purpose><gsml:mineralName xlink:href=\"http://www.resources.nsw.gov.au/minerals\" xlink:title=\"chalcocite\"/></gsml:Mineral></er:material></er:EarthResourceMaterial></er:composition><er:composition><er:EarthResourceMaterial><er:earthResourceMaterialRole>primary</er:earthResourceMaterialRole><er:material><gsml:Mineral><gsml:purpose>instance</gsml:purpose><gsml:mineralName xlink:href=\"http://www.resources.nsw.gov.au/minerals\" xlink:title=\"chalcopyrite\"/></gsml:Mineral></er:material></er:EarthResourceMaterial></er:composition><er:composition><er:EarthResourceMaterial><er:earthResourceMaterialRole>gangue</er:earthResourceMaterialRole><er:material><gsml:Mineral><gsml:purpose>instance</gsml:purpose><gsml:mineralName xlink:href=\"http://www.resources.nsw.gov.au/minerals\" xlink:title=\"chlorite\"/></gsml:Mineral></er:material></er:EarthResourceMaterial></er:composition><er:composition><er:EarthResourceMaterial><er:earthResourceMaterialRole>primary</er:earthResourceMaterialRole><er:material><gsml:Mineral><gsml:purpose>instance</gsml:purpose><gsml:mineralName xlink:href=\"http://www.resources.nsw.gov.au/minerals\" xlink:title=\"galena\"/></gsml:Mineral></er:material></er:EarthResourceMaterial></er:composition><er:composition><er:EarthResourceMaterial><er:earthResourceMaterialRole>primary</er:earthResourceMaterialRole><er:material><gsml:Mineral><gsml:purpose>instance</gsml:purpose><gsml:mineralName xlink:href=\"http://www.resources.nsw.gov.au/minerals\" xlink:title=\"pyrite\"/></gsml:Mineral></er:material></er:EarthResourceMaterial></er:composition><er:composition><er:EarthResourceMaterial><er:earthResourceMaterialRole>primary</er:earthResourceMaterialRole><er:material><gsml:Mineral><gsml:purpose>instance</gsml:purpose><gsml:mineralName xlink:href=\"http://www.resources.nsw.gov.au/minerals\" xlink:title=\"pyrrhotite\"/></gsml:Mineral></er:material></er:EarthResourceMaterial></er:composition><er:composition><er:EarthResourceMaterial><er:earthResourceMaterialRole>gangue</er:earthResourceMaterialRole><er:material><gsml:Mineral><gsml:purpose>instance</gsml:purpose><gsml:mineralName xlink:href=\"http://www.resources.nsw.gov.au/minerals\" xlink:title=\"quartz\"/></gsml:Mineral></er:material></er:EarthResourceMaterial></er:composition><er:composition><er:EarthResourceMaterial><er:earthResourceMaterialRole>primary</er:earthResourceMaterialRole><er:material><gsml:Mineral><gsml:purpose>instance</gsml:purpose><gsml:mineralName xlink:href=\"http://www.resources.nsw.gov.au/minerals\" xlink:title=\"sphalerite\"/></gsml:Mineral></er:material></er:EarthResourceMaterial></er:composition><er:type>occurrence</er:type></er:MineralOccurrence></gsml:specification><gsml:shape><gml:Point srsDimension=\"2\" srsName=\"urn:x-ogc:def:crs:EPSG:4283\"><gml:pos>-31.7428 146.055</gml:pos></gml:Point></gsml:shape></gsml:MappedFeature></gml:featureMember></wfs:FeatureCollection>\n",
      "<Element '{http://www.opengis.net/gml}featureMember' at 0x7f69ed416db8>\n",
      "gml:name gsml:shape/gml:Point/gml:pos gsml:specification/er:MineralOccurrence/er:commodityDescription/er:Commodity\n",
      "None\n"
     ]
    },
    {
     "ename": "AttributeError",
     "evalue": "'NoneType' object has no attribute 'text'",
     "output_type": "error",
     "traceback": [
      "\u001b[0;31m---------------------------------------------------------------------------\u001b[0m",
      "\u001b[0;31mAttributeError\u001b[0m                            Traceback (most recent call last)",
      "\u001b[0;32m<ipython-input-67-e92a22109c56>\u001b[0m in \u001b[0;36m<module>\u001b[0;34m()\u001b[0m\n\u001b[0;32m----> 1\u001b[0;31m \u001b[0mprocess_endpoints\u001b[0m\u001b[0;34m(\u001b[0m\u001b[0;34m'nsw'\u001b[0m\u001b[0;34m,\u001b[0m \u001b[0mservices\u001b[0m\u001b[0;34m[\u001b[0m\u001b[0;34m'nsw'\u001b[0m\u001b[0;34m]\u001b[0m\u001b[0;34m)\u001b[0m\u001b[0;34m\u001b[0m\u001b[0m\n\u001b[0m",
      "\u001b[0;32m<ipython-input-55-6bb566db86c1>\u001b[0m in \u001b[0;36mprocess_endpoints\u001b[0;34m(state, service)\u001b[0m\n\u001b[1;32m     32\u001b[0m     \u001b[0mfeatures\u001b[0m \u001b[0;34m=\u001b[0m \u001b[0mroot\u001b[0m\u001b[0;34m.\u001b[0m\u001b[0mfind\u001b[0m\u001b[0;34m(\u001b[0m\u001b[0;34m'gml:featureMembers'\u001b[0m\u001b[0;34m,\u001b[0m \u001b[0mns\u001b[0m\u001b[0;34m)\u001b[0m \u001b[0;32mor\u001b[0m \u001b[0mroot\u001b[0m\u001b[0;34m.\u001b[0m\u001b[0mfindall\u001b[0m\u001b[0;34m(\u001b[0m\u001b[0;34m'gml:featureMember'\u001b[0m\u001b[0;34m,\u001b[0m \u001b[0mns\u001b[0m\u001b[0;34m)\u001b[0m \u001b[0;32mor\u001b[0m \u001b[0mroot\u001b[0m\u001b[0;34m.\u001b[0m\u001b[0mfindall\u001b[0m\u001b[0;34m(\u001b[0m\u001b[0;34m'wfs:member'\u001b[0m\u001b[0;34m,\u001b[0m \u001b[0mns\u001b[0m\u001b[0;34m)\u001b[0m\u001b[0;34m\u001b[0m\u001b[0m\n\u001b[1;32m     33\u001b[0m     \u001b[0;32mfor\u001b[0m \u001b[0mfeature\u001b[0m \u001b[0;32min\u001b[0m \u001b[0mfeatures\u001b[0m\u001b[0;34m:\u001b[0m\u001b[0;34m\u001b[0m\u001b[0m\n\u001b[0;32m---> 34\u001b[0;31m         \u001b[0mprocess_features\u001b[0m\u001b[0;34m(\u001b[0m\u001b[0mfeature\u001b[0m\u001b[0;34m,\u001b[0m \u001b[0mfeature_type\u001b[0m\u001b[0;34m)\u001b[0m\u001b[0;34m\u001b[0m\u001b[0m\n\u001b[0m\u001b[1;32m     35\u001b[0m     \u001b[0;31m#process_occurrences(occurrences, feature_type)\u001b[0m\u001b[0;34m\u001b[0m\u001b[0;34m\u001b[0m\u001b[0m\n",
      "\u001b[0;32m<ipython-input-66-58cbaf6a28a6>\u001b[0m in \u001b[0;36mprocess_features\u001b[0;34m(feature, feature_type)\u001b[0m\n\u001b[1;32m      9\u001b[0m     \u001b[0mshapes\u001b[0m \u001b[0;34m=\u001b[0m \u001b[0mfeature\u001b[0m\u001b[0;34m.\u001b[0m\u001b[0mfind\u001b[0m\u001b[0;34m(\u001b[0m\u001b[0mshape_path\u001b[0m\u001b[0;34m,\u001b[0m \u001b[0mns\u001b[0m\u001b[0;34m)\u001b[0m\u001b[0;34m\u001b[0m\u001b[0m\n\u001b[1;32m     10\u001b[0m     \u001b[0mcommodities\u001b[0m \u001b[0;34m=\u001b[0m \u001b[0mfeature\u001b[0m\u001b[0;34m.\u001b[0m\u001b[0mfindall\u001b[0m\u001b[0;34m(\u001b[0m\u001b[0mcommods_path\u001b[0m\u001b[0;34m,\u001b[0m \u001b[0mns\u001b[0m\u001b[0;34m)\u001b[0m\u001b[0;34m\u001b[0m\u001b[0m\n\u001b[0;32m---> 11\u001b[0;31m     \u001b[0mprint\u001b[0m\u001b[0;34m(\u001b[0m\u001b[0mshapes\u001b[0m\u001b[0;34m.\u001b[0m\u001b[0mtext\u001b[0m\u001b[0;34m)\u001b[0m\u001b[0;34m\u001b[0m\u001b[0m\n\u001b[0m\u001b[1;32m     12\u001b[0m     \u001b[0mcommods\u001b[0m \u001b[0;34m=\u001b[0m \u001b[0mprocess_commodities\u001b[0m\u001b[0;34m(\u001b[0m\u001b[0mcommodities\u001b[0m\u001b[0;34m)\u001b[0m\u001b[0;34m\u001b[0m\u001b[0m\n\u001b[1;32m     13\u001b[0m     \u001b[0mprint\u001b[0m\u001b[0;34m(\u001b[0m\u001b[0mcommods\u001b[0m\u001b[0;34m)\u001b[0m\u001b[0;34m\u001b[0m\u001b[0m\n",
      "\u001b[0;31mAttributeError\u001b[0m: 'NoneType' object has no attribute 'text'"
     ]
    }
   ],
   "source": [
    "process_endpoints('nsw', services['nsw'])"
   ]
  },
  {
   "cell_type": "code",
   "execution_count": null,
   "metadata": {},
   "outputs": [],
   "source": []
  },
  {
   "cell_type": "code",
   "execution_count": 59,
   "metadata": {},
   "outputs": [],
   "source": [
    "url='https://gs.geoscience.nsw.gov.au/geoserver/wfs?service=WFS&version=1.1.0&request=GetFeature&typeName=gsml:MappedFeature&maxFeatures=10&outputFormat=gml3'"
   ]
  },
  {
   "cell_type": "code",
   "execution_count": 60,
   "metadata": {},
   "outputs": [],
   "source": [
    "response = requests.get(url)"
   ]
  },
  {
   "cell_type": "code",
   "execution_count": 62,
   "metadata": {},
   "outputs": [
    {
     "data": {
      "text/plain": [
       "<Element '{http://www.opengis.net/wfs}FeatureCollection' at 0x7f69ece95138>"
      ]
     },
     "execution_count": 62,
     "metadata": {},
     "output_type": "execute_result"
    }
   ],
   "source": [
    "ElementTree.fromstring(response.text)"
   ]
  },
  {
   "cell_type": "code",
   "execution_count": 64,
   "metadata": {},
   "outputs": [],
   "source": [
    "root = ElementTree.fromstring(response.text)\n",
    "features = root.findall('gml:featureMembers', ns) or root.findall('gml:featureMember', ns) or root.findall('wfs:member', ns)"
   ]
  },
  {
   "cell_type": "code",
   "execution_count": 70,
   "metadata": {},
   "outputs": [],
   "source": [
    "feature = features[0]"
   ]
  },
  {
   "cell_type": "code",
   "execution_count": 75,
   "metadata": {},
   "outputs": [
    {
     "data": {
      "text/plain": [
       "<Element '{http://www.opengis.net/gml}name' at 0x7f69ed0a2318>"
      ]
     },
     "execution_count": 75,
     "metadata": {},
     "output_type": "execute_result"
    }
   ],
   "source": [
    "feature.find('.//gml:name', ns)"
   ]
  },
  {
   "cell_type": "code",
   "execution_count": null,
   "metadata": {},
   "outputs": [],
   "source": []
  }
 ],
 "metadata": {
  "kernelspec": {
   "display_name": "Python 3",
   "language": "python",
   "name": "python3"
  },
  "language_info": {
   "codemirror_mode": {
    "name": "ipython",
    "version": 3
   },
   "file_extension": ".py",
   "mimetype": "text/x-python",
   "name": "python",
   "nbconvert_exporter": "python",
   "pygments_lexer": "ipython3",
   "version": "3.6.3"
  }
 },
 "nbformat": 4,
 "nbformat_minor": 2
}
