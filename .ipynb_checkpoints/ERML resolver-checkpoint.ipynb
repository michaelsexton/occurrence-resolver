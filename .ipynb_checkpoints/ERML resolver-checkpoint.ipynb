{
 "cells": [
  {
   "cell_type": "code",
   "execution_count": 1,
   "metadata": {},
   "outputs": [],
   "source": [
    "import requests\n",
    "from xml.etree import ElementTree"
   ]
  },
  {
   "cell_type": "code",
   "execution_count": 2,
   "metadata": {},
   "outputs": [],
   "source": [
    "ns = {'wfs': 'http://www.opengis.net/wfs',\n",
    "      'er': 'urn:cgi:xmlns:GGIC:EarthResource:1.1',\n",
    "     'gml':'http://www.opengis.net/gml',\n",
    "     'mo': 'http://xmlns.geoscience.gov.au/minoccml/1.0',\n",
    "     'gsml': 'urn:cgi:xmlns:CGI:GeoSciML:2.0'}\n",
    "ElementTree.register_namespace('gsml','urn:cgi:xmlns:CGI:GeoSciML:2.0')"
   ]
  },
  {
   "cell_type": "code",
   "execution_count": 3,
   "metadata": {},
   "outputs": [],
   "source": [
    "services = {'wa' : {\n",
    "                'endpoint': 'http://geossdi.dmp.wa.gov.au/services/wfs',\n",
    "                'feature_type' : 'gsml:MappedFeature',\n",
    "                'er_version' : 1,\n",
    "                'lite_version': 1,\n",
    "            }, 'nt': {\n",
    "                'endpoint' : 'http://geology.data.nt.gov.au:80/geoserver/wfs',\n",
    "                'feature_type' : 'gsml:MappedFeature',\n",
    "                'er_version' : 1,\n",
    "                'lite_version': 1,\n",
    "            },  'vic': {\n",
    "                'endpoint': 'http://geology.data.vic.gov.au/nvcl/wfs',\n",
    "                'feature_type' : 'gsml:MappedFeature',\n",
    "                'er_version' : 1,\n",
    "                'lite_version': 1,\n",
    "            },  'sa': {\n",
    "                'endpoint': 'https://sarigdata.pir.sa.gov.au/nvcl/geoserver/wfs',\n",
    "                'feature_type' : 'gsml:MappedFeature',\n",
    "                'lite_version': 2,\n",
    "                'er_version' : 1\n",
    "            },  'nsw': {\n",
    "                'endpoint': 'https://gs.geoscience.nsw.gov.au/geoserver/wfs',\n",
    "                'feature_type' : 'gsml:MappedFeature',\n",
    "                'lite_version': 1,\n",
    "                'er_version' : 1\n",
    "            },  'tas': {\n",
    "                'endpoint': 'http://www.mrt.tas.gov.au:80/web-services/wfs',\n",
    "                'feature_type' : 'er:MineralOccurrence',\n",
    "                'lite_version': 1,\n",
    "                'er_version' : 2\n",
    "            }\n",
    "           }"
   ]
  },
  {
   "cell_type": "code",
   "execution_count": 4,
   "metadata": {},
   "outputs": [],
   "source": [
    "feature_types = {'er:MineralOccurrence' : {\n",
    "            'occurrence' : 'gml:featureMembers/er:MineralOccurrence',\n",
    "            'name' : 'gml:featureMembers/er:MineralOccurrence/gml:name',\n",
    "            'shape' : 'gml:featureMembers/er:MineralOccurrence/gml:occurrence/gsml:MappedFeature/gml:shape/gml:Point/gml:pos',\n",
    "            'commodities' : 'gml:featureMembers/er:MineralOccurrence/er:commodityDescription/er:Commodity'\n",
    "        }, 'gsml:MappedFeature' : {\n",
    "            'occurrence' : 'gsml:specification/er:MineralOccurrence',\n",
    "            'name' : 'gml:name',\n",
    "            'shape' : 'gsml:shape/gml:Point/gml:pos',\n",
    "            'commodities' : 'gsml:specification/er:MineralOccurrence/er:commodityDescription/er:Commodity'\n",
    "        }}"
   ]
  },
  {
   "cell_type": "code",
   "execution_count": 76,
   "metadata": {},
   "outputs": [
    {
     "name": "stdout",
     "output_type": "stream",
     "text": [
      "gml:name\n",
      "[<Element '{http://www.opengis.net/gml}name' at 0x7fc8d1b44458>]\n",
      "gml:name\n",
      "[<Element '{http://www.opengis.net/gml}name' at 0x7fc8d1b80958>]\n",
      "gml:name\n",
      "[<Element '{http://www.opengis.net/gml}name' at 0x7fc8d1c686d8>]\n",
      "gml:name\n",
      "[<Element '{http://www.opengis.net/gml}name' at 0x7fc8d1a96728>]\n",
      "gml:name\n",
      "[<Element '{http://www.opengis.net/gml}name' at 0x7fc8d1c72868>]\n",
      "gml:name\n",
      "[<Element '{http://www.opengis.net/gml}name' at 0x7fc8d1c786d8>]\n",
      "gml:name\n",
      "[<Element '{http://www.opengis.net/gml}name' at 0x7fc8d1b449f8>, <Element '{http://www.opengis.net/gml}name' at 0x7fc8d1b447c8>]\n",
      "gml:name\n",
      "[<Element '{http://www.opengis.net/gml}name' at 0x7fc8d1b80728>, <Element '{http://www.opengis.net/gml}name' at 0x7fc8d1b80638>]\n",
      "gml:name\n",
      "[<Element '{http://www.opengis.net/gml}name' at 0x7fc8d1b0b368>, <Element '{http://www.opengis.net/gml}name' at 0x7fc8d1b0b8b8>]\n",
      "gml:name\n",
      "[<Element '{http://www.opengis.net/gml}name' at 0x7fc8d1b0b3b8>]\n",
      "gml:name\n",
      "[<Element '{http://www.opengis.net/gml}name' at 0x7fc8d1b80cc8>]\n",
      "gml:name\n",
      "[<Element '{http://www.opengis.net/gml}name' at 0x7fc8d1c78228>]\n"
     ]
    },
    {
     "ename": "TypeError",
     "evalue": "'NoneType' object is not iterable",
     "output_type": "error",
     "traceback": [
      "\u001b[0;31m---------------------------------------------------------------------------\u001b[0m",
      "\u001b[0;31mTypeError\u001b[0m                                 Traceback (most recent call last)",
      "\u001b[0;32m<ipython-input-76-751a8f646f10>\u001b[0m in \u001b[0;36m<module>\u001b[0;34m()\u001b[0m\n\u001b[1;32m      1\u001b[0m \u001b[0;32mfor\u001b[0m \u001b[0mstate\u001b[0m\u001b[0;34m,\u001b[0m \u001b[0mservice\u001b[0m \u001b[0;32min\u001b[0m \u001b[0mservices\u001b[0m\u001b[0;34m.\u001b[0m\u001b[0mitems\u001b[0m\u001b[0;34m(\u001b[0m\u001b[0;34m)\u001b[0m\u001b[0;34m:\u001b[0m\u001b[0;34m\u001b[0m\u001b[0m\n\u001b[0;32m----> 2\u001b[0;31m     \u001b[0mprocess_endpoints\u001b[0m\u001b[0;34m(\u001b[0m\u001b[0mstate\u001b[0m\u001b[0;34m,\u001b[0m \u001b[0mservice\u001b[0m\u001b[0;34m)\u001b[0m\u001b[0;34m\u001b[0m\u001b[0m\n\u001b[0m",
      "\u001b[0;32m<ipython-input-63-eefe2bd32701>\u001b[0m in \u001b[0;36mprocess_endpoints\u001b[0;34m(state, service)\u001b[0m\n\u001b[1;32m     13\u001b[0m     \u001b[0mroot\u001b[0m \u001b[0;34m=\u001b[0m \u001b[0mElementTree\u001b[0m\u001b[0;34m.\u001b[0m\u001b[0mfromstring\u001b[0m\u001b[0;34m(\u001b[0m\u001b[0mresponse\u001b[0m\u001b[0;34m.\u001b[0m\u001b[0mtext\u001b[0m\u001b[0;34m)\u001b[0m\u001b[0;34m\u001b[0m\u001b[0m\n\u001b[1;32m     14\u001b[0m     \u001b[0mfeatures\u001b[0m \u001b[0;34m=\u001b[0m \u001b[0mroot\u001b[0m\u001b[0;34m.\u001b[0m\u001b[0mfind\u001b[0m\u001b[0;34m(\u001b[0m\u001b[0;34m'gml:featureMembers'\u001b[0m\u001b[0;34m,\u001b[0m \u001b[0mns\u001b[0m\u001b[0;34m)\u001b[0m\u001b[0;34m\u001b[0m\u001b[0m\n\u001b[0;32m---> 15\u001b[0;31m     \u001b[0;32mfor\u001b[0m \u001b[0mfeature\u001b[0m \u001b[0;32min\u001b[0m \u001b[0mfeatures\u001b[0m\u001b[0;34m:\u001b[0m\u001b[0;34m\u001b[0m\u001b[0m\n\u001b[0m\u001b[1;32m     16\u001b[0m         \u001b[0mprocess_features\u001b[0m\u001b[0;34m(\u001b[0m\u001b[0mfeature\u001b[0m\u001b[0;34m,\u001b[0m \u001b[0mfeature_type\u001b[0m\u001b[0;34m)\u001b[0m\u001b[0;34m\u001b[0m\u001b[0m\n\u001b[1;32m     17\u001b[0m     \u001b[0;31m#process_occurrences(occurrences, feature_type)\u001b[0m\u001b[0;34m\u001b[0m\u001b[0;34m\u001b[0m\u001b[0m\n",
      "\u001b[0;31mTypeError\u001b[0m: 'NoneType' object is not iterable"
     ]
    }
   ],
   "source": [
    "for state, service in services.items():\n",
    "    process_endpoints(state, service)"
   ]
  },
  {
   "cell_type": "code",
   "execution_count": null,
   "metadata": {},
   "outputs": [],
   "source": []
  },
  {
   "cell_type": "code",
   "execution_count": 5,
   "metadata": {},
   "outputs": [],
   "source": [
    "def process_endpoints(state, service):\n",
    "    \n",
    "    \n",
    "    endpoint = service['endpoint']\n",
    "    feature_type = service['feature_type']\n",
    "\n",
    "    parameters = {'service': 'WFS',\n",
    "              'version' : '1.1.0',\n",
    "              'request' : 'GetFeature',\n",
    "              'typeName' : feature_type,\n",
    "              'maxFeatures' : 3}\n",
    "    response=requests.get(endpoint,params=parameters)\n",
    "    root = ElementTree.fromstring(response.text)\n",
    "    features = root.find('gml:featureMembers', ns)\n",
    "    for feature in features:\n",
    "        process_features(feature, feature_type)\n",
    "    #process_occurrences(occurrences, feature_type)"
   ]
  },
  {
   "cell_type": "code",
   "execution_count": 13,
   "metadata": {},
   "outputs": [],
   "source": [
    "def process_features(feature, feature_type):\n",
    "    name_path = feature_types[feature_type]['name']\n",
    "    shape_path = feature_types[feature_type]['shape']\n",
    "    commods_path=feature_types[feature_type]['commodities']\n",
    "    print(name_path)\n",
    "    names = feature.find(name_path, ns)\n",
    "    shapes = feature.find(shape_path, ns)\n",
    "    commodities = feature.findall(commods_path, ns)\n",
    "    print(shapes.text)\n",
    "    process_commodities(commodities)"
   ]
  },
  {
   "cell_type": "code",
   "execution_count": 14,
   "metadata": {},
   "outputs": [],
   "source": [
    "def process_commodities(commodities):\n",
    "    for commodity in commodities:\n",
    "        print(commodity)"
   ]
  },
  {
   "cell_type": "code",
   "execution_count": 15,
   "metadata": {
    "scrolled": true
   },
   "outputs": [
    {
     "name": "stdout",
     "output_type": "stream",
     "text": [
      "gml:name\n",
      "-28.565092 122.480745\n",
      "<Element '{urn:cgi:xmlns:GGIC:EarthResource:1.1}Commodity' at 0x7f69ed4be318>\n",
      "<Element '{urn:cgi:xmlns:GGIC:EarthResource:1.1}Commodity' at 0x7f69ed4be638>\n",
      "gml:name\n",
      "-26.78737 118.574407\n",
      "<Element '{urn:cgi:xmlns:GGIC:EarthResource:1.1}Commodity' at 0x7f69ed4c1e58>\n",
      "gml:name\n",
      "-29.69063 121.012802\n",
      "<Element '{urn:cgi:xmlns:GGIC:EarthResource:1.1}Commodity' at 0x7f69ed445688>\n"
     ]
    }
   ],
   "source": [
    "process_endpoints('wa', services['wa'])"
   ]
  },
  {
   "cell_type": "code",
   "execution_count": null,
   "metadata": {},
   "outputs": [],
   "source": []
  }
 ],
 "metadata": {
  "kernelspec": {
   "display_name": "Python 3",
   "language": "python",
   "name": "python3"
  },
  "language_info": {
   "codemirror_mode": {
    "name": "ipython",
    "version": 3
   },
   "file_extension": ".py",
   "mimetype": "text/x-python",
   "name": "python",
   "nbconvert_exporter": "python",
   "pygments_lexer": "ipython3",
   "version": "3.6.3"
  }
 },
 "nbformat": 4,
 "nbformat_minor": 2
}
