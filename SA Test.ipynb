{
 "cells": [
  {
   "cell_type": "code",
   "execution_count": 1,
   "metadata": {
    "collapsed": true
   },
   "outputs": [],
   "source": [
    "from resolver import OccurrenceResolver\n",
    "import logging"
   ]
  },
  {
   "cell_type": "code",
   "execution_count": 2,
   "metadata": {
    "collapsed": true
   },
   "outputs": [],
   "source": [
    "sa =  {\n",
    "                'state' : 'sa',\n",
    "                'endpoint': 'https://sarigdata.pir.sa.gov.au/nvcl/geoserver/wfs',\n",
    "                'feature_type' : 'erl:MineralOccurrenceView',\n",
    "                'lite_version': 2,\n",
    "                'er_version' : 1\n",
    "            }"
   ]
  },
  {
   "cell_type": "code",
   "execution_count": 3,
   "metadata": {},
   "outputs": [
    {
     "name": "stdout",
     "output_type": "stream",
     "text": [
      "8920\n"
     ]
    }
   ],
   "source": [
    "occurrence_resolver = OccurrenceResolver(**sa)"
   ]
  },
  {
   "cell_type": "code",
   "execution_count": 4,
   "metadata": {
    "scrolled": true
   },
   "outputs": [
    {
     "name": "stdout",
     "output_type": "stream",
     "text": [
      "https://sarigdata.pir.sa.gov.au/nvcl/geoserver/wfs?request=GetFeature&typeName=erl%3AMineralOccurrenceView&version=1.1.0&maxFeatures=50&service=WFS&outputFormat=gml32\n",
      "100 DONNAS RUSH SOUTH -28.8269495 134.4230371 [[], [('Opl', None, 'major')]]\n",
      "1000 ROYAL CHARLIE -32.3459004 139.6998221 [[], [('Au', None, 'major')]]\n",
      "10000 MUNRO -36.9769736 140.8395558 [[], [('Lst', None, 'major')]]\n",
      "10001 HYNAM -36.9404434 140.8243594 [[], [('Lst', None, 'major')]]\n",
      "10002 HERCULES EAST -32.8150644 136.6287903 [[], [('Mn', None, 'major')]]\n",
      "10003 BALD HILL RIDGE 3 -34.274584 140.003759 [[], [('Cali', None, 'major')]]\n",
      "10004 TENT HILL DAM -32.3578469 137.6027451 [[], [('Cali', None, 'major')]]\n",
      "10005 KOOTABERRA -31.9896682 137.4108179 [[], [('UN', None, 'major')]]\n",
      "10006 MASLIN WELL -31.7769457 137.3024502 [[], [('UN', None, 'major')]]\n",
      "10007 WIRRAMINNA -31.1813873 136.1661494 [[], [('Cali', None, 'major')]]\n",
      "10008 DUCK PONDS 2 -34.7183893 135.7641638 [[], [('Sd', None, 'major')]]\n",
      "10009 DUCK PONDS 3 -34.7285969 135.7467818 [[], [('Sd', None, 'major')]]\n",
      "10010 YARNA -32.0384912 135.1338758 [[], [('Gran', None, 'major')]]\n",
      "10011 SAPPHIRE -26.8875853 133.1751579 [[], [('Cor', None, 'major')]]\n",
      "10012 CHRYSOPRASE -26.8878965 133.1994123 [[], [('Cor', None, 'minor'), ('Chrp', None, 'major')]]\n",
      "10014 PENNESHAW SOUTH -35.7282319 137.9392359 [[], [('UN', None, 'major')]]\n",
      "10015 BROOKER ROAD -34.0876972 136.0423314 [[], [('Sd', None, 'major')]]\n",
      "10016 BIG DIPPER ROAD -33.878287 138.5330385 [[], [('Sdst', None, 'major')]]\n",
      "10017 WOODLANDS BRAE -33.8805394 138.5510258 [[], [('Sdst', None, 'major')]]\n",
      "10018 BLYTH -33.8570307 138.5161434 [[], [('Cy', None, 'major')]]\n",
      "10019 SCOTTYS GRAVE -34.3197758 138.9105048 [[], [('UN', None, 'major')]]\n",
      "1002 LUXEMBURG -32.2650677 140.5652081 [[], [('Au', None, 'major')]]\n",
      "10020 MOYLE ROAD 1 -34.3288385 138.9026725 [[], [('UN', None, 'major')]]\n",
      "10021 MOYLE ROAD 2 -34.3267098 138.8994651 [[], [('UN', None, 'major')]]\n",
      "10022 KANGAWARRI -34.187251 135.911463 [[], [('Gran', None, 'major')]]\n",
      "10023 GANDER ROAD -32.8548319 138.2483401 [[], [('UN', None, 'major')]]\n",
      "10024 WIRRAKINTA -33.0026505 138.2998254 [[], [('UN', None, 'major')]]\n",
      "10025 SAMBELL ROAD -33.1091284 138.4759142 [[], [('UN', None, 'major')]]\n",
      "10026 YACKAMOORUNDIE WEST -33.19613 138.45518 [[], [('Fe', None, 'major'), ('UN', None, 'minor'), ('Sd', None, 'minor')]]\n",
      "10027 LEAKE LOOKOUT -34.2951135 139.1544689 [[], [('Bas', None, 'major'), ('Cu', None, 'minor')]]\n",
      "10028 STUD HOLME -33.7570244 139.1399587 [[], [('Cali', None, 'major')]]\n",
      "10029 CHARLTON None None [[], []]\n",
      "1003 JOHN BROWN REEF -32.2662422 140.5657334 [[], [('Au', None, 'major')]]\n",
      "10030 NORTH None None [[], []]\n",
      "10031 MOUNT ROBINSON -35.5494449 138.4073243 [[], [('Th', None, 'major')]]\n",
      "10032 BUCCLEUCH -35.3373865 139.8553827 [[], [('Cali', None, 'major')]]\n",
      "10033 MOUNT VICTOR -32.0090907 139.5997909 [[], [('Fe', None, 'major')]]\n",
      "10034 KOLBALLA -33.2966985 134.9761552 [[], [('HM', None, 'major')]]\n",
      "10035 NEW CALLAWONGA -35.588863 138.382067 [[], [('Au', None, 'major')]]\n",
      "10036 TEPCO -32.1889641 140.793128 [[], [('Au', None, 'major')]]\n",
      "10037 CANNAWIGARA -36.2436476 140.4565386 [[], [('HM', None, 'major')]]\n",
      "10038 CYCLONE -28.828371 128.7334989 [[], [('HM', None, 'major')]]\n",
      "10039 ZEPHYR -28.7832793 128.7541048 [[], [('HM', None, 'major')]]\n",
      "1004 QUEEN BEE -32.2682287 140.5662548 [[], [('Au', None, 'minor'), ('Cu', None, 'major')]]\n",
      "10040 LEFROY None None [[], []]\n",
      "10041 MCLAREN None None [[], []]\n",
      "10042 PLUMRIDGE None None [[], []]\n",
      "10043 BOTENELLA GATE -32.8972332 136.5791913 [[], [('Ag', None, 'major')]]\n",
      "10046 WHEY WHEY CREEK -32.2222412 140.0567625 [[], [('Tlc', None, 'major')]]\n",
      "10047 WILLS -34.6472224 138.8834471 [[], [('Sd', None, 'major')]]\n"
     ]
    }
   ],
   "source": [
    "occurrence_resolver.process_endpoints()"
   ]
  },
  {
   "cell_type": "code",
   "execution_count": null,
   "metadata": {
    "collapsed": true
   },
   "outputs": [],
   "source": []
  }
 ],
 "metadata": {
  "kernelspec": {
   "display_name": "Python 3",
   "language": "python",
   "name": "python3"
  },
  "language_info": {
   "codemirror_mode": {
    "name": "ipython",
    "version": 3
   },
   "file_extension": ".py",
   "mimetype": "text/x-python",
   "name": "python",
   "nbconvert_exporter": "python",
   "pygments_lexer": "ipython3",
   "version": "3.5.2"
  }
 },
 "nbformat": 4,
 "nbformat_minor": 2
}
